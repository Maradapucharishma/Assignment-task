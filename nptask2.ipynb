{
 "cells": [
  {
   "cell_type": "code",
   "execution_count": null,
   "id": "1fe28792",
   "metadata": {},
   "outputs": [],
   "source": [
    "Creation of ndarray\n",
    "\n",
    "1.Write python code to create 3d array in different ways with 15 elements.\n",
    "2.Array Creation:\n",
    "    \n",
    "a. Create a 4D NumPy array containing the first 12 positive integers as arr1. \n",
    "b. Create a 3D NumPy array1 with 20 random elements containing integers between 0 and 1. \n",
    "\n",
    "3. Find all attributes of array1 and array2 \n",
    "4. Apply measure and describe the data (attributes and descriptive statistics) to above arrays using NumPy.\n",
    "\n",
    "Array Slicing and Indexing:\n",
    "\n",
    "a. Creating Arrays: - Create a 1-dimensional NumPy array arr1 with the values [0, 11, 26, 73, 42, 51, 6,77, 8,29]. \n",
    "- Create a 2-dimensional NumPy array arr2 with the values [[0, 1, 2], [3, 4, 5], [6, 7, 8]].\n",
    "b.Basic Indexing: - Print the element at index 3 of arr1. \n",
    "- Print the element at row 2, column 1 of arr2\n",
    "c. Array Slicing: - Print the first five elements of arr1. \n",
    "- Print the subarray of arr2 consisting of the last two rows and the first two columns. \n",
    "- Print every second element starting from index 1 up to index 7 of arr1.\n",
    "\n",
    "Data Type Manipulation\n",
    "a. Creating Arrays with Specific Data Types: \n",
    "    - Create a 1-dimensional NumPy array int_array with the values [1, 2, 3, 4, 5] and the data type int16. \n",
    "    - Create a 1-dimensional NumPy array float_array with the values [0.1, 0.2, 0.3, 0.4, 0.5] and the data type float64.\n",
    "b. Data Type Conversion: - Convert the float_array to an array with data type int32. Print the result. \n",
    "    - Convert the int_array to an array with data type float32. Print the result.\n",
    "\n",
    "Generating Random Numbers:\n",
    "\n",
    "Use numpy.random.randint() to create an array rand_integers containing 10 random integers between 0 and 100 (inclusive).\n",
    "Use numpy.random.uniform() to create an array rand_uniform containing 5 random numbers sampled from a uniform distribution between -1 and 1.\n",
    "Create an array rand_matrix with random integers between 50 and 100 (inclusive).and reshape it to 2-dimensional (4 x 4) matrix\n",
    "Apply descriptive statistics for rand_matrix.\n",
    "\n",
    "Analyze the Data:\n",
    "Salaries = [87877, 54494, 54804, 85051, 52453, 31250, 94868, 66349, 39828, 60501, 58570, 74906, 41671, 51428, 56414, 98446, 56819, 82833, 50477, 62898, 99658, 89224, 34225, 79172, 32199, 63795, 90947, 55723, 64557, 3113638]\n",
    "\n",
    "Describe the data using numpy array. Measure the following:\n",
    "1.How many employees are getting more less than 50000?\n",
    "2.Is it following Normal Distribution?\n",
    "3.What is the median salary?\n",
    "4.What is the range of salaries for this company?\n",
    "5.Find the salaries between average salary and 75% of salaries?\n",
    "6.How many employees are getting less than 25 % of salaries ?\n",
    "\n",
    " "
   ]
  },
  {
   "cell_type": "markdown",
   "id": "04fe4c42",
   "metadata": {},
   "source": [
    "### creation"
   ]
  },
  {
   "cell_type": "markdown",
   "id": "db99fc85",
   "metadata": {},
   "source": [
    "#### 1.Write python code to create 3d array in different ways with 15 elements."
   ]
  },
  {
   "cell_type": "code",
   "execution_count": 2,
   "id": "9f5b1144",
   "metadata": {},
   "outputs": [],
   "source": [
    "import numpy as np"
   ]
  },
  {
   "cell_type": "code",
   "execution_count": 5,
   "id": "37992841",
   "metadata": {},
   "outputs": [
    {
     "data": {
      "text/plain": [
       "array([[[ 1,  2,  3,  4,  5,  6,  7,  8,  9, 10, 11, 12, 13, 14, 15]]])"
      ]
     },
     "execution_count": 5,
     "metadata": {},
     "output_type": "execute_result"
    }
   ],
   "source": [
    "#using ndimn\n",
    "arr1 = np.array([1,2,3,4,5,6,7,8,9,10,11,12,13,14,15],ndmin=3)\n",
    "arr1"
   ]
  },
  {
   "cell_type": "code",
   "execution_count": 6,
   "id": "94374f15",
   "metadata": {},
   "outputs": [
    {
     "data": {
      "text/plain": [
       "3"
      ]
     },
     "execution_count": 6,
     "metadata": {},
     "output_type": "execute_result"
    }
   ],
   "source": [
    "arr1.ndim"
   ]
  },
  {
   "cell_type": "code",
   "execution_count": 7,
   "id": "30b6c756",
   "metadata": {},
   "outputs": [
    {
     "data": {
      "text/plain": [
       "array([[[ 1,  2,  3,  4,  5,  6,  7,  8,  9, 10, 11, 12, 13, 14, 15]]])"
      ]
     },
     "execution_count": 7,
     "metadata": {},
     "output_type": "execute_result"
    }
   ],
   "source": [
    "#using square bracket\n",
    "arr2 = np.array([[[1,2,3,4,5,6,7,8,9,10,11,12,13,14,15]]])\n",
    "arr2"
   ]
  },
  {
   "cell_type": "code",
   "execution_count": 8,
   "id": "ed759315",
   "metadata": {},
   "outputs": [
    {
     "data": {
      "text/plain": [
       "3"
      ]
     },
     "execution_count": 8,
     "metadata": {},
     "output_type": "execute_result"
    }
   ],
   "source": [
    "arr2.ndim"
   ]
  },
  {
   "cell_type": "code",
   "execution_count": 11,
   "id": "8fe75333",
   "metadata": {},
   "outputs": [
    {
     "data": {
      "text/plain": [
       "array([[[ 1,  2,  3,  4,  5]],\n",
       "\n",
       "       [[ 6,  7,  8,  9, 10]],\n",
       "\n",
       "       [[11, 12, 13, 14, 15]]])"
      ]
     },
     "execution_count": 11,
     "metadata": {},
     "output_type": "execute_result"
    }
   ],
   "source": [
    "arr3 = np.array([1,2,3,4,5,6,7,8,9,10,11,12,13,14,15]).reshape(3,1,5)\n",
    "arr3"
   ]
  },
  {
   "cell_type": "code",
   "execution_count": 12,
   "id": "31c01333",
   "metadata": {},
   "outputs": [
    {
     "data": {
      "text/plain": [
       "3"
      ]
     },
     "execution_count": 12,
     "metadata": {},
     "output_type": "execute_result"
    }
   ],
   "source": [
    "arr3.ndim"
   ]
  },
  {
   "cell_type": "code",
   "execution_count": 15,
   "id": "7939b4d3",
   "metadata": {},
   "outputs": [
    {
     "data": {
      "text/plain": [
       "array([[[ 1,  2,  3]],\n",
       "\n",
       "       [[ 4,  5,  6]],\n",
       "\n",
       "       [[ 7,  8,  9]],\n",
       "\n",
       "       [[10, 11, 12]],\n",
       "\n",
       "       [[13, 14, 15]]])"
      ]
     },
     "execution_count": 15,
     "metadata": {},
     "output_type": "execute_result"
    }
   ],
   "source": [
    "arr4 = np.arange(1,16,1).reshape(5,1,3)\n",
    "arr4"
   ]
  },
  {
   "cell_type": "code",
   "execution_count": 16,
   "id": "bca28aab",
   "metadata": {},
   "outputs": [
    {
     "data": {
      "text/plain": [
       "3"
      ]
     },
     "execution_count": 16,
     "metadata": {},
     "output_type": "execute_result"
    }
   ],
   "source": [
    "arr4.ndim"
   ]
  },
  {
   "cell_type": "markdown",
   "id": "235f1b2c",
   "metadata": {},
   "source": [
    "### 2.Array Creation:"
   ]
  },
  {
   "cell_type": "markdown",
   "id": "e1ff9bf2",
   "metadata": {},
   "source": [
    "#### a. Create a 4D NumPy array containing the first 12 positive integers as arr1. "
   ]
  },
  {
   "cell_type": "code",
   "execution_count": 5,
   "id": "9f05b597",
   "metadata": {},
   "outputs": [
    {
     "data": {
      "text/plain": [
       "array([[[[ 1,  2]],\n",
       "\n",
       "        [[ 3,  4]],\n",
       "\n",
       "        [[ 5,  6]]],\n",
       "\n",
       "\n",
       "       [[[ 7,  8]],\n",
       "\n",
       "        [[ 9, 10]],\n",
       "\n",
       "        [[11, 12]]]])"
      ]
     },
     "execution_count": 5,
     "metadata": {},
     "output_type": "execute_result"
    }
   ],
   "source": [
    "arr1 = np.arange(1,13,1).reshape(2,3,1,2)\n",
    "arr1"
   ]
  },
  {
   "cell_type": "code",
   "execution_count": 19,
   "id": "57f56fa2",
   "metadata": {},
   "outputs": [
    {
     "data": {
      "text/plain": [
       "4"
      ]
     },
     "execution_count": 19,
     "metadata": {},
     "output_type": "execute_result"
    }
   ],
   "source": [
    "arr1.ndim"
   ]
  },
  {
   "cell_type": "markdown",
   "id": "6326cecd",
   "metadata": {},
   "source": [
    "#### b. Create a 3D NumPy array1 with 20 random elements containing integers between 0 and 1. "
   ]
  },
  {
   "cell_type": "code",
   "execution_count": 4,
   "id": "91840a69",
   "metadata": {},
   "outputs": [
    {
     "data": {
      "text/plain": [
       "array([1, 1, 1, 1, 1, 1, 1, 0, 1, 1, 0, 1, 0, 0, 0, 1, 0, 1, 0, 0])"
      ]
     },
     "execution_count": 4,
     "metadata": {},
     "output_type": "execute_result"
    }
   ],
   "source": [
    "array1 = np.random.randint(0,2,20)\n",
    "array1"
   ]
  },
  {
   "cell_type": "markdown",
   "id": "87999fb1",
   "metadata": {},
   "source": [
    "#### 3. Find all attributes of array1 and array2 "
   ]
  },
  {
   "cell_type": "markdown",
   "id": "ee408661",
   "metadata": {},
   "source": [
    "##### arr1"
   ]
  },
  {
   "cell_type": "code",
   "execution_count": 6,
   "id": "cf4bd37e",
   "metadata": {},
   "outputs": [
    {
     "data": {
      "text/plain": [
       "array([[[[ 1,  2]],\n",
       "\n",
       "        [[ 3,  4]],\n",
       "\n",
       "        [[ 5,  6]]],\n",
       "\n",
       "\n",
       "       [[[ 7,  8]],\n",
       "\n",
       "        [[ 9, 10]],\n",
       "\n",
       "        [[11, 12]]]])"
      ]
     },
     "execution_count": 6,
     "metadata": {},
     "output_type": "execute_result"
    }
   ],
   "source": [
    "arr1"
   ]
  },
  {
   "cell_type": "code",
   "execution_count": 7,
   "id": "a52642ca",
   "metadata": {},
   "outputs": [
    {
     "data": {
      "text/plain": [
       "4"
      ]
     },
     "execution_count": 7,
     "metadata": {},
     "output_type": "execute_result"
    }
   ],
   "source": [
    "arr1.ndim"
   ]
  },
  {
   "cell_type": "code",
   "execution_count": 8,
   "id": "6b15b7e9",
   "metadata": {},
   "outputs": [
    {
     "data": {
      "text/plain": [
       "48"
      ]
     },
     "execution_count": 8,
     "metadata": {},
     "output_type": "execute_result"
    }
   ],
   "source": [
    "arr1.nbytes"
   ]
  },
  {
   "cell_type": "code",
   "execution_count": 9,
   "id": "a502a9d6",
   "metadata": {},
   "outputs": [
    {
     "data": {
      "text/plain": [
       "dtype('int32')"
      ]
     },
     "execution_count": 9,
     "metadata": {},
     "output_type": "execute_result"
    }
   ],
   "source": [
    "arr1.dtype"
   ]
  },
  {
   "cell_type": "code",
   "execution_count": 10,
   "id": "87916882",
   "metadata": {},
   "outputs": [
    {
     "data": {
      "text/plain": [
       "4"
      ]
     },
     "execution_count": 10,
     "metadata": {},
     "output_type": "execute_result"
    }
   ],
   "source": [
    "arr1.itemsize"
   ]
  },
  {
   "cell_type": "code",
   "execution_count": 11,
   "id": "5c8cf35e",
   "metadata": {},
   "outputs": [
    {
     "data": {
      "text/plain": [
       "12"
      ]
     },
     "execution_count": 11,
     "metadata": {},
     "output_type": "execute_result"
    }
   ],
   "source": [
    "arr1.size"
   ]
  },
  {
   "cell_type": "markdown",
   "id": "d2a2325d",
   "metadata": {},
   "source": [
    "##### array2"
   ]
  },
  {
   "cell_type": "code",
   "execution_count": 13,
   "id": "97a44ea2",
   "metadata": {},
   "outputs": [
    {
     "data": {
      "text/plain": [
       "array([[[0.48407378, 0.86967777, 0.35148575, 0.30731778]],\n",
       "\n",
       "       [[0.56466842, 0.64486819, 0.66723876, 0.18284985]],\n",
       "\n",
       "       [[0.14159526, 0.89530717, 0.13750915, 0.37828046]],\n",
       "\n",
       "       [[0.3523657 , 0.91566425, 0.24185047, 0.98682537]],\n",
       "\n",
       "       [[0.1037163 , 0.80027033, 0.64879701, 0.98770743]]])"
      ]
     },
     "execution_count": 13,
     "metadata": {},
     "output_type": "execute_result"
    }
   ],
   "source": [
    "array2 = np.random.rand(5,1,4)\n",
    "array2"
   ]
  },
  {
   "cell_type": "code",
   "execution_count": 14,
   "id": "c2075c6c",
   "metadata": {},
   "outputs": [
    {
     "data": {
      "text/plain": [
       "3"
      ]
     },
     "execution_count": 14,
     "metadata": {},
     "output_type": "execute_result"
    }
   ],
   "source": [
    "array2.ndim"
   ]
  },
  {
   "cell_type": "code",
   "execution_count": 15,
   "id": "30868741",
   "metadata": {},
   "outputs": [
    {
     "data": {
      "text/plain": [
       "dtype('float64')"
      ]
     },
     "execution_count": 15,
     "metadata": {},
     "output_type": "execute_result"
    }
   ],
   "source": [
    "array2.dtype"
   ]
  },
  {
   "cell_type": "code",
   "execution_count": 16,
   "id": "d7423bad",
   "metadata": {},
   "outputs": [
    {
     "data": {
      "text/plain": [
       "160"
      ]
     },
     "execution_count": 16,
     "metadata": {},
     "output_type": "execute_result"
    }
   ],
   "source": [
    "array2.nbytes"
   ]
  },
  {
   "cell_type": "code",
   "execution_count": 17,
   "id": "0ef73ccb",
   "metadata": {},
   "outputs": [
    {
     "data": {
      "text/plain": [
       "20"
      ]
     },
     "execution_count": 17,
     "metadata": {},
     "output_type": "execute_result"
    }
   ],
   "source": [
    "array2.size"
   ]
  },
  {
   "cell_type": "code",
   "execution_count": 18,
   "id": "74a2601f",
   "metadata": {},
   "outputs": [
    {
     "data": {
      "text/plain": [
       "8"
      ]
     },
     "execution_count": 18,
     "metadata": {},
     "output_type": "execute_result"
    }
   ],
   "source": [
    "array2.itemsize"
   ]
  },
  {
   "cell_type": "markdown",
   "id": "2151816a",
   "metadata": {},
   "source": [
    "#### 4. Apply measure and describe the data (attributes and descriptive statistics) to above arrays using NumPy."
   ]
  },
  {
   "cell_type": "markdown",
   "id": "15e8c383",
   "metadata": {},
   "source": [
    "##### arr1"
   ]
  },
  {
   "cell_type": "markdown",
   "id": "2cf4befc",
   "metadata": {},
   "source": [
    "**Describe**\n",
    "* structure(rowsxcolumns) : 6x2\n",
    "* datatype : int32\n",
    "* outliers : 0\n",
    "* Missing values : 0"
   ]
  },
  {
   "cell_type": "markdown",
   "id": "9c6392a9",
   "metadata": {},
   "source": [
    "#### Measure of central tendency"
   ]
  },
  {
   "cell_type": "code",
   "execution_count": 19,
   "id": "3be4988e",
   "metadata": {},
   "outputs": [
    {
     "data": {
      "text/plain": [
       "6.5"
      ]
     },
     "execution_count": 19,
     "metadata": {},
     "output_type": "execute_result"
    }
   ],
   "source": [
    "#mean\n",
    "np.mean(arr1)"
   ]
  },
  {
   "cell_type": "code",
   "execution_count": 20,
   "id": "82c042bb",
   "metadata": {},
   "outputs": [
    {
     "data": {
      "text/plain": [
       "6.5"
      ]
     },
     "execution_count": 20,
     "metadata": {},
     "output_type": "execute_result"
    }
   ],
   "source": [
    "#median\n",
    "np.median(arr1)"
   ]
  },
  {
   "cell_type": "markdown",
   "id": "fef7f31a",
   "metadata": {},
   "source": [
    "#### Measure of spread"
   ]
  },
  {
   "cell_type": "code",
   "execution_count": 21,
   "id": "cc062c59",
   "metadata": {},
   "outputs": [
    {
     "data": {
      "text/plain": [
       "12"
      ]
     },
     "execution_count": 21,
     "metadata": {},
     "output_type": "execute_result"
    }
   ],
   "source": [
    "#range\n",
    "#max\n",
    "np.max(arr1)"
   ]
  },
  {
   "cell_type": "code",
   "execution_count": 22,
   "id": "b256366d",
   "metadata": {},
   "outputs": [
    {
     "data": {
      "text/plain": [
       "1"
      ]
     },
     "execution_count": 22,
     "metadata": {},
     "output_type": "execute_result"
    }
   ],
   "source": [
    "#min\n",
    "np.min(arr1)"
   ]
  },
  {
   "cell_type": "code",
   "execution_count": 23,
   "id": "54b7878c",
   "metadata": {},
   "outputs": [
    {
     "data": {
      "text/plain": [
       "11"
      ]
     },
     "execution_count": 23,
     "metadata": {},
     "output_type": "execute_result"
    }
   ],
   "source": [
    "range = np.max(arr1)-np.min(arr1)\n",
    "range"
   ]
  },
  {
   "cell_type": "code",
   "execution_count": 24,
   "id": "4decc24a",
   "metadata": {},
   "outputs": [
    {
     "data": {
      "text/plain": [
       "3.75"
      ]
     },
     "execution_count": 24,
     "metadata": {},
     "output_type": "execute_result"
    }
   ],
   "source": [
    "#IQR\n",
    "#q1\n",
    "q1 = np.percentile(arr1,25)\n",
    "q1"
   ]
  },
  {
   "cell_type": "code",
   "execution_count": 26,
   "id": "138ec3e2",
   "metadata": {},
   "outputs": [
    {
     "data": {
      "text/plain": [
       "9.25"
      ]
     },
     "execution_count": 26,
     "metadata": {},
     "output_type": "execute_result"
    }
   ],
   "source": [
    "#q3\n",
    "q3 = np.percentile(arr1,75)\n",
    "q3"
   ]
  },
  {
   "cell_type": "code",
   "execution_count": 27,
   "id": "1e1ca749",
   "metadata": {},
   "outputs": [
    {
     "data": {
      "text/plain": [
       "5.5"
      ]
     },
     "execution_count": 27,
     "metadata": {},
     "output_type": "execute_result"
    }
   ],
   "source": [
    "#IQR\n",
    "IQR = q3-q1\n",
    "IQR"
   ]
  },
  {
   "cell_type": "code",
   "execution_count": 28,
   "id": "6552c641",
   "metadata": {},
   "outputs": [
    {
     "data": {
      "text/plain": [
       "-4.5"
      ]
     },
     "execution_count": 28,
     "metadata": {},
     "output_type": "execute_result"
    }
   ],
   "source": [
    "lower = q1-(1.5*IQR)\n",
    "lower"
   ]
  },
  {
   "cell_type": "code",
   "execution_count": 29,
   "id": "5414f956",
   "metadata": {},
   "outputs": [
    {
     "data": {
      "text/plain": [
       "17.5"
      ]
     },
     "execution_count": 29,
     "metadata": {},
     "output_type": "execute_result"
    }
   ],
   "source": [
    "upper = q3+(1.5*IQR)\n",
    "upper"
   ]
  },
  {
   "cell_type": "code",
   "execution_count": 34,
   "id": "0d645cd9",
   "metadata": {},
   "outputs": [
    {
     "name": "stdout",
     "output_type": "stream",
     "text": [
      "[]\n",
      "[]\n"
     ]
    }
   ],
   "source": [
    "#outliers\n",
    "print(arr1[arr1>upper])\n",
    "print(arr1[arr1<lower])   #no outliers"
   ]
  },
  {
   "cell_type": "code",
   "execution_count": 31,
   "id": "30bb0de4",
   "metadata": {},
   "outputs": [
    {
     "data": {
      "text/plain": [
       "11.916666666666666"
      ]
     },
     "execution_count": 31,
     "metadata": {},
     "output_type": "execute_result"
    }
   ],
   "source": [
    "#variance\n",
    "np.var(arr1)"
   ]
  },
  {
   "cell_type": "code",
   "execution_count": 32,
   "id": "56e86aa1",
   "metadata": {},
   "outputs": [
    {
     "data": {
      "text/plain": [
       "3.452052529534663"
      ]
     },
     "execution_count": 32,
     "metadata": {},
     "output_type": "execute_result"
    }
   ],
   "source": [
    "#standard deviation\n",
    "np.std(arr1)"
   ]
  },
  {
   "cell_type": "markdown",
   "id": "4f78628c",
   "metadata": {},
   "source": [
    "##### array2"
   ]
  },
  {
   "cell_type": "code",
   "execution_count": 35,
   "id": "6bc7b39d",
   "metadata": {},
   "outputs": [
    {
     "data": {
      "text/plain": [
       "array([[[0.48407378, 0.86967777, 0.35148575, 0.30731778]],\n",
       "\n",
       "       [[0.56466842, 0.64486819, 0.66723876, 0.18284985]],\n",
       "\n",
       "       [[0.14159526, 0.89530717, 0.13750915, 0.37828046]],\n",
       "\n",
       "       [[0.3523657 , 0.91566425, 0.24185047, 0.98682537]],\n",
       "\n",
       "       [[0.1037163 , 0.80027033, 0.64879701, 0.98770743]]])"
      ]
     },
     "execution_count": 35,
     "metadata": {},
     "output_type": "execute_result"
    }
   ],
   "source": [
    "array2"
   ]
  },
  {
   "cell_type": "markdown",
   "id": "e8f16497",
   "metadata": {},
   "source": [
    "**Describe**\n",
    "* structure(rowsxcolumns) : 5x4\n",
    "* datatype : float64\n",
    "* missing values : 0\n",
    "* outliers : 0"
   ]
  },
  {
   "cell_type": "markdown",
   "id": "19de3028",
   "metadata": {},
   "source": [
    "#### Measure of central tendency"
   ]
  },
  {
   "cell_type": "code",
   "execution_count": 36,
   "id": "201ef7e2",
   "metadata": {},
   "outputs": [
    {
     "data": {
      "text/plain": [
       "0.533103459754662"
      ]
     },
     "execution_count": 36,
     "metadata": {},
     "output_type": "execute_result"
    }
   ],
   "source": [
    "#mean\n",
    "np.mean(array2)"
   ]
  },
  {
   "cell_type": "code",
   "execution_count": 37,
   "id": "40c78b8f",
   "metadata": {},
   "outputs": [
    {
     "data": {
      "text/plain": [
       "0.5243710960168495"
      ]
     },
     "execution_count": 37,
     "metadata": {},
     "output_type": "execute_result"
    }
   ],
   "source": [
    "np.median(array2)"
   ]
  },
  {
   "cell_type": "markdown",
   "id": "6c6b3217",
   "metadata": {},
   "source": [
    "#### Measure of spread"
   ]
  },
  {
   "cell_type": "code",
   "execution_count": 38,
   "id": "c073ea5f",
   "metadata": {},
   "outputs": [
    {
     "data": {
      "text/plain": [
       "0.9877074346090767"
      ]
     },
     "execution_count": 38,
     "metadata": {},
     "output_type": "execute_result"
    }
   ],
   "source": [
    "#range\n",
    "#max\n",
    "np.max(array2)"
   ]
  },
  {
   "cell_type": "code",
   "execution_count": 39,
   "id": "6ad7aa1a",
   "metadata": {},
   "outputs": [
    {
     "data": {
      "text/plain": [
       "0.10371629707654983"
      ]
     },
     "execution_count": 39,
     "metadata": {},
     "output_type": "execute_result"
    }
   ],
   "source": [
    "#min\n",
    "np.min(array2)"
   ]
  },
  {
   "cell_type": "code",
   "execution_count": 40,
   "id": "2c211d2c",
   "metadata": {},
   "outputs": [
    {
     "data": {
      "text/plain": [
       "0.8839911375325269"
      ]
     },
     "execution_count": 40,
     "metadata": {},
     "output_type": "execute_result"
    }
   ],
   "source": [
    "range = np.max(array2)-np.min(array2)\n",
    "range"
   ]
  },
  {
   "cell_type": "code",
   "execution_count": 41,
   "id": "03360eb0",
   "metadata": {},
   "outputs": [
    {
     "data": {
      "text/plain": [
       "0.2909509511779257"
      ]
     },
     "execution_count": 41,
     "metadata": {},
     "output_type": "execute_result"
    }
   ],
   "source": [
    "#IQR\n",
    "#q1\n",
    "q1 = np.percentile(array2,25)\n",
    "q1"
   ]
  },
  {
   "cell_type": "code",
   "execution_count": 42,
   "id": "e27f87f0",
   "metadata": {},
   "outputs": [
    {
     "data": {
      "text/plain": [
       "0.817622188012626"
      ]
     },
     "execution_count": 42,
     "metadata": {},
     "output_type": "execute_result"
    }
   ],
   "source": [
    "#q3\n",
    "q3 = np.percentile(array2,75)\n",
    "q3"
   ]
  },
  {
   "cell_type": "code",
   "execution_count": 43,
   "id": "6768d5b7",
   "metadata": {},
   "outputs": [
    {
     "data": {
      "text/plain": [
       "0.5266712368347003"
      ]
     },
     "execution_count": 43,
     "metadata": {},
     "output_type": "execute_result"
    }
   ],
   "source": [
    "IQR = q3-q1\n",
    "IQR"
   ]
  },
  {
   "cell_type": "code",
   "execution_count": 44,
   "id": "15e7db1e",
   "metadata": {},
   "outputs": [
    {
     "data": {
      "text/plain": [
       "-0.4990559040741248"
      ]
     },
     "execution_count": 44,
     "metadata": {},
     "output_type": "execute_result"
    }
   ],
   "source": [
    "lower = q1-(1.5*IQR)\n",
    "lower"
   ]
  },
  {
   "cell_type": "code",
   "execution_count": 45,
   "id": "3af6dafa",
   "metadata": {},
   "outputs": [
    {
     "data": {
      "text/plain": [
       "1.6076290432646765"
      ]
     },
     "execution_count": 45,
     "metadata": {},
     "output_type": "execute_result"
    }
   ],
   "source": [
    "upper = q3+(1.5*IQR)\n",
    "upper"
   ]
  },
  {
   "cell_type": "code",
   "execution_count": 47,
   "id": "c3813e88",
   "metadata": {},
   "outputs": [
    {
     "name": "stdout",
     "output_type": "stream",
     "text": [
      "[]\n",
      "[]\n"
     ]
    }
   ],
   "source": [
    "#outliers\n",
    "print(array2[array2>upper]) #no outliers\n",
    "print(array2[array2<lower])"
   ]
  },
  {
   "cell_type": "code",
   "execution_count": 48,
   "id": "5e7a58e2",
   "metadata": {},
   "outputs": [
    {
     "data": {
      "text/plain": [
       "0.08821275756382428"
      ]
     },
     "execution_count": 48,
     "metadata": {},
     "output_type": "execute_result"
    }
   ],
   "source": [
    "#variance\n",
    "np.var(array2)"
   ]
  },
  {
   "cell_type": "code",
   "execution_count": 49,
   "id": "8255a113",
   "metadata": {},
   "outputs": [
    {
     "data": {
      "text/plain": [
       "0.2970063257976575"
      ]
     },
     "execution_count": 49,
     "metadata": {},
     "output_type": "execute_result"
    }
   ],
   "source": [
    "#standard deviation\n",
    "np.std(array2)"
   ]
  },
  {
   "cell_type": "markdown",
   "id": "bc3e9b69",
   "metadata": {},
   "source": [
    "### Array Slicing and Indexing:"
   ]
  },
  {
   "cell_type": "code",
   "execution_count": null,
   "id": "9dbf2297",
   "metadata": {},
   "outputs": [],
   "source": [
    "a. Creating Arrays: - Create a 1-dimensional NumPy array arr1 with the values [0, 11, 26, 73, 42, 51, 6,77, 8,29].\n",
    "Create a 2-dimensional NumPy array arr2 with the values [[0, 1, 2], [3, 4, 5], [6, 7, 8]]."
   ]
  },
  {
   "cell_type": "code",
   "execution_count": 50,
   "id": "b13e9976",
   "metadata": {},
   "outputs": [
    {
     "data": {
      "text/plain": [
       "array([ 0, 11, 26, 73, 42, 51,  6, 77,  8, 29])"
      ]
     },
     "execution_count": 50,
     "metadata": {},
     "output_type": "execute_result"
    }
   ],
   "source": [
    "arr1 = np.array([0, 11, 26, 73, 42, 51, 6,77, 8,29])\n",
    "arr1"
   ]
  },
  {
   "cell_type": "code",
   "execution_count": 51,
   "id": "e745ed6d",
   "metadata": {},
   "outputs": [
    {
     "data": {
      "text/plain": [
       "1"
      ]
     },
     "execution_count": 51,
     "metadata": {},
     "output_type": "execute_result"
    }
   ],
   "source": [
    "arr1.ndim"
   ]
  },
  {
   "cell_type": "code",
   "execution_count": 52,
   "id": "57dc633d",
   "metadata": {},
   "outputs": [
    {
     "data": {
      "text/plain": [
       "array([[0, 1, 2],\n",
       "       [3, 4, 5],\n",
       "       [6, 7, 8]])"
      ]
     },
     "execution_count": 52,
     "metadata": {},
     "output_type": "execute_result"
    }
   ],
   "source": [
    "arr2 = np.array([[0, 1, 2], [3, 4, 5], [6, 7, 8]])\n",
    "arr2"
   ]
  },
  {
   "cell_type": "code",
   "execution_count": 53,
   "id": "89a80fce",
   "metadata": {},
   "outputs": [
    {
     "data": {
      "text/plain": [
       "2"
      ]
     },
     "execution_count": 53,
     "metadata": {},
     "output_type": "execute_result"
    }
   ],
   "source": [
    "arr2.ndim"
   ]
  },
  {
   "cell_type": "markdown",
   "id": "7aea383e",
   "metadata": {},
   "source": [
    "#### b.Basic Indexing: - Print the element at index 3 of arr1. "
   ]
  },
  {
   "cell_type": "code",
   "execution_count": 54,
   "id": "3bda62cd",
   "metadata": {},
   "outputs": [
    {
     "data": {
      "text/plain": [
       "73"
      ]
     },
     "execution_count": 54,
     "metadata": {},
     "output_type": "execute_result"
    }
   ],
   "source": [
    "arr1[3]"
   ]
  },
  {
   "cell_type": "markdown",
   "id": "6adb75c0",
   "metadata": {},
   "source": [
    "#### Print the element at row 2, column 1 of arr2"
   ]
  },
  {
   "cell_type": "code",
   "execution_count": 55,
   "id": "63b48eba",
   "metadata": {},
   "outputs": [
    {
     "data": {
      "text/plain": [
       "7"
      ]
     },
     "execution_count": 55,
     "metadata": {},
     "output_type": "execute_result"
    }
   ],
   "source": [
    "arr2[2][1]"
   ]
  },
  {
   "cell_type": "markdown",
   "id": "e6be96b5",
   "metadata": {},
   "source": [
    "### c. Array Slicing: "
   ]
  },
  {
   "cell_type": "markdown",
   "id": "778616d8",
   "metadata": {},
   "source": [
    "##### Print the first five elements of arr1. "
   ]
  },
  {
   "cell_type": "code",
   "execution_count": 57,
   "id": "c08ca434",
   "metadata": {},
   "outputs": [
    {
     "data": {
      "text/plain": [
       "array([ 0, 11, 26, 73, 42])"
      ]
     },
     "execution_count": 57,
     "metadata": {},
     "output_type": "execute_result"
    }
   ],
   "source": [
    "arr1[:5]"
   ]
  },
  {
   "cell_type": "markdown",
   "id": "978d20fb",
   "metadata": {},
   "source": [
    "##### Print the subarray of arr2 consisting of the last two rows and the first two columns. "
   ]
  },
  {
   "cell_type": "code",
   "execution_count": 58,
   "id": "b0b2ca2d",
   "metadata": {},
   "outputs": [
    {
     "data": {
      "text/plain": [
       "array([[0, 1, 2],\n",
       "       [3, 4, 5],\n",
       "       [6, 7, 8]])"
      ]
     },
     "execution_count": 58,
     "metadata": {},
     "output_type": "execute_result"
    }
   ],
   "source": [
    "arr2"
   ]
  },
  {
   "cell_type": "code",
   "execution_count": 70,
   "id": "13a0d0d8",
   "metadata": {},
   "outputs": [
    {
     "data": {
      "text/plain": [
       "array([[3, 4],\n",
       "       [6, 7]])"
      ]
     },
     "execution_count": 70,
     "metadata": {},
     "output_type": "execute_result"
    }
   ],
   "source": [
    "arr2[1:3,0:2]"
   ]
  },
  {
   "cell_type": "markdown",
   "id": "1e27ddf5",
   "metadata": {},
   "source": [
    "##### Print every second element starting from index 1 up to index 7 of arr1."
   ]
  },
  {
   "cell_type": "code",
   "execution_count": 71,
   "id": "b19157ac",
   "metadata": {},
   "outputs": [
    {
     "data": {
      "text/plain": [
       "array([11, 73, 51])"
      ]
     },
     "execution_count": 71,
     "metadata": {},
     "output_type": "execute_result"
    }
   ],
   "source": [
    "arr1[1:7:2]"
   ]
  },
  {
   "cell_type": "markdown",
   "id": "6c6a36af",
   "metadata": {},
   "source": [
    "### Data Type Manipulation"
   ]
  },
  {
   "cell_type": "markdown",
   "id": "24310bc6",
   "metadata": {},
   "source": [
    "##### a.Creating Arrays with Specific Data Types: \n",
    "##### Create a 1-dimensional NumPy array int_array with the values [1, 2, 3, 4, 5] and the data type int16. "
   ]
  },
  {
   "cell_type": "code",
   "execution_count": 72,
   "id": "a29550ee",
   "metadata": {},
   "outputs": [
    {
     "data": {
      "text/plain": [
       "array([1, 2, 3, 4, 5], dtype=int16)"
      ]
     },
     "execution_count": 72,
     "metadata": {},
     "output_type": "execute_result"
    }
   ],
   "source": [
    "int_array = np.array([1, 2, 3, 4, 5],dtype = 'int16') #in the output you can observe the dtype or you can check it again\n",
    "int_array"
   ]
  },
  {
   "cell_type": "code",
   "execution_count": 73,
   "id": "c12a79f9",
   "metadata": {},
   "outputs": [
    {
     "data": {
      "text/plain": [
       "dtype('int16')"
      ]
     },
     "execution_count": 73,
     "metadata": {},
     "output_type": "execute_result"
    }
   ],
   "source": [
    "int_array.dtype"
   ]
  },
  {
   "cell_type": "markdown",
   "id": "ed54c7b5",
   "metadata": {},
   "source": [
    "##### Create a 1-dimensional NumPy array float_array with the values [0.1, 0.2, 0.3, 0.4, 0.5] and the data type float64."
   ]
  },
  {
   "cell_type": "code",
   "execution_count": 75,
   "id": "16feb862",
   "metadata": {},
   "outputs": [
    {
     "data": {
      "text/plain": [
       "array([0.1, 0.2, 0.3, 0.4, 0.5])"
      ]
     },
     "execution_count": 75,
     "metadata": {},
     "output_type": "execute_result"
    }
   ],
   "source": [
    "float_array = np.array([0.1, 0.2, 0.3, 0.4, 0.5])\n",
    "float_array"
   ]
  },
  {
   "cell_type": "code",
   "execution_count": 76,
   "id": "0e3c16c5",
   "metadata": {},
   "outputs": [
    {
     "data": {
      "text/plain": [
       "dtype('float64')"
      ]
     },
     "execution_count": 76,
     "metadata": {},
     "output_type": "execute_result"
    }
   ],
   "source": [
    "float_array.dtype  #no need to mention float64, by default it considers float64 only"
   ]
  },
  {
   "cell_type": "markdown",
   "id": "3800a899",
   "metadata": {},
   "source": [
    "### b. Data Type Conversion: "
   ]
  },
  {
   "cell_type": "markdown",
   "id": "8e3e2f01",
   "metadata": {},
   "source": [
    "##### Convert the float_array to an array with data type int32. Print the result. "
   ]
  },
  {
   "cell_type": "code",
   "execution_count": 79,
   "id": "ef3de291",
   "metadata": {},
   "outputs": [
    {
     "data": {
      "text/plain": [
       "array([0, 0, 0, 0, 0])"
      ]
     },
     "execution_count": 79,
     "metadata": {},
     "output_type": "execute_result"
    }
   ],
   "source": [
    "a = np.array(float_array,dtype = 'int32')\n",
    "a"
   ]
  },
  {
   "cell_type": "code",
   "execution_count": 80,
   "id": "d8170962",
   "metadata": {},
   "outputs": [
    {
     "data": {
      "text/plain": [
       "dtype('int32')"
      ]
     },
     "execution_count": 80,
     "metadata": {},
     "output_type": "execute_result"
    }
   ],
   "source": [
    "a.dtype"
   ]
  },
  {
   "cell_type": "markdown",
   "id": "712bf7c8",
   "metadata": {},
   "source": [
    "##### Convert the int_array to an array with data type float32. Print the result."
   ]
  },
  {
   "cell_type": "code",
   "execution_count": 81,
   "id": "37948c8d",
   "metadata": {},
   "outputs": [
    {
     "data": {
      "text/plain": [
       "array([1., 2., 3., 4., 5.], dtype=float32)"
      ]
     },
     "execution_count": 81,
     "metadata": {},
     "output_type": "execute_result"
    }
   ],
   "source": [
    "b = np.array(int_array,dtype = 'float32')\n",
    "b"
   ]
  },
  {
   "cell_type": "code",
   "execution_count": 82,
   "id": "982eef1d",
   "metadata": {},
   "outputs": [
    {
     "data": {
      "text/plain": [
       "dtype('float32')"
      ]
     },
     "execution_count": 82,
     "metadata": {},
     "output_type": "execute_result"
    }
   ],
   "source": [
    "b.dtype"
   ]
  },
  {
   "cell_type": "markdown",
   "id": "e90011c5",
   "metadata": {},
   "source": [
    "### Generating Random Numbers:"
   ]
  },
  {
   "cell_type": "markdown",
   "id": "5cc6a6f4",
   "metadata": {},
   "source": [
    "##### Use numpy.random.randint() to create an array rand_integers containing 10 random integers between 0 and 100 (inclusive)."
   ]
  },
  {
   "cell_type": "code",
   "execution_count": 85,
   "id": "9cc9e8d8",
   "metadata": {},
   "outputs": [
    {
     "data": {
      "text/plain": [
       "array([ 5, 48, 82, 69,  6, 46, 15, 65, 35, 30])"
      ]
     },
     "execution_count": 85,
     "metadata": {},
     "output_type": "execute_result"
    }
   ],
   "source": [
    "rand_integers = np.random.randint(0,101,10)\n",
    "rand_integers"
   ]
  },
  {
   "cell_type": "markdown",
   "id": "fcabd2fd",
   "metadata": {},
   "source": [
    "##### Use numpy.random.uniform() to create an array rand_uniform containing 5 random numbers sampled from a uniform distribution between -1 and 1."
   ]
  },
  {
   "cell_type": "code",
   "execution_count": 86,
   "id": "f1210beb",
   "metadata": {},
   "outputs": [
    {
     "data": {
      "text/plain": [
       "array([-0.75939709, -0.09557746, -0.47029417, -0.58718362, -0.52315136])"
      ]
     },
     "execution_count": 86,
     "metadata": {},
     "output_type": "execute_result"
    }
   ],
   "source": [
    "rand_uniform = np.random.uniform(-1,1,5)\n",
    "rand_uniform"
   ]
  },
  {
   "cell_type": "markdown",
   "id": "156133ca",
   "metadata": {},
   "source": [
    "##### Create an array rand_matrix with random integers between 50 and 100 (inclusive).and reshape it to 2-dimensional (4 x 4) matrix"
   ]
  },
  {
   "cell_type": "code",
   "execution_count": 88,
   "id": "68dde2ec",
   "metadata": {},
   "outputs": [
    {
     "data": {
      "text/plain": [
       "array([[55, 89, 90, 97],\n",
       "       [76, 65, 68, 84],\n",
       "       [71, 56, 99, 79],\n",
       "       [80, 98, 78, 89]])"
      ]
     },
     "execution_count": 88,
     "metadata": {},
     "output_type": "execute_result"
    }
   ],
   "source": [
    "rand_matrix = np.random.randint(50,101,16).reshape(4,4)\n",
    "rand_matrix"
   ]
  },
  {
   "cell_type": "markdown",
   "id": "8b9a4bc5",
   "metadata": {},
   "source": [
    "##### Apply descriptive statistics for rand_matrix."
   ]
  },
  {
   "cell_type": "markdown",
   "id": "9c0fd6cc",
   "metadata": {},
   "source": [
    "###### Measure of central tendency"
   ]
  },
  {
   "cell_type": "code",
   "execution_count": 89,
   "id": "72728355",
   "metadata": {},
   "outputs": [
    {
     "data": {
      "text/plain": [
       "79.625"
      ]
     },
     "execution_count": 89,
     "metadata": {},
     "output_type": "execute_result"
    }
   ],
   "source": [
    "#mean\n",
    "np.mean(rand_matrix)"
   ]
  },
  {
   "cell_type": "code",
   "execution_count": 90,
   "id": "5a17b55f",
   "metadata": {},
   "outputs": [
    {
     "data": {
      "text/plain": [
       "79.5"
      ]
     },
     "execution_count": 90,
     "metadata": {},
     "output_type": "execute_result"
    }
   ],
   "source": [
    "#median\n",
    "np.median(rand_matrix)"
   ]
  },
  {
   "cell_type": "markdown",
   "id": "6b91c647",
   "metadata": {},
   "source": [
    "###### Measure of spread"
   ]
  },
  {
   "cell_type": "code",
   "execution_count": 91,
   "id": "4255a57d",
   "metadata": {},
   "outputs": [
    {
     "data": {
      "text/plain": [
       "99"
      ]
     },
     "execution_count": 91,
     "metadata": {},
     "output_type": "execute_result"
    }
   ],
   "source": [
    "#range\n",
    "#max\n",
    "np.max(rand_matrix)"
   ]
  },
  {
   "cell_type": "code",
   "execution_count": 92,
   "id": "dfa139fa",
   "metadata": {},
   "outputs": [
    {
     "data": {
      "text/plain": [
       "55"
      ]
     },
     "execution_count": 92,
     "metadata": {},
     "output_type": "execute_result"
    }
   ],
   "source": [
    "#min\n",
    "np.min(rand_matrix)"
   ]
  },
  {
   "cell_type": "code",
   "execution_count": 93,
   "id": "3927618b",
   "metadata": {},
   "outputs": [
    {
     "data": {
      "text/plain": [
       "44"
      ]
     },
     "execution_count": 93,
     "metadata": {},
     "output_type": "execute_result"
    }
   ],
   "source": [
    "range = np.max(rand_matrix)-np.min(rand_matrix)\n",
    "range"
   ]
  },
  {
   "cell_type": "code",
   "execution_count": 94,
   "id": "91d1529b",
   "metadata": {},
   "outputs": [
    {
     "data": {
      "text/plain": [
       "70.25"
      ]
     },
     "execution_count": 94,
     "metadata": {},
     "output_type": "execute_result"
    }
   ],
   "source": [
    "#IQR\n",
    "#q1\n",
    "q1 = np.percentile(rand_matrix,25)\n",
    "q1"
   ]
  },
  {
   "cell_type": "code",
   "execution_count": 95,
   "id": "8243aaba",
   "metadata": {},
   "outputs": [
    {
     "data": {
      "text/plain": [
       "89.25"
      ]
     },
     "execution_count": 95,
     "metadata": {},
     "output_type": "execute_result"
    }
   ],
   "source": [
    "#q3\n",
    "q3 = np.percentile(rand_matrix,75)\n",
    "q3"
   ]
  },
  {
   "cell_type": "code",
   "execution_count": 96,
   "id": "f95ad653",
   "metadata": {},
   "outputs": [
    {
     "data": {
      "text/plain": [
       "19.0"
      ]
     },
     "execution_count": 96,
     "metadata": {},
     "output_type": "execute_result"
    }
   ],
   "source": [
    "IQR = q3-q1\n",
    "IQR"
   ]
  },
  {
   "cell_type": "code",
   "execution_count": 97,
   "id": "161fb702",
   "metadata": {},
   "outputs": [
    {
     "data": {
      "text/plain": [
       "41.75"
      ]
     },
     "execution_count": 97,
     "metadata": {},
     "output_type": "execute_result"
    }
   ],
   "source": [
    "lower = q1-(1.5*IQR)\n",
    "lower"
   ]
  },
  {
   "cell_type": "code",
   "execution_count": 98,
   "id": "a265936e",
   "metadata": {},
   "outputs": [
    {
     "data": {
      "text/plain": [
       "19.0"
      ]
     },
     "execution_count": 98,
     "metadata": {},
     "output_type": "execute_result"
    }
   ],
   "source": [
    "upper = q3+(1.5*IQR)\n",
    "IQR"
   ]
  },
  {
   "cell_type": "code",
   "execution_count": 100,
   "id": "395613f0",
   "metadata": {},
   "outputs": [
    {
     "name": "stdout",
     "output_type": "stream",
     "text": [
      "[]\n",
      "[]\n"
     ]
    }
   ],
   "source": [
    "print(rand_matrix[rand_matrix<lower])   #no outliers\n",
    "print(rand_matrix[rand_matrix>upper])"
   ]
  },
  {
   "cell_type": "code",
   "execution_count": 101,
   "id": "1370328c",
   "metadata": {},
   "outputs": [
    {
     "data": {
      "text/plain": [
       "182.609375"
      ]
     },
     "execution_count": 101,
     "metadata": {},
     "output_type": "execute_result"
    }
   ],
   "source": [
    "#variance\n",
    "np.var(rand_matrix)"
   ]
  },
  {
   "cell_type": "code",
   "execution_count": 102,
   "id": "d2fe1f81",
   "metadata": {},
   "outputs": [
    {
     "data": {
      "text/plain": [
       "13.513303630126869"
      ]
     },
     "execution_count": 102,
     "metadata": {},
     "output_type": "execute_result"
    }
   ],
   "source": [
    "#standard deviation\n",
    "np.std(rand_matrix)"
   ]
  },
  {
   "cell_type": "code",
   "execution_count": null,
   "id": "0320cdbc",
   "metadata": {},
   "outputs": [],
   "source": [
    "Analyze the Data:\n",
    "Salaries = [87877, 54494, 54804, 85051, 52453, 31250, 94868, 66349, 39828, 60501, 58570, 74906, 41671, 51428, 56414, 98446, 56819, 82833, 50477, 62898, 99658, 89224, 34225, 79172, 32199, 63795, 90947, 55723, 64557, 3113638]\n",
    "\n",
    "Describe the data using numpy array. Measure the following:\n",
    "1.How many employees are getting more less than 50000?\n",
    "2.Is it following Normal Distribution?\n",
    "3.What is the median salary?\n",
    "4.What is the range of salaries for this company?\n",
    "5.Find the salaries between average salary and 75% of salaries?\n",
    "6.How many employees are getting less than 25 % of salaries ?\n"
   ]
  },
  {
   "cell_type": "code",
   "execution_count": 105,
   "id": "a7a762f4",
   "metadata": {},
   "outputs": [],
   "source": [
    "Salaries = [87877, 54494, 54804, 85051, 52453, 31250, 94868, 66349, 39828, 60501, 58570, 74906, 41671, 51428, 56414, 98446, 56819, 82833, 50477, 62898, 99658, 89224, 34225, 79172, 32199, 63795, 90947, 55723, 64557, 3113638]"
   ]
  },
  {
   "cell_type": "code",
   "execution_count": 106,
   "id": "9487c699",
   "metadata": {},
   "outputs": [
    {
     "data": {
      "text/plain": [
       "array([  87877,   54494,   54804,   85051,   52453,   31250,   94868,\n",
       "         66349,   39828,   60501,   58570,   74906,   41671,   51428,\n",
       "         56414,   98446,   56819,   82833,   50477,   62898,   99658,\n",
       "         89224,   34225,   79172,   32199,   63795,   90947,   55723,\n",
       "         64557, 3113638])"
      ]
     },
     "execution_count": 106,
     "metadata": {},
     "output_type": "execute_result"
    }
   ],
   "source": [
    "sal = np.array(Salaries)\n",
    "sal"
   ]
  },
  {
   "cell_type": "markdown",
   "id": "620ea090",
   "metadata": {},
   "source": [
    "##### 1.How many employees are getting more less than 50000?"
   ]
  },
  {
   "cell_type": "code",
   "execution_count": 112,
   "id": "bc6258d2",
   "metadata": {},
   "outputs": [
    {
     "data": {
      "text/plain": [
       "5"
      ]
     },
     "execution_count": 112,
     "metadata": {},
     "output_type": "execute_result"
    }
   ],
   "source": [
    "len(sal[sal<50000])"
   ]
  },
  {
   "cell_type": "markdown",
   "id": "2da3fdae",
   "metadata": {},
   "source": [
    "##### 2.Is it following Normal Distribution?"
   ]
  },
  {
   "cell_type": "code",
   "execution_count": null,
   "id": "1f8b2e95",
   "metadata": {},
   "outputs": [],
   "source": [
    "no"
   ]
  },
  {
   "cell_type": "markdown",
   "id": "9395bdd9",
   "metadata": {},
   "source": [
    "##### 3.What is the median salary?"
   ]
  },
  {
   "cell_type": "code",
   "execution_count": 114,
   "id": "3fdb825d",
   "metadata": {},
   "outputs": [
    {
     "data": {
      "text/plain": [
       "61699.5"
      ]
     },
     "execution_count": 114,
     "metadata": {},
     "output_type": "execute_result"
    }
   ],
   "source": [
    "np.median(sal)"
   ]
  },
  {
   "cell_type": "markdown",
   "id": "26b73f63",
   "metadata": {},
   "source": [
    "##### 4.What is the range of salaries for this company?"
   ]
  },
  {
   "cell_type": "code",
   "execution_count": 116,
   "id": "4adbe61e",
   "metadata": {},
   "outputs": [
    {
     "data": {
      "text/plain": [
       "3082388"
      ]
     },
     "execution_count": 116,
     "metadata": {},
     "output_type": "execute_result"
    }
   ],
   "source": [
    "range = np.max(sal)-np.min(sal)\n",
    "range"
   ]
  },
  {
   "cell_type": "markdown",
   "id": "324ba55b",
   "metadata": {},
   "source": [
    "##### 5.Find the salaries between average salary and 75% of salaries?"
   ]
  },
  {
   "cell_type": "code",
   "execution_count": 119,
   "id": "0805f143",
   "metadata": {},
   "outputs": [
    {
     "name": "stdout",
     "output_type": "stream",
     "text": [
      "84496.5\n",
      "166169.16666666666\n"
     ]
    }
   ],
   "source": [
    "q3 = np.percentile(sal,75)\n",
    "print(q3)\n",
    "m = np.mean(sal)\n",
    "print(m)"
   ]
  },
  {
   "cell_type": "code",
   "execution_count": 121,
   "id": "be29d6b4",
   "metadata": {},
   "outputs": [
    {
     "data": {
      "text/plain": [
       "array([], dtype=int32)"
      ]
     },
     "execution_count": 121,
     "metadata": {},
     "output_type": "execute_result"
    }
   ],
   "source": [
    "between = sal[(sal>m) & (sal<q3)]\n",
    "between"
   ]
  },
  {
   "cell_type": "markdown",
   "id": "97f7eb05",
   "metadata": {},
   "source": [
    "##### 6.How many employees are getting less than 25 % of salaries ?"
   ]
  },
  {
   "cell_type": "code",
   "execution_count": 124,
   "id": "c929e5c8",
   "metadata": {},
   "outputs": [
    {
     "data": {
      "text/plain": [
       "8"
      ]
     },
     "execution_count": 124,
     "metadata": {},
     "output_type": "execute_result"
    }
   ],
   "source": [
    "q1 = np.percentile(sal,25)\n",
    "len(sal[sal<q1])"
   ]
  }
 ],
 "metadata": {
  "kernelspec": {
   "display_name": "Python 3 (ipykernel)",
   "language": "python",
   "name": "python3"
  },
  "language_info": {
   "codemirror_mode": {
    "name": "ipython",
    "version": 3
   },
   "file_extension": ".py",
   "mimetype": "text/x-python",
   "name": "python",
   "nbconvert_exporter": "python",
   "pygments_lexer": "ipython3",
   "version": "3.11.4"
  }
 },
 "nbformat": 4,
 "nbformat_minor": 5
}
