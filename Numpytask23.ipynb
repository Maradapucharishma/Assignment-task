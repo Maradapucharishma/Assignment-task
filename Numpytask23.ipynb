{
 "cells": [
  {
   "cell_type": "code",
   "execution_count": null,
   "id": "024770fd",
   "metadata": {},
   "outputs": [],
   "source": [
    "\n",
    "Data Cleaning using numpy\n",
    "The following are the student marks of a class [44,24,np.nan,59,32,96,188,52,62,58,52,120,np.nan,np.nan,3,56,81,59,,122,92,np.nan,87,96,97,1,19,2,53, 44]\n",
    "\n",
    "Find the no of outliers and missing values?\n",
    "replace the outliers with 45 and missing value with 87.\n",
    "what is the average marks of students after 2nd step?\n",
    "How many students got less than 60 marks?\n",
    "what is the maximum marks?\n",
    "Convert the marks to float32.\n",
    "Solving Linear Equations\n",
    "2x + 3y - z = 10\n",
    "x - y + 2z = 5\n",
    "3x + 2y + z = 12\n",
    "\n",
    "2x + y - z + 3w = 8\n",
    "3x - 2y + 2z + 2w = 1\n",
    "x + 3y - 2z + w = 7\n",
    "4x - y + z - 2w = 3\n",
    "\n",
    "4x + 2y - 3z = 10\n",
    "-2x + 3y + z = -3\n",
    "x - y + 2z = 4\n",
    "\n",
    "Solve the system of equations using NumPy's linalg.solve function.\n",
    "\n",
    "Conditional Selection with np.where()\n",
    "Generate a random 1D array A of 10 integers between 1 and 100.\n",
    "\n",
    "Use np.where() to find the indices where the elements of A are greater than 50.\n",
    "\n",
    "Create a new array B that contains elements from A where the condition is met.\n",
    "\n",
    "Calculate the mean of array B and print it along with arrays A and B.\n",
    "\n",
    "Replace Values with np.where()\n",
    "Create a 4x4 random integer matrix C with values between -10 and 10.\n",
    "\n",
    "Use np.where() to replace all negative values in matrix C with 0.\n",
    "\n",
    "Print the original matrix C and the modified matrix.\n",
    "\n",
    " "
   ]
  },
  {
   "cell_type": "code",
   "execution_count": null,
   "id": "aefe6de5",
   "metadata": {},
   "outputs": [],
   "source": [
    "[44,24,np.nan,59,32,96,188,52,62,58,52,120,np.nan,np.nan,3,56,81,59,122,92,np.nan,87,96,97,1,19,2,53, 44]"
   ]
  },
  {
   "cell_type": "markdown",
   "id": "1c45ddb3",
   "metadata": {},
   "source": [
    "#### Find the no of outliers and missing values?"
   ]
  },
  {
   "cell_type": "code",
   "execution_count": 13,
   "id": "db27fa1b",
   "metadata": {},
   "outputs": [],
   "source": [
    "import numpy as np"
   ]
  },
  {
   "cell_type": "code",
   "execution_count": 21,
   "id": "125f6cca",
   "metadata": {},
   "outputs": [],
   "source": [
    "marks = np.array([44,24,np.nan,59,32,96,188,52,62,58,52,120,np.nan,np.nan,3,56,81,59,122,92,np.nan,87,96,97,1,19,2,53,44])"
   ]
  },
  {
   "cell_type": "code",
   "execution_count": 22,
   "id": "0c82e279",
   "metadata": {},
   "outputs": [
    {
     "data": {
      "text/plain": [
       "array([ 44.,  24.,  nan,  59.,  32.,  96., 188.,  52.,  62.,  58.,  52.,\n",
       "       120.,  nan,  nan,   3.,  56.,  81.,  59., 122.,  92.,  nan,  87.,\n",
       "        96.,  97.,   1.,  19.,   2.,  53.,  44.])"
      ]
     },
     "execution_count": 22,
     "metadata": {},
     "output_type": "execute_result"
    }
   ],
   "source": [
    "marks"
   ]
  },
  {
   "cell_type": "code",
   "execution_count": 15,
   "id": "e8454185",
   "metadata": {},
   "outputs": [
    {
     "data": {
      "text/plain": [
       "4"
      ]
     },
     "execution_count": 15,
     "metadata": {},
     "output_type": "execute_result"
    }
   ],
   "source": [
    "missingvalues = np.sum(np.isnan(marks))\n",
    "missingvalues   #no.of missing values"
   ]
  },
  {
   "cell_type": "code",
   "execution_count": 16,
   "id": "532a53c4",
   "metadata": {},
   "outputs": [
    {
     "data": {
      "text/plain": [
       "array([False, False, False, False, False, False,  True, False, False,\n",
       "       False, False,  True, False, False, False, False, False, False,\n",
       "        True, False, False, False, False, False, False, False, False,\n",
       "       False, False])"
      ]
     },
     "execution_count": 16,
     "metadata": {},
     "output_type": "execute_result"
    }
   ],
   "source": [
    "cond = (marks>100)|(marks<0)\n",
    "cond"
   ]
  },
  {
   "cell_type": "code",
   "execution_count": 17,
   "id": "8060831a",
   "metadata": {},
   "outputs": [
    {
     "data": {
      "text/plain": [
       "3"
      ]
     },
     "execution_count": 17,
     "metadata": {},
     "output_type": "execute_result"
    }
   ],
   "source": [
    "np.sum(cond)  #no.of outliers"
   ]
  },
  {
   "cell_type": "code",
   "execution_count": 23,
   "id": "64ea09d1",
   "metadata": {},
   "outputs": [
    {
     "data": {
      "text/plain": [
       "array([ 44,  24,  45,  59,  32,  96, 188,  52,  62,  58,  52, 120,  45,\n",
       "        45,   3,  56,  81,  59, 122,  92,  45,  87,  96,  97,   1,  19,\n",
       "         2,  53,  44], dtype=int16)"
      ]
     },
     "execution_count": 23,
     "metadata": {},
     "output_type": "execute_result"
    }
   ],
   "source": [
    "marks1 = np.where(np.isnan(marks),45,marks).astype('int16')\n",
    "marks1 "
   ]
  },
  {
   "cell_type": "code",
   "execution_count": 24,
   "id": "2ab79d68",
   "metadata": {},
   "outputs": [
    {
     "data": {
      "text/plain": [
       "array([44, 24, 45, 59, 32, 96, 87, 52, 62, 58, 52, 87, 45, 45,  3, 56, 81,\n",
       "       59, 87, 92, 45, 87, 96, 97,  1, 19,  2, 53, 44], dtype=int16)"
      ]
     },
     "execution_count": 24,
     "metadata": {},
     "output_type": "execute_result"
    }
   ],
   "source": [
    "marks2 = np.where(cond,87,marks1)\n",
    "marks2"
   ]
  },
  {
   "cell_type": "code",
   "execution_count": 36,
   "id": "37e95a03",
   "metadata": {},
   "outputs": [
    {
     "data": {
      "text/plain": [
       "array([44, 24, 45, 59, 32, 96, 87, 52, 62, 58, 52, 87, 45, 45,  3, 56, 81,\n",
       "       59, 87, 92, 45, 87, 96, 97,  1, 19,  2, 53, 44], dtype=int16)"
      ]
     },
     "execution_count": 36,
     "metadata": {},
     "output_type": "execute_result"
    }
   ],
   "source": [
    "marks2"
   ]
  },
  {
   "cell_type": "markdown",
   "id": "04359639",
   "metadata": {},
   "source": [
    "#### what is the average marks of students after 2nd step?"
   ]
  },
  {
   "cell_type": "code",
   "execution_count": 26,
   "id": "111dc495",
   "metadata": {},
   "outputs": [
    {
     "data": {
      "text/plain": [
       "55.51724137931034"
      ]
     },
     "execution_count": 26,
     "metadata": {},
     "output_type": "execute_result"
    }
   ],
   "source": [
    "np.mean(marks2)  #average"
   ]
  },
  {
   "cell_type": "code",
   "execution_count": 27,
   "id": "8072d05f",
   "metadata": {},
   "outputs": [
    {
     "data": {
      "text/plain": [
       "55.51724137931034"
      ]
     },
     "execution_count": 27,
     "metadata": {},
     "output_type": "execute_result"
    }
   ],
   "source": [
    "np.average(marks2)"
   ]
  },
  {
   "cell_type": "code",
   "execution_count": 79,
   "id": "1eb3f8e0",
   "metadata": {},
   "outputs": [
    {
     "data": {
      "text/plain": [
       "61.3448275862069"
      ]
     },
     "execution_count": 79,
     "metadata": {},
     "output_type": "execute_result"
    }
   ],
   "source": [
    "np.mean(marks1)"
   ]
  },
  {
   "cell_type": "markdown",
   "id": "069b1391",
   "metadata": {},
   "source": [
    "#### How many students got less than 60 marks?"
   ]
  },
  {
   "cell_type": "code",
   "execution_count": 33,
   "id": "68bb3040",
   "metadata": {},
   "outputs": [
    {
     "data": {
      "text/plain": [
       "19"
      ]
     },
     "execution_count": 33,
     "metadata": {},
     "output_type": "execute_result"
    }
   ],
   "source": [
    "np.sum(marks2<60)"
   ]
  },
  {
   "cell_type": "code",
   "execution_count": 34,
   "id": "ba2ed916",
   "metadata": {},
   "outputs": [
    {
     "data": {
      "text/plain": [
       "19"
      ]
     },
     "execution_count": 34,
     "metadata": {},
     "output_type": "execute_result"
    }
   ],
   "source": [
    "len(marks2[marks2<60])"
   ]
  },
  {
   "cell_type": "markdown",
   "id": "57c97e0f",
   "metadata": {},
   "source": [
    "#### what is the maximum marks?"
   ]
  },
  {
   "cell_type": "code",
   "execution_count": 37,
   "id": "be340eba",
   "metadata": {},
   "outputs": [
    {
     "data": {
      "text/plain": [
       "97"
      ]
     },
     "execution_count": 37,
     "metadata": {},
     "output_type": "execute_result"
    }
   ],
   "source": [
    "np.max(marks2)"
   ]
  },
  {
   "cell_type": "markdown",
   "id": "f7289938",
   "metadata": {},
   "source": [
    "#### Convert the marks to float32."
   ]
  },
  {
   "cell_type": "code",
   "execution_count": 39,
   "id": "b30bf742",
   "metadata": {},
   "outputs": [
    {
     "data": {
      "text/plain": [
       "array([44., 24., 45., 59., 32., 96., 87., 52., 62., 58., 52., 87., 45.,\n",
       "       45.,  3., 56., 81., 59., 87., 92., 45., 87., 96., 97.,  1., 19.,\n",
       "        2., 53., 44.], dtype=float32)"
      ]
     },
     "execution_count": 39,
     "metadata": {},
     "output_type": "execute_result"
    }
   ],
   "source": [
    "np.array(marks2.astype('float32'))"
   ]
  },
  {
   "cell_type": "markdown",
   "id": "14ef3a9e",
   "metadata": {},
   "source": [
    "### Solve the system of equations using NumPy's linalg.solve function."
   ]
  },
  {
   "cell_type": "code",
   "execution_count": null,
   "id": "50def8be",
   "metadata": {},
   "outputs": [],
   "source": [
    "2x + 3y - z = 10\n",
    "x - y + 2z = 5\n",
    "3x + 2y + z = 12"
   ]
  },
  {
   "cell_type": "code",
   "execution_count": 40,
   "id": "7c61be9d",
   "metadata": {},
   "outputs": [
    {
     "data": {
      "text/plain": [
       "array([[ 2,  3, -1],\n",
       "       [ 1, -1,  2],\n",
       "       [ 3,  2,  1]])"
      ]
     },
     "execution_count": 40,
     "metadata": {},
     "output_type": "execute_result"
    }
   ],
   "source": [
    "a = np.array([[2,3,-1],[1,-1,2],[3,2,1]])\n",
    "a"
   ]
  },
  {
   "cell_type": "code",
   "execution_count": 42,
   "id": "4d9077e1",
   "metadata": {},
   "outputs": [
    {
     "data": {
      "text/plain": [
       "array([10,  5, 12])"
      ]
     },
     "execution_count": 42,
     "metadata": {},
     "output_type": "execute_result"
    }
   ],
   "source": [
    "b = np.array([10,5,12])\n",
    "b"
   ]
  },
  {
   "cell_type": "code",
   "execution_count": 43,
   "id": "1ac64035",
   "metadata": {},
   "outputs": [
    {
     "data": {
      "text/plain": [
       "array([-6.75539944e+15,  6.75539944e+15,  6.75539944e+15])"
      ]
     },
     "execution_count": 43,
     "metadata": {},
     "output_type": "execute_result"
    }
   ],
   "source": [
    "np.linalg.solve(a,b)"
   ]
  },
  {
   "cell_type": "code",
   "execution_count": null,
   "id": "b4bdda49",
   "metadata": {},
   "outputs": [],
   "source": [
    "2x + y - z + 3w = 8\n",
    "3x - 2y + 2z + 2w = 1\n",
    "x + 3y - 2z + w = 7\n",
    "4x - y + z - 2w = 3"
   ]
  },
  {
   "cell_type": "code",
   "execution_count": 44,
   "id": "ba5fc951",
   "metadata": {},
   "outputs": [
    {
     "data": {
      "text/plain": [
       "array([[ 2,  1, -1,  3],\n",
       "       [ 3, -2,  2,  2],\n",
       "       [ 1,  3, -2,  1],\n",
       "       [ 4, -1,  1, -2]])"
      ]
     },
     "execution_count": 44,
     "metadata": {},
     "output_type": "execute_result"
    }
   ],
   "source": [
    "c = np.array([[2,1,-1,3],[3,-2,2,2],[1,3,-2,1],[4,-1,1,-2]])\n",
    "c"
   ]
  },
  {
   "cell_type": "code",
   "execution_count": 45,
   "id": "4c5829d1",
   "metadata": {},
   "outputs": [
    {
     "data": {
      "text/plain": [
       "array([8, 1, 7, 3])"
      ]
     },
     "execution_count": 45,
     "metadata": {},
     "output_type": "execute_result"
    }
   ],
   "source": [
    "d = np.array([8,1,7,3])\n",
    "d"
   ]
  },
  {
   "cell_type": "code",
   "execution_count": 46,
   "id": "ad383813",
   "metadata": {},
   "outputs": [
    {
     "data": {
      "text/plain": [
       "array([ 1.73170732, -0.75609756, -3.46341463,  0.6097561 ])"
      ]
     },
     "execution_count": 46,
     "metadata": {},
     "output_type": "execute_result"
    }
   ],
   "source": [
    "np.linalg.solve(c,d)"
   ]
  },
  {
   "cell_type": "code",
   "execution_count": null,
   "id": "cf2c059e",
   "metadata": {},
   "outputs": [],
   "source": [
    "4x + 2y - 3z = 10\n",
    "-2x + 3y + z = -3\n",
    "x - y + 2z = 4"
   ]
  },
  {
   "cell_type": "code",
   "execution_count": 47,
   "id": "c387b07c",
   "metadata": {},
   "outputs": [
    {
     "data": {
      "text/plain": [
       "array([[ 4,  2, -3],\n",
       "       [-2,  3,  1],\n",
       "       [ 1, -1,  2]])"
      ]
     },
     "execution_count": 47,
     "metadata": {},
     "output_type": "execute_result"
    }
   ],
   "source": [
    "e = np.array([[4,2,-3],[-2,3,1],[1,-1,2]])\n",
    "e"
   ]
  },
  {
   "cell_type": "code",
   "execution_count": 48,
   "id": "0a8dc893",
   "metadata": {},
   "outputs": [
    {
     "data": {
      "text/plain": [
       "array([10, -3,  4])"
      ]
     },
     "execution_count": 48,
     "metadata": {},
     "output_type": "execute_result"
    }
   ],
   "source": [
    "f = np.array([10,-3,4])\n",
    "f"
   ]
  },
  {
   "cell_type": "markdown",
   "id": "34b4b77f",
   "metadata": {},
   "source": [
    "### Conditional Selection with np.where()"
   ]
  },
  {
   "cell_type": "markdown",
   "id": "2faacfd0",
   "metadata": {},
   "source": [
    "#### Generate a random 1D array A of 10 integers between 1 and 100."
   ]
  },
  {
   "cell_type": "code",
   "execution_count": 49,
   "id": "033d4a21",
   "metadata": {},
   "outputs": [
    {
     "data": {
      "text/plain": [
       "array([24, 15, 48, 26, 50,  7, 59, 74, 77, 73])"
      ]
     },
     "execution_count": 49,
     "metadata": {},
     "output_type": "execute_result"
    }
   ],
   "source": [
    "A = np.random.randint(1,100,10)\n",
    "A"
   ]
  },
  {
   "cell_type": "markdown",
   "id": "64b719b6",
   "metadata": {},
   "source": [
    "#### Use np.where() to find the indices where the elements of A are greater than 50."
   ]
  },
  {
   "cell_type": "code",
   "execution_count": 50,
   "id": "9818f9f9",
   "metadata": {},
   "outputs": [
    {
     "data": {
      "text/plain": [
       "(array([6, 7, 8, 9], dtype=int64),)"
      ]
     },
     "execution_count": 50,
     "metadata": {},
     "output_type": "execute_result"
    }
   ],
   "source": [
    "np.where(A>50)"
   ]
  },
  {
   "cell_type": "markdown",
   "id": "034bab6a",
   "metadata": {},
   "source": [
    "#### Create a new array B that contains elements from A where the condition is met."
   ]
  },
  {
   "cell_type": "code",
   "execution_count": 57,
   "id": "a49ef8ba",
   "metadata": {},
   "outputs": [
    {
     "data": {
      "text/plain": [
       "array([59, 74, 77, 73])"
      ]
     },
     "execution_count": 57,
     "metadata": {},
     "output_type": "execute_result"
    }
   ],
   "source": [
    "B = np.array(A[A>50])\n",
    "B"
   ]
  },
  {
   "cell_type": "markdown",
   "id": "be7d4da1",
   "metadata": {},
   "source": [
    "#### Calculate the mean of array B and print it along with arrays A and B."
   ]
  },
  {
   "cell_type": "code",
   "execution_count": 58,
   "id": "d81b7f41",
   "metadata": {},
   "outputs": [
    {
     "data": {
      "text/plain": [
       "70.75"
      ]
     },
     "execution_count": 58,
     "metadata": {},
     "output_type": "execute_result"
    }
   ],
   "source": [
    "np.mean(B)"
   ]
  },
  {
   "cell_type": "code",
   "execution_count": 59,
   "id": "5d29ecc7",
   "metadata": {},
   "outputs": [
    {
     "data": {
      "text/plain": [
       "45.3"
      ]
     },
     "execution_count": 59,
     "metadata": {},
     "output_type": "execute_result"
    }
   ],
   "source": [
    "np.mean(A)"
   ]
  },
  {
   "cell_type": "markdown",
   "id": "b19fcf24",
   "metadata": {},
   "source": [
    "### Replace Values with np.where()"
   ]
  },
  {
   "cell_type": "markdown",
   "id": "8c211ecf",
   "metadata": {},
   "source": [
    "#### Create a 4x4 random integer matrix C with values between -10 and 10."
   ]
  },
  {
   "cell_type": "code",
   "execution_count": 74,
   "id": "70c124a2",
   "metadata": {},
   "outputs": [
    {
     "data": {
      "text/plain": [
       "array([[-5,  9, -6,  0],\n",
       "       [ 5, -6, -2,  6],\n",
       "       [-1,  7, -6, -2],\n",
       "       [ 7,  4,  4,  4]])"
      ]
     },
     "execution_count": 74,
     "metadata": {},
     "output_type": "execute_result"
    }
   ],
   "source": [
    "c = np.random.randint(-10,10,16).reshape(4,4)\n",
    "c"
   ]
  },
  {
   "cell_type": "markdown",
   "id": "5dfa62e0",
   "metadata": {},
   "source": [
    "#### Use np.where() to replace all negative values in matrix C with 0."
   ]
  },
  {
   "cell_type": "code",
   "execution_count": 75,
   "id": "86921152",
   "metadata": {},
   "outputs": [
    {
     "data": {
      "text/plain": [
       "array([[0, 9, 0, 0],\n",
       "       [5, 0, 0, 6],\n",
       "       [0, 7, 0, 0],\n",
       "       [7, 4, 4, 4]])"
      ]
     },
     "execution_count": 75,
     "metadata": {},
     "output_type": "execute_result"
    }
   ],
   "source": [
    "d = np.where(c<0,0,c)\n",
    "d"
   ]
  },
  {
   "cell_type": "markdown",
   "id": "925762a5",
   "metadata": {},
   "source": [
    "#### Print the original matrix C and the modified matrix."
   ]
  },
  {
   "cell_type": "code",
   "execution_count": 77,
   "id": "34d67272",
   "metadata": {},
   "outputs": [
    {
     "data": {
      "text/plain": [
       "array([[-5,  9, -6,  0],\n",
       "       [ 5, -6, -2,  6],\n",
       "       [-1,  7, -6, -2],\n",
       "       [ 7,  4,  4,  4]])"
      ]
     },
     "execution_count": 77,
     "metadata": {},
     "output_type": "execute_result"
    }
   ],
   "source": [
    "c"
   ]
  },
  {
   "cell_type": "code",
   "execution_count": 78,
   "id": "de10433d",
   "metadata": {},
   "outputs": [
    {
     "data": {
      "text/plain": [
       "array([[0, 9, 0, 0],\n",
       "       [5, 0, 0, 6],\n",
       "       [0, 7, 0, 0],\n",
       "       [7, 4, 4, 4]])"
      ]
     },
     "execution_count": 78,
     "metadata": {},
     "output_type": "execute_result"
    }
   ],
   "source": [
    "d"
   ]
  },
  {
   "cell_type": "code",
   "execution_count": null,
   "id": "4fd3d0a7",
   "metadata": {},
   "outputs": [],
   "source": []
  }
 ],
 "metadata": {
  "kernelspec": {
   "display_name": "Python 3 (ipykernel)",
   "language": "python",
   "name": "python3"
  },
  "language_info": {
   "codemirror_mode": {
    "name": "ipython",
    "version": 3
   },
   "file_extension": ".py",
   "mimetype": "text/x-python",
   "name": "python",
   "nbconvert_exporter": "python",
   "pygments_lexer": "ipython3",
   "version": "3.11.4"
  }
 },
 "nbformat": 4,
 "nbformat_minor": 5
}
