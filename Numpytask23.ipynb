{
 "cells": [
  {
   "cell_type": "code",
   "execution_count": null,
   "id": "49a8899d",
   "metadata": {},
   "outputs": [],
   "source": [
    "\n",
    "Data Cleaning using numpy\n",
    "The following are the student marks of a class [44,24,np.nan,59,32,96,188,52,62,58,52,120,np.nan,np.nan,3,56,81,59,,122,92,np.nan,87,96,97,1,19,2,53, 44]\n",
    "\n",
    "Find the no of outliers and missing values?\n",
    "replace the outliers with 45 and missing value with 87.\n",
    "what is the average marks of students after 2nd step?\n",
    "How many students got less than 60 marks?\n",
    "what is the maximum marks?\n",
    "Convert the marks to float32.\n",
    "Solving Linear Equations\n",
    "2x + 3y - z = 10\n",
    "x - y + 2z = 5\n",
    "3x + 2y + z = 12\n",
    "\n",
    "2x + y - z + 3w = 8\n",
    "3x - 2y + 2z + 2w = 1\n",
    "x + 3y - 2z + w = 7\n",
    "4x - y + z - 2w = 3\n",
    "\n",
    "4x + 2y - 3z = 10\n",
    "-2x + 3y + z = -3\n",
    "x - y + 2z = 4\n",
    "\n",
    "Solve the system of equations using NumPy's linalg.solve function.\n",
    "\n",
    "Conditional Selection with np.where()\n",
    "Generate a random 1D array A of 10 integers between 1 and 100.\n",
    "\n",
    "Use np.where() to find the indices where the elements of A are greater than 50.\n",
    "\n",
    "Create a new array B that contains elements from A where the condition is met.\n",
    "\n",
    "Calculate the mean of array B and print it along with arrays A and B.\n",
    "\n",
    "Replace Values with np.where()\n",
    "Create a 4x4 random integer matrix C with values between -10 and 10.\n",
    "\n",
    "Use np.where() to replace all negative values in matrix C with 0.\n",
    "\n",
    "Print the original matrix C and the modified matrix.\n",
    "\n",
    " "
   ]
  },
  {
   "cell_type": "code",
   "execution_count": null,
   "id": "f992071c",
   "metadata": {},
   "outputs": [],
   "source": [
    "[44,24,np.nan,59,32,96,188,52,62,58,52,120,np.nan,np.nan,3,56,81,59,122,92,np.nan,87,96,97,1,19,2,53, 44]"
   ]
  },
  {
   "cell_type": "markdown",
   "id": "34dc8634",
   "metadata": {},
   "source": [
    "#### Find the no of outliers and missing values?"
   ]
  },
  {
   "cell_type": "code",
   "execution_count": 13,
   "id": "be966275",
   "metadata": {},
   "outputs": [],
   "source": [
    "import numpy as np"
   ]
  },
  {
   "cell_type": "code",
   "execution_count": 21,
   "id": "235f4d18",
   "metadata": {},
   "outputs": [],
   "source": [
    "marks = np.array([44,24,np.nan,59,32,96,188,52,62,58,52,120,np.nan,np.nan,3,56,81,59,122,92,np.nan,87,96,97,1,19,2,53,44])"
   ]
  },
  {
   "cell_type": "code",
   "execution_count": 22,
   "id": "a06fba50",
   "metadata": {},
   "outputs": [
    {
     "data": {
      "text/plain": [
       "array([ 44.,  24.,  nan,  59.,  32.,  96., 188.,  52.,  62.,  58.,  52.,\n",
       "       120.,  nan,  nan,   3.,  56.,  81.,  59., 122.,  92.,  nan,  87.,\n",
       "        96.,  97.,   1.,  19.,   2.,  53.,  44.])"
      ]
     },
     "execution_count": 22,
     "metadata": {},
     "output_type": "execute_result"
    }
   ],
   "source": [
    "marks"
   ]
  },
  {
   "cell_type": "code",
   "execution_count": 15,
   "id": "d7e70e20",
   "metadata": {},
   "outputs": [
    {
     "data": {
      "text/plain": [
       "4"
      ]
     },
     "execution_count": 15,
     "metadata": {},
     "output_type": "execute_result"
    }
   ],
   "source": [
    "missingvalues = np.sum(np.isnan(marks))\n",
    "missingvalues   #no.of missing values"
   ]
  },
  {
   "cell_type": "code",
   "execution_count": 16,
   "id": "2296d15a",
   "metadata": {},
   "outputs": [
    {
     "data": {
      "text/plain": [
       "array([False, False, False, False, False, False,  True, False, False,\n",
       "       False, False,  True, False, False, False, False, False, False,\n",
       "        True, False, False, False, False, False, False, False, False,\n",
       "       False, False])"
      ]
     },
     "execution_count": 16,
     "metadata": {},
     "output_type": "execute_result"
    }
   ],
   "source": [
    "cond = (marks>100)|(marks<0)\n",
    "cond"
   ]
  },
  {
   "cell_type": "code",
   "execution_count": 17,
   "id": "52a61b63",
   "metadata": {},
   "outputs": [
    {
     "data": {
      "text/plain": [
       "3"
      ]
     },
     "execution_count": 17,
     "metadata": {},
     "output_type": "execute_result"
    }
   ],
   "source": [
    "np.sum(cond)  #no.of outliers"
   ]
  },
  {
   "cell_type": "code",
   "execution_count": 23,
   "id": "76dc79bb",
   "metadata": {},
   "outputs": [
    {
     "data": {
      "text/plain": [
       "array([ 44,  24,  45,  59,  32,  96, 188,  52,  62,  58,  52, 120,  45,\n",
       "        45,   3,  56,  81,  59, 122,  92,  45,  87,  96,  97,   1,  19,\n",
       "         2,  53,  44], dtype=int16)"
      ]
     },
     "execution_count": 23,
     "metadata": {},
     "output_type": "execute_result"
    }
   ],
   "source": [
    "marks1 = np.where(np.isnan(marks),45,marks).astype('int16')\n",
    "marks1 "
   ]
  },
  {
   "cell_type": "code",
   "execution_count": 24,
   "id": "b7bb4dcd",
   "metadata": {},
   "outputs": [
    {
     "data": {
      "text/plain": [
       "array([44, 24, 45, 59, 32, 96, 87, 52, 62, 58, 52, 87, 45, 45,  3, 56, 81,\n",
       "       59, 87, 92, 45, 87, 96, 97,  1, 19,  2, 53, 44], dtype=int16)"
      ]
     },
     "execution_count": 24,
     "metadata": {},
     "output_type": "execute_result"
    }
   ],
   "source": [
    "marks2 = np.where(cond,87,marks1)\n",
    "marks2"
   ]
  },
  {
   "cell_type": "code",
   "execution_count": 36,
   "id": "1f4e140e",
   "metadata": {},
   "outputs": [
    {
     "data": {
      "text/plain": [
       "array([44, 24, 45, 59, 32, 96, 87, 52, 62, 58, 52, 87, 45, 45,  3, 56, 81,\n",
       "       59, 87, 92, 45, 87, 96, 97,  1, 19,  2, 53, 44], dtype=int16)"
      ]
     },
     "execution_count": 36,
     "metadata": {},
     "output_type": "execute_result"
    }
   ],
   "source": [
    "marks2"
   ]
  },
  {
   "cell_type": "markdown",
   "id": "7aac8a3d",
   "metadata": {},
   "source": [
    "#### what is the average marks of students after 2nd step?"
   ]
  },
  {
   "cell_type": "code",
   "execution_count": 26,
   "id": "0f2ae786",
   "metadata": {},
   "outputs": [
    {
     "data": {
      "text/plain": [
       "55.51724137931034"
      ]
     },
     "execution_count": 26,
     "metadata": {},
     "output_type": "execute_result"
    }
   ],
   "source": [
    "np.mean(marks2)  #average"
   ]
  },
  {
   "cell_type": "code",
   "execution_count": 27,
   "id": "5e6c4959",
   "metadata": {},
   "outputs": [
    {
     "data": {
      "text/plain": [
       "55.51724137931034"
      ]
     },
     "execution_count": 27,
     "metadata": {},
     "output_type": "execute_result"
    }
   ],
   "source": [
    "np.average(marks2)"
   ]
  },
  {
   "cell_type": "code",
   "execution_count": 79,
   "id": "3475e859",
   "metadata": {},
   "outputs": [
    {
     "data": {
      "text/plain": [
       "61.3448275862069"
      ]
     },
     "execution_count": 79,
     "metadata": {},
     "output_type": "execute_result"
    }
   ],
   "source": [
    "np.mean(marks1)"
   ]
  },
  {
   "cell_type": "markdown",
   "id": "01675d3f",
   "metadata": {},
   "source": [
    "#### How many students got less than 60 marks?"
   ]
  },
  {
   "cell_type": "code",
   "execution_count": 33,
   "id": "2fb198c3",
   "metadata": {},
   "outputs": [
    {
     "data": {
      "text/plain": [
       "19"
      ]
     },
     "execution_count": 33,
     "metadata": {},
     "output_type": "execute_result"
    }
   ],
   "source": [
    "np.sum(marks2<60)"
   ]
  },
  {
   "cell_type": "code",
   "execution_count": 34,
   "id": "2456c3ae",
   "metadata": {},
   "outputs": [
    {
     "data": {
      "text/plain": [
       "19"
      ]
     },
     "execution_count": 34,
     "metadata": {},
     "output_type": "execute_result"
    }
   ],
   "source": [
    "len(marks2[marks2<60])"
   ]
  },
  {
   "cell_type": "markdown",
   "id": "48187e97",
   "metadata": {},
   "source": [
    "#### what is the maximum marks?"
   ]
  },
  {
   "cell_type": "code",
   "execution_count": 37,
   "id": "18560ff1",
   "metadata": {},
   "outputs": [
    {
     "data": {
      "text/plain": [
       "97"
      ]
     },
     "execution_count": 37,
     "metadata": {},
     "output_type": "execute_result"
    }
   ],
   "source": [
    "np.max(marks2)"
   ]
  },
  {
   "cell_type": "markdown",
   "id": "83946454",
   "metadata": {},
   "source": [
    "#### Convert the marks to float32."
   ]
  },
  {
   "cell_type": "code",
   "execution_count": 39,
   "id": "1a5d9458",
   "metadata": {},
   "outputs": [
    {
     "data": {
      "text/plain": [
       "array([44., 24., 45., 59., 32., 96., 87., 52., 62., 58., 52., 87., 45.,\n",
       "       45.,  3., 56., 81., 59., 87., 92., 45., 87., 96., 97.,  1., 19.,\n",
       "        2., 53., 44.], dtype=float32)"
      ]
     },
     "execution_count": 39,
     "metadata": {},
     "output_type": "execute_result"
    }
   ],
   "source": [
    "np.array(marks2.astype('float32'))"
   ]
  },
  {
   "cell_type": "markdown",
   "id": "8bcd9d6d",
   "metadata": {},
   "source": [
    "### Solve the system of equations using NumPy's linalg.solve function."
   ]
  },
  {
   "cell_type": "code",
   "execution_count": null,
   "id": "24dd0582",
   "metadata": {},
   "outputs": [],
   "source": [
    "2x + 3y - z = 10\n",
    "x - y + 2z = 5\n",
    "3x + 2y + z = 12"
   ]
  },
  {
   "cell_type": "code",
   "execution_count": 40,
   "id": "6443f4fc",
   "metadata": {},
   "outputs": [
    {
     "data": {
      "text/plain": [
       "array([[ 2,  3, -1],\n",
       "       [ 1, -1,  2],\n",
       "       [ 3,  2,  1]])"
      ]
     },
     "execution_count": 40,
     "metadata": {},
     "output_type": "execute_result"
    }
   ],
   "source": [
    "a = np.array([[2,3,-1],[1,-1,2],[3,2,1]])\n",
    "a"
   ]
  },
  {
   "cell_type": "code",
   "execution_count": 42,
   "id": "fb45a8b8",
   "metadata": {},
   "outputs": [
    {
     "data": {
      "text/plain": [
       "array([10,  5, 12])"
      ]
     },
     "execution_count": 42,
     "metadata": {},
     "output_type": "execute_result"
    }
   ],
   "source": [
    "b = np.array([10,5,12])\n",
    "b"
   ]
  },
  {
   "cell_type": "code",
   "execution_count": 43,
   "id": "1e0d9e66",
   "metadata": {},
   "outputs": [
    {
     "data": {
      "text/plain": [
       "array([-6.75539944e+15,  6.75539944e+15,  6.75539944e+15])"
      ]
     },
     "execution_count": 43,
     "metadata": {},
     "output_type": "execute_result"
    }
   ],
   "source": [
    "np.linalg.solve(a,b)"
   ]
  },
  {
   "cell_type": "code",
   "execution_count": null,
   "id": "3749c0af",
   "metadata": {},
   "outputs": [],
   "source": [
    "2x + y - z + 3w = 8\n",
    "3x - 2y + 2z + 2w = 1\n",
    "x + 3y - 2z + w = 7\n",
    "4x - y + z - 2w = 3"
   ]
  },
  {
   "cell_type": "code",
   "execution_count": 44,
   "id": "eca2fb69",
   "metadata": {},
   "outputs": [
    {
     "data": {
      "text/plain": [
       "array([[ 2,  1, -1,  3],\n",
       "       [ 3, -2,  2,  2],\n",
       "       [ 1,  3, -2,  1],\n",
       "       [ 4, -1,  1, -2]])"
      ]
     },
     "execution_count": 44,
     "metadata": {},
     "output_type": "execute_result"
    }
   ],
   "source": [
    "c = np.array([[2,1,-1,3],[3,-2,2,2],[1,3,-2,1],[4,-1,1,-2]])\n",
    "c"
   ]
  },
  {
   "cell_type": "code",
   "execution_count": 45,
   "id": "36f6756d",
   "metadata": {},
   "outputs": [
    {
     "data": {
      "text/plain": [
       "array([8, 1, 7, 3])"
      ]
     },
     "execution_count": 45,
     "metadata": {},
     "output_type": "execute_result"
    }
   ],
   "source": [
    "d = np.array([8,1,7,3])\n",
    "d"
   ]
  },
  {
   "cell_type": "code",
   "execution_count": 46,
   "id": "74bb9aa2",
   "metadata": {},
   "outputs": [
    {
     "data": {
      "text/plain": [
       "array([ 1.73170732, -0.75609756, -3.46341463,  0.6097561 ])"
      ]
     },
     "execution_count": 46,
     "metadata": {},
     "output_type": "execute_result"
    }
   ],
   "source": [
    "np.linalg.solve(c,d)"
   ]
  },
  {
   "cell_type": "code",
   "execution_count": null,
   "id": "ff5724b8",
   "metadata": {},
   "outputs": [],
   "source": [
    "4x + 2y - 3z = 10\n",
    "-2x + 3y + z = -3\n",
    "x - y + 2z = 4"
   ]
  },
  {
   "cell_type": "code",
   "execution_count": 47,
   "id": "e9fd654e",
   "metadata": {},
   "outputs": [
    {
     "data": {
      "text/plain": [
       "array([[ 4,  2, -3],\n",
       "       [-2,  3,  1],\n",
       "       [ 1, -1,  2]])"
      ]
     },
     "execution_count": 47,
     "metadata": {},
     "output_type": "execute_result"
    }
   ],
   "source": [
    "e = np.array([[4,2,-3],[-2,3,1],[1,-1,2]])\n",
    "e"
   ]
  },
  {
   "cell_type": "code",
   "execution_count": 48,
   "id": "6afe0c4a",
   "metadata": {},
   "outputs": [
    {
     "data": {
      "text/plain": [
       "array([10, -3,  4])"
      ]
     },
     "execution_count": 48,
     "metadata": {},
     "output_type": "execute_result"
    }
   ],
   "source": [
    "f = np.array([10,-3,4])\n",
    "f"
   ]
  },
  {
   "cell_type": "code",
   "execution_count": 80,
   "id": "6fa80f24",
   "metadata": {},
   "outputs": [
    {
     "data": {
      "text/plain": [
       "array([2.85365854, 0.6097561 , 0.87804878])"
      ]
     },
     "execution_count": 80,
     "metadata": {},
     "output_type": "execute_result"
    }
   ],
   "source": [
    "np.linalg.solve(e,f)"
   ]
  },
  {
   "cell_type": "markdown",
   "id": "628faaa1",
   "metadata": {},
   "source": [
    "### Conditional Selection with np.where()"
   ]
  },
  {
   "cell_type": "markdown",
   "id": "b39a435d",
   "metadata": {},
   "source": [
    "#### Generate a random 1D array A of 10 integers between 1 and 100."
   ]
  },
  {
   "cell_type": "code",
   "execution_count": 49,
   "id": "e6b9e4df",
   "metadata": {},
   "outputs": [
    {
     "data": {
      "text/plain": [
       "array([24, 15, 48, 26, 50,  7, 59, 74, 77, 73])"
      ]
     },
     "execution_count": 49,
     "metadata": {},
     "output_type": "execute_result"
    }
   ],
   "source": [
    "A = np.random.randint(1,100,10)\n",
    "A"
   ]
  },
  {
   "cell_type": "markdown",
   "id": "4359e7eb",
   "metadata": {},
   "source": [
    "#### Use np.where() to find the indices where the elements of A are greater than 50."
   ]
  },
  {
   "cell_type": "code",
   "execution_count": 50,
   "id": "e5c4687e",
   "metadata": {},
   "outputs": [
    {
     "data": {
      "text/plain": [
       "(array([6, 7, 8, 9], dtype=int64),)"
      ]
     },
     "execution_count": 50,
     "metadata": {},
     "output_type": "execute_result"
    }
   ],
   "source": [
    "np.where(A>50)"
   ]
  },
  {
   "cell_type": "markdown",
   "id": "d30bf0bb",
   "metadata": {},
   "source": [
    "#### Create a new array B that contains elements from A where the condition is met."
   ]
  },
  {
   "cell_type": "code",
   "execution_count": 57,
   "id": "f0d42e70",
   "metadata": {},
   "outputs": [
    {
     "data": {
      "text/plain": [
       "array([59, 74, 77, 73])"
      ]
     },
     "execution_count": 57,
     "metadata": {},
     "output_type": "execute_result"
    }
   ],
   "source": [
    "B = np.array(A[A>50])\n",
    "B"
   ]
  },
  {
   "cell_type": "markdown",
   "id": "683e9176",
   "metadata": {},
   "source": [
    "#### Calculate the mean of array B and print it along with arrays A and B."
   ]
  },
  {
   "cell_type": "code",
   "execution_count": 58,
   "id": "3504bfcd",
   "metadata": {},
   "outputs": [
    {
     "data": {
      "text/plain": [
       "70.75"
      ]
     },
     "execution_count": 58,
     "metadata": {},
     "output_type": "execute_result"
    }
   ],
   "source": [
    "np.mean(B)"
   ]
  },
  {
   "cell_type": "code",
   "execution_count": 59,
   "id": "8669b3d9",
   "metadata": {},
   "outputs": [
    {
     "data": {
      "text/plain": [
       "45.3"
      ]
     },
     "execution_count": 59,
     "metadata": {},
     "output_type": "execute_result"
    }
   ],
   "source": [
    "np.mean(A)"
   ]
  },
  {
   "cell_type": "markdown",
   "id": "a2add32a",
   "metadata": {},
   "source": [
    "### Replace Values with np.where()"
   ]
  },
  {
   "cell_type": "markdown",
   "id": "339733a2",
   "metadata": {},
   "source": [
    "#### Create a 4x4 random integer matrix C with values between -10 and 10."
   ]
  },
  {
   "cell_type": "code",
   "execution_count": 74,
   "id": "a94992d7",
   "metadata": {},
   "outputs": [
    {
     "data": {
      "text/plain": [
       "array([[-5,  9, -6,  0],\n",
       "       [ 5, -6, -2,  6],\n",
       "       [-1,  7, -6, -2],\n",
       "       [ 7,  4,  4,  4]])"
      ]
     },
     "execution_count": 74,
     "metadata": {},
     "output_type": "execute_result"
    }
   ],
   "source": [
    "c = np.random.randint(-10,10,16).reshape(4,4)\n",
    "c"
   ]
  },
  {
   "cell_type": "markdown",
   "id": "b2a21257",
   "metadata": {},
   "source": [
    "#### Use np.where() to replace all negative values in matrix C with 0."
   ]
  },
  {
   "cell_type": "code",
   "execution_count": 75,
   "id": "bdca5bd9",
   "metadata": {},
   "outputs": [
    {
     "data": {
      "text/plain": [
       "array([[0, 9, 0, 0],\n",
       "       [5, 0, 0, 6],\n",
       "       [0, 7, 0, 0],\n",
       "       [7, 4, 4, 4]])"
      ]
     },
     "execution_count": 75,
     "metadata": {},
     "output_type": "execute_result"
    }
   ],
   "source": [
    "d = np.where(c<0,0,c)\n",
    "d"
   ]
  },
  {
   "cell_type": "markdown",
   "id": "e25d6c5a",
   "metadata": {},
   "source": [
    "#### Print the original matrix C and the modified matrix."
   ]
  },
  {
   "cell_type": "code",
   "execution_count": 77,
   "id": "ef23a90b",
   "metadata": {},
   "outputs": [
    {
     "data": {
      "text/plain": [
       "array([[-5,  9, -6,  0],\n",
       "       [ 5, -6, -2,  6],\n",
       "       [-1,  7, -6, -2],\n",
       "       [ 7,  4,  4,  4]])"
      ]
     },
     "execution_count": 77,
     "metadata": {},
     "output_type": "execute_result"
    }
   ],
   "source": [
    "c"
   ]
  },
  {
   "cell_type": "code",
   "execution_count": 78,
   "id": "909951ad",
   "metadata": {},
   "outputs": [
    {
     "data": {
      "text/plain": [
       "array([[0, 9, 0, 0],\n",
       "       [5, 0, 0, 6],\n",
       "       [0, 7, 0, 0],\n",
       "       [7, 4, 4, 4]])"
      ]
     },
     "execution_count": 78,
     "metadata": {},
     "output_type": "execute_result"
    }
   ],
   "source": [
    "d"
   ]
  },
  {
   "cell_type": "code",
   "execution_count": null,
   "id": "50f25831",
   "metadata": {},
   "outputs": [],
   "source": []
  }
 ],
 "metadata": {
  "kernelspec": {
   "display_name": "Python 3 (ipykernel)",
   "language": "python",
   "name": "python3"
  },
  "language_info": {
   "codemirror_mode": {
    "name": "ipython",
    "version": 3
   },
   "file_extension": ".py",
   "mimetype": "text/x-python",
   "name": "python",
   "nbconvert_exporter": "python",
   "pygments_lexer": "ipython3",
   "version": "3.11.4"
  }
 },
 "nbformat": 4,
 "nbformat_minor": 5
}
