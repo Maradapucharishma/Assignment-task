{
 "cells": [
  {
   "cell_type": "markdown",
   "id": "89ffda57",
   "metadata": {},
   "source": [
    "1. Write a function called \"add_numbers\" that takes two integers as input and returns their sum.\n",
    "\n",
    "2. Write a function called \"multiply_numbers\" that takes two integers as input and returns their product.\n",
    "\n",
    "3. Write a function called \"calculate_average\" that takes a list of numbers as input and returns the average of thosenumbers.\n",
    "\n",
    "4. Write a function called \"is_even\" that takes an integer as input and returns True if the number is even, and False otherwise.\n",
    "\n",
    "5. Write a function called \"reverse_string\" that takes a string as input and returns the reverse of that string.\n",
    "\n",
    "6. Write a function called \"count_vowels\" that takes a string as input and returns the number of vowels (a, e, i, o, u) in that string.\n",
    "\n",
    "7. Write a function called \"find_max\" that takes a list of numbers as input and returns the maximum value in that list.\n",
    "\n",
    "8. Write a function called \"find_min\" that takes a list of numbers as input and returns the minimum value in that list."
   ]
  },
  {
   "cell_type": "markdown",
   "id": "263570e2",
   "metadata": {},
   "source": [
    "#### 1. Write a function called \"add_numbers\" that takes two integers as input and returns their sum."
   ]
  },
  {
   "cell_type": "code",
   "execution_count": 1,
   "id": "37b9bf9a",
   "metadata": {},
   "outputs": [],
   "source": [
    "def add_numbers(a,b):\n",
    "    return(a+b)"
   ]
  },
  {
   "cell_type": "code",
   "execution_count": 2,
   "id": "f14df8f7",
   "metadata": {},
   "outputs": [
    {
     "name": "stdout",
     "output_type": "stream",
     "text": [
      "15\n"
     ]
    }
   ],
   "source": [
    "add_numbers(5,10)  #position based"
   ]
  },
  {
   "cell_type": "markdown",
   "id": "eb140779",
   "metadata": {},
   "source": [
    "#### 2. Write a function called \"multiply_numbers\" that takes two integers as input and returns their product."
   ]
  },
  {
   "cell_type": "code",
   "execution_count": 3,
   "id": "4143f513",
   "metadata": {},
   "outputs": [],
   "source": [
    "def multiply_numbers(a,b):\n",
    "    return(a*b)"
   ]
  },
  {
   "cell_type": "code",
   "execution_count": 4,
   "id": "302a2cd9",
   "metadata": {},
   "outputs": [
    {
     "data": {
      "text/plain": [
       "70"
      ]
     },
     "execution_count": 4,
     "metadata": {},
     "output_type": "execute_result"
    }
   ],
   "source": [
    "multiply_numbers(a=7,b=10)    #keyword based"
   ]
  },
  {
   "cell_type": "markdown",
   "id": "4137a3c3",
   "metadata": {},
   "source": [
    "#### 3. Write a function called \"calculate_average\" that takes a list of numbers as input and returns the average of thosenumbers."
   ]
  },
  {
   "cell_type": "code",
   "execution_count": 20,
   "id": "f620a8f7",
   "metadata": {},
   "outputs": [],
   "source": [
    "def calculate_average(a,b):\n",
    "    return(sum (values)/len(values))\n",
    "values = [3,4,5,6,7]\n",
    "a = sum(values)\n",
    "b = len(values)"
   ]
  },
  {
   "cell_type": "code",
   "execution_count": 21,
   "id": "bc15a5fc",
   "metadata": {},
   "outputs": [],
   "source": [
    "values = [3,4,5,5,6]"
   ]
  },
  {
   "cell_type": "code",
   "execution_count": 22,
   "id": "799421a7",
   "metadata": {},
   "outputs": [
    {
     "data": {
      "text/plain": [
       "23"
      ]
     },
     "execution_count": 22,
     "metadata": {},
     "output_type": "execute_result"
    }
   ],
   "source": [
    "sum(values)"
   ]
  },
  {
   "cell_type": "code",
   "execution_count": 23,
   "id": "e6c62402",
   "metadata": {},
   "outputs": [
    {
     "data": {
      "text/plain": [
       "5"
      ]
     },
     "execution_count": 23,
     "metadata": {},
     "output_type": "execute_result"
    }
   ],
   "source": [
    "len(values)"
   ]
  },
  {
   "cell_type": "code",
   "execution_count": 24,
   "id": "264ef00f",
   "metadata": {},
   "outputs": [
    {
     "data": {
      "text/plain": [
       "4.6"
      ]
     },
     "execution_count": 24,
     "metadata": {},
     "output_type": "execute_result"
    }
   ],
   "source": [
    "calculate_average(a,b)"
   ]
  },
  {
   "cell_type": "markdown",
   "id": "ab46c6fe",
   "metadata": {},
   "source": [
    "#### Write a function called \"is_even\" that takes an integer as input and returns True if the number is even, and False otherwise."
   ]
  },
  {
   "cell_type": "code",
   "execution_count": 25,
   "id": "366d42b8",
   "metadata": {},
   "outputs": [],
   "source": [
    "def is_even(n):\n",
    "    if n%2==0:\n",
    "        return True\n",
    "    else:\n",
    "        return False"
   ]
  },
  {
   "cell_type": "code",
   "execution_count": 26,
   "id": "f5aee917",
   "metadata": {},
   "outputs": [
    {
     "data": {
      "text/plain": [
       "False"
      ]
     },
     "execution_count": 26,
     "metadata": {},
     "output_type": "execute_result"
    }
   ],
   "source": [
    "is_even(7)"
   ]
  },
  {
   "cell_type": "code",
   "execution_count": 27,
   "id": "74d34b81",
   "metadata": {},
   "outputs": [
    {
     "data": {
      "text/plain": [
       "True"
      ]
     },
     "execution_count": 27,
     "metadata": {},
     "output_type": "execute_result"
    }
   ],
   "source": [
    "is_even(8)"
   ]
  },
  {
   "cell_type": "markdown",
   "id": "6fbd93c3",
   "metadata": {},
   "source": [
    "#### 5. Write a function called \"reverse_string\" that takes a string as input and returns the reverse of that string."
   ]
  },
  {
   "cell_type": "code",
   "execution_count": 34,
   "id": "da07bebd",
   "metadata": {},
   "outputs": [
    {
     "name": "stdout",
     "output_type": "stream",
     "text": [
      "Enter a string :Godavari\n"
     ]
    }
   ],
   "source": [
    "name = input(\"Enter a string :\")\n",
    "def reverse_string(name):\n",
    "    return(name[-1: :-1])"
   ]
  },
  {
   "cell_type": "code",
   "execution_count": 35,
   "id": "0fc75376",
   "metadata": {},
   "outputs": [
    {
     "data": {
      "text/plain": [
       "'iravadoG'"
      ]
     },
     "execution_count": 35,
     "metadata": {},
     "output_type": "execute_result"
    }
   ],
   "source": [
    "reverse_string(name)"
   ]
  },
  {
   "cell_type": "markdown",
   "id": "195a64d2",
   "metadata": {},
   "source": [
    "#### 6. Write a function called \"count_vowels\" that takes a string as input and returns the number of vowels (a, e, i, o, u) in that string."
   ]
  },
  {
   "cell_type": "code",
   "execution_count": 30,
   "id": "443d625f",
   "metadata": {},
   "outputs": [
    {
     "name": "stdout",
     "output_type": "stream",
     "text": [
      "Enter a string : charishma\n"
     ]
    }
   ],
   "source": [
    "text = input(\"Enter a string : \")\n",
    "vowels = ['a','e','i','o','u']\n",
    "count = []\n",
    "def count_vowels(text):\n",
    "    for i in text:\n",
    "        if i in vowels:\n",
    "            count.append(i)\n",
    "    print(\"Number of vowels in given text are :\",len(count))"
   ]
  },
  {
   "cell_type": "code",
   "execution_count": 31,
   "id": "ad7e6318",
   "metadata": {},
   "outputs": [
    {
     "name": "stdout",
     "output_type": "stream",
     "text": [
      "Number of vowels in given text are : 3\n"
     ]
    }
   ],
   "source": [
    "count_vowels(text)"
   ]
  },
  {
   "cell_type": "markdown",
   "id": "b4ad9a67",
   "metadata": {},
   "source": [
    "#### 7. Write a function called \"find_max\" that takes a list of numbers as input and returns the maximum value in that list."
   ]
  },
  {
   "cell_type": "code",
   "execution_count": 17,
   "id": "c0e87679",
   "metadata": {},
   "outputs": [],
   "source": [
    "list1 = [23,45,6,7,8,98]\n",
    "def find_max(list1):\n",
    "    return(max(list1))"
   ]
  },
  {
   "cell_type": "code",
   "execution_count": 18,
   "id": "d7f7addb",
   "metadata": {},
   "outputs": [
    {
     "data": {
      "text/plain": [
       "98"
      ]
     },
     "execution_count": 18,
     "metadata": {},
     "output_type": "execute_result"
    }
   ],
   "source": [
    "find_max(list1)"
   ]
  },
  {
   "cell_type": "code",
   "execution_count": 21,
   "id": "e83c70df",
   "metadata": {},
   "outputs": [],
   "source": [
    "def find_max(a,b,c,d,e,f):\n",
    "    return(max(a,b,c,d,e,f))"
   ]
  },
  {
   "cell_type": "code",
   "execution_count": 22,
   "id": "1b596e8f",
   "metadata": {},
   "outputs": [
    {
     "data": {
      "text/plain": [
       "98"
      ]
     },
     "execution_count": 22,
     "metadata": {},
     "output_type": "execute_result"
    }
   ],
   "source": [
    "find_max(23,45,6,7,8,98)"
   ]
  },
  {
   "cell_type": "markdown",
   "id": "07015820",
   "metadata": {},
   "source": [
    "#### 8. Write a function called \"find_min\" that takes a list of numbers as input and returns the minimum value in that list."
   ]
  },
  {
   "cell_type": "code",
   "execution_count": 15,
   "id": "53fa4f0f",
   "metadata": {},
   "outputs": [],
   "source": [
    "def find_min(a,b,c,d,e):\n",
    "    return(min(a,b,c,d,e))"
   ]
  },
  {
   "cell_type": "code",
   "execution_count": 16,
   "id": "547127c8",
   "metadata": {},
   "outputs": [
    {
     "data": {
      "text/plain": [
       "20"
      ]
     },
     "execution_count": 16,
     "metadata": {},
     "output_type": "execute_result"
    }
   ],
   "source": [
    "find_min(34,56,78,20,45)"
   ]
  },
  {
   "cell_type": "code",
   "execution_count": null,
   "id": "ff9f2a7e",
   "metadata": {},
   "outputs": [],
   "source": []
  }
 ],
 "metadata": {
  "kernelspec": {
   "display_name": "Python 3 (ipykernel)",
   "language": "python",
   "name": "python3"
  },
  "language_info": {
   "codemirror_mode": {
    "name": "ipython",
    "version": 3
   },
   "file_extension": ".py",
   "mimetype": "text/x-python",
   "name": "python",
   "nbconvert_exporter": "python",
   "pygments_lexer": "ipython3",
   "version": "3.11.4"
  }
 },
 "nbformat": 4,
 "nbformat_minor": 5
}
