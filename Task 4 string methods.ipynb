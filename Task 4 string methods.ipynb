{
 "cells": [
  {
   "cell_type": "markdown",
   "id": "b24867f7",
   "metadata": {},
   "source": [
    "1. Ask user to  enter a  website name and check whether it is valid or not(True/False)\n",
    "\n",
    "\n",
    "2. name = \"Innomatics\", course = \"Data Science\"\n",
    "   write python code in `different ways` to show output as :\n",
    "   `\"Hello World I am learning Data Science in Innomatics\"`\n",
    "   \n",
    "   \n",
    "3. Replace `Science` with `Analysis` in the above output.\n",
    "\n",
    "\n",
    "4. `string = '     Hello World I am learning Python in Innomatics   '`\n",
    "    a. How many characters are there in the string.\n",
    "    b. Slice only 'Python' from above string\n",
    "    c. Remove white spaces on both sides then find no.of characters in the string.\n",
    "    d. Convert the string in Upper case\n",
    "    \n",
    "    \n",
    "5. What is the index number of 'World' in above string.\n",
    "\n",
    "\n",
    "6. Split the string with respect to `whitespace`.after that `store` that splitted into a variable and find the `data type`of that variable.\n",
    "\n",
    "\n",
    "7. How many times 'a' is `repeated` in above string.\n",
    "\n",
    "8. "
   ]
  },
  {
   "cell_type": "markdown",
   "id": "f2179793",
   "metadata": {},
   "source": [
    "### Ask user to enter a website name and check whether it is valid or not(True/False)"
   ]
  },
  {
   "cell_type": "code",
   "execution_count": 5,
   "id": "9fb0724a",
   "metadata": {},
   "outputs": [
    {
     "name": "stdout",
     "output_type": "stream",
     "text": [
      "Enter your website: www.pythonstrings.com\n"
     ]
    },
    {
     "data": {
      "text/plain": [
       "True"
      ]
     },
     "execution_count": 5,
     "metadata": {},
     "output_type": "execute_result"
    }
   ],
   "source": [
    "website = input(\"Enter your website: \")#we know website should start with www. and ends with .com\n",
    "(website.startswith('www.')) and (website.endswith('.com'))"
   ]
  },
  {
   "cell_type": "code",
   "execution_count": 6,
   "id": "2965b799",
   "metadata": {},
   "outputs": [
    {
     "name": "stdout",
     "output_type": "stream",
     "text": [
      "Enter your website: https.pythonstrings.com\n"
     ]
    },
    {
     "data": {
      "text/plain": [
       "False"
      ]
     },
     "execution_count": 6,
     "metadata": {},
     "output_type": "execute_result"
    }
   ],
   "source": [
    "website = input(\"Enter your website: \")#we know website should start with www. and ends with .com\n",
    "(website.startswith('www.')) and (website.endswith('.com'))"
   ]
  },
  {
   "cell_type": "markdown",
   "id": "3b12b6b2",
   "metadata": {},
   "source": [
    "#### name = \"Innomatics\", course = \"Data Science\" write python code in different ways to show output as : \"Hello World I am learning Data Science in Innomatics\""
   ]
  },
  {
   "cell_type": "code",
   "execution_count": 8,
   "id": "33a62b45",
   "metadata": {},
   "outputs": [],
   "source": [
    "name = \"Innomatics\"\n",
    "course = \"DataScience\""
   ]
  },
  {
   "cell_type": "code",
   "execution_count": 9,
   "id": "c2eeb495",
   "metadata": {},
   "outputs": [
    {
     "name": "stdout",
     "output_type": "stream",
     "text": [
      "Hello World I am learning DataScience in Innomatics\n"
     ]
    }
   ],
   "source": [
    "#1st method\n",
    "print(\"Hello World I am learning \"+course+\" in \"+name)"
   ]
  },
  {
   "cell_type": "code",
   "execution_count": 13,
   "id": "89f2268a",
   "metadata": {},
   "outputs": [
    {
     "name": "stdout",
     "output_type": "stream",
     "text": [
      "Hello World I am learning DataScience in Innomatics\n"
     ]
    }
   ],
   "source": [
    "#2nd method\n",
    "print(\"Hello World I am learning {} in {}\".format(course,name))"
   ]
  },
  {
   "cell_type": "code",
   "execution_count": 14,
   "id": "45f509b3",
   "metadata": {},
   "outputs": [
    {
     "name": "stdout",
     "output_type": "stream",
     "text": [
      "Hello World I am learning DataScience in Innomatics\n"
     ]
    }
   ],
   "source": [
    "#3rd method\n",
    "print(f\"Hello World I am learning {course} in {name}\")"
   ]
  },
  {
   "cell_type": "code",
   "execution_count": 16,
   "id": "c3584993",
   "metadata": {},
   "outputs": [
    {
     "name": "stdout",
     "output_type": "stream",
     "text": [
      "Hello World I am learning DataScience in Innomatics\n"
     ]
    }
   ],
   "source": [
    "#4th method\n",
    "print(\"Hello World I am learning\", course, \"in\", name)"
   ]
  },
  {
   "cell_type": "markdown",
   "id": "dda2da89",
   "metadata": {},
   "source": [
    "#### Replace Science with Analysis in the above output."
   ]
  },
  {
   "cell_type": "code",
   "execution_count": 18,
   "id": "f68de99f",
   "metadata": {},
   "outputs": [
    {
     "data": {
      "text/plain": [
       "'Hello World I am learning DataAnalysis in Innomatics'"
      ]
     },
     "execution_count": 18,
     "metadata": {},
     "output_type": "execute_result"
    }
   ],
   "source": [
    "a = \"Hello World I am learning DataScience in Innomatics\"\n",
    "a.replace('Science','Analysis') #(oldword,newword)"
   ]
  },
  {
   "cell_type": "markdown",
   "id": "8aa2c302",
   "metadata": {},
   "source": [
    "#### `string = '     Hello World I am learning Python in Innomatics   '`\n",
    "* a. How many characters are there in the string.\n",
    "* b. Slice only 'Python' from above string\n",
    "* c. Remove white spaces on both sides then find no.of characters in the string.\n",
    "* d. Convert the string in Upper case\n",
    "    "
   ]
  },
  {
   "cell_type": "code",
   "execution_count": 21,
   "id": "321f4861",
   "metadata": {},
   "outputs": [],
   "source": [
    "string1 = '     Hello World I am learning Python in Innomatics   '"
   ]
  },
  {
   "cell_type": "markdown",
   "id": "20d9a85c",
   "metadata": {},
   "source": [
    "#### a.How many characters are there in the string."
   ]
  },
  {
   "cell_type": "code",
   "execution_count": 22,
   "id": "006245f4",
   "metadata": {},
   "outputs": [
    {
     "data": {
      "text/plain": [
       "54"
      ]
     },
     "execution_count": 22,
     "metadata": {},
     "output_type": "execute_result"
    }
   ],
   "source": [
    "len(string1) #length returns the number of characters in the string"
   ]
  },
  {
   "cell_type": "markdown",
   "id": "7e88c928",
   "metadata": {},
   "source": [
    "#### b.Slice only 'Python' from above string"
   ]
  },
  {
   "cell_type": "code",
   "execution_count": 27,
   "id": "9a67659c",
   "metadata": {},
   "outputs": [
    {
     "data": {
      "text/plain": [
       "'Python'"
      ]
     },
     "execution_count": 27,
     "metadata": {},
     "output_type": "execute_result"
    }
   ],
   "source": [
    "string1[31:37:1]"
   ]
  },
  {
   "cell_type": "markdown",
   "id": "a980cd6d",
   "metadata": {},
   "source": [
    "#### c. Remove white spaces on both sides then find no.of characters in the string."
   ]
  },
  {
   "cell_type": "code",
   "execution_count": 37,
   "id": "482522b2",
   "metadata": {},
   "outputs": [
    {
     "name": "stdout",
     "output_type": "stream",
     "text": [
      "Hello World I am learning Python in Innomatics\n"
     ]
    },
    {
     "data": {
      "text/plain": [
       "46"
      ]
     },
     "execution_count": 37,
     "metadata": {},
     "output_type": "execute_result"
    }
   ],
   "source": [
    "b = string1.strip()\n",
    "print(b)\n",
    "len(b) #length of string"
   ]
  },
  {
   "cell_type": "markdown",
   "id": "dec9aca9",
   "metadata": {},
   "source": [
    "#### d. Convert the string in Upper case"
   ]
  },
  {
   "cell_type": "code",
   "execution_count": 40,
   "id": "0e30d1f7",
   "metadata": {},
   "outputs": [
    {
     "data": {
      "text/plain": [
       "'     HELLO WORLD I AM LEARNING PYTHON IN INNOMATICS   '"
      ]
     },
     "execution_count": 40,
     "metadata": {},
     "output_type": "execute_result"
    }
   ],
   "source": [
    "string1.upper()"
   ]
  },
  {
   "cell_type": "markdown",
   "id": "9b064101",
   "metadata": {},
   "source": [
    "#### What is the index number of 'World' in above string."
   ]
  },
  {
   "cell_type": "code",
   "execution_count": 39,
   "id": "867460a9",
   "metadata": {},
   "outputs": [
    {
     "data": {
      "text/plain": [
       "11"
      ]
     },
     "execution_count": 39,
     "metadata": {},
     "output_type": "execute_result"
    }
   ],
   "source": [
    "string1.find('World')"
   ]
  },
  {
   "cell_type": "markdown",
   "id": "7cf117e3",
   "metadata": {},
   "source": [
    "#### 6.Split the string with respect to `whitespace`.after that `store` that splitted into a variable and find the `data type`of that variable."
   ]
  },
  {
   "cell_type": "code",
   "execution_count": 44,
   "id": "6316bb81",
   "metadata": {},
   "outputs": [
    {
     "name": "stdout",
     "output_type": "stream",
     "text": [
      "['Hello', 'World', 'I', 'am', 'learning', 'Python', 'in', 'Innomatics']\n"
     ]
    },
    {
     "data": {
      "text/plain": [
       "list"
      ]
     },
     "execution_count": 44,
     "metadata": {},
     "output_type": "execute_result"
    }
   ],
   "source": [
    "c = string1.split()\n",
    "print(c)\n",
    "type(c)"
   ]
  },
  {
   "cell_type": "markdown",
   "id": "6d1f0a61",
   "metadata": {},
   "source": [
    "#### 7.How many times 'a' is `repeated` in above string."
   ]
  },
  {
   "cell_type": "code",
   "execution_count": 45,
   "id": "93a679c6",
   "metadata": {},
   "outputs": [
    {
     "data": {
      "text/plain": [
       "3"
      ]
     },
     "execution_count": 45,
     "metadata": {},
     "output_type": "execute_result"
    }
   ],
   "source": [
    "string1.count('a')"
   ]
  }
 ],
 "metadata": {
  "kernelspec": {
   "display_name": "Python 3 (ipykernel)",
   "language": "python",
   "name": "python3"
  },
  "language_info": {
   "codemirror_mode": {
    "name": "ipython",
    "version": 3
   },
   "file_extension": ".py",
   "mimetype": "text/x-python",
   "name": "python",
   "nbconvert_exporter": "python",
   "pygments_lexer": "ipython3",
   "version": "3.11.4"
  }
 },
 "nbformat": 4,
 "nbformat_minor": 5
}
