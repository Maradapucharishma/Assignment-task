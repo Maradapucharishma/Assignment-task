{
 "cells": [
  {
   "cell_type": "code",
   "execution_count": null,
   "id": "c9c49145",
   "metadata": {},
   "outputs": [],
   "source": [
    "Assignment Task 1: Tuple Basics Create a Python tuple containing the names of your favorite fruits. Write a Python program to print each fruit name from the tuple.\n",
    "\n",
    "Assignment Task 2: Tuple Operations Given two tuples, write a Python program to concatenate them into a single tuple and then find the length of the resulting tuple.\n",
    "\n",
    "Assignment Task 3: Set Creation Create a Python set containing the first 10 even numbers (2, 4, 6, ...). Write a program to display this set.\n",
    "\n",
    "Assignment Task 4: Set Operations Given two sets, write a Python program to find the union, intersection, and difference of these sets.\n",
    "\n",
    "Assignment Task 5: Tuple and Set Conversion Write a Python program that takes a tuple of integers and converts it into a set. Then, find and print the maximum and minimum values from the set.\n",
    "\n",
    "Assignment Task 6: Tuple Immutability Explain the concept of immutability in Python tuples with examples. Discuss why tuples are considered immutable data structures.\n",
    "\n",
    "Assignment Task 7: Set Operations and Methods Write a Python program that takes a set of numbers and performs the following operations:\n",
    "\n",
    "Add a new number to the set.\n",
    "Remove a number from the set.\n",
    "Check if a specific number is in the set.\n",
    "Find the size of the set.\n",
    "Assignment Task 8: Tuple Slicing Given a tuple of 10 elements, write a Python program to print the elements from the 3rd to the 7thposition using slicing.\n",
    "\n",
    "Assignment Task 9: Set Operations with Lists Create a Python list with duplicate elements and convert it into a set to remove duplicates. Then, write a program to count how many duplicates were removed.\n",
    "\n",
    "Assignment Task 10: Tuple and Set Combinations Create a tuple containing the names of your friend's favorite movies and a set containing the names of your favorite movies. Write a Python program to find and display common elements (movies that feature your"
   ]
  },
  {
   "cell_type": "markdown",
   "id": "8d88d677",
   "metadata": {},
   "source": [
    "#### Assignment Task 1: Tuple Basics Create a Python tuple containing the names of your favorite fruits. Write a Python program to print each fruit name from the tuple.\n"
   ]
  },
  {
   "cell_type": "code",
   "execution_count": 1,
   "id": "b7d9d4a3",
   "metadata": {},
   "outputs": [],
   "source": [
    "fruits = (\"custard apple\",\"water melon\",\"Mango\",\"Apple\")"
   ]
  },
  {
   "cell_type": "code",
   "execution_count": 2,
   "id": "0c565369",
   "metadata": {},
   "outputs": [
    {
     "data": {
      "text/plain": [
       "('custard apple', 'water melon', 'Mango', 'Apple')"
      ]
     },
     "execution_count": 2,
     "metadata": {},
     "output_type": "execute_result"
    }
   ],
   "source": [
    "fruits"
   ]
  },
  {
   "cell_type": "code",
   "execution_count": 10,
   "id": "5840c449",
   "metadata": {},
   "outputs": [
    {
     "data": {
      "text/plain": [
       "'custard apple'"
      ]
     },
     "execution_count": 10,
     "metadata": {},
     "output_type": "execute_result"
    }
   ],
   "source": [
    "fruits[0]"
   ]
  },
  {
   "cell_type": "code",
   "execution_count": 11,
   "id": "0112117a",
   "metadata": {},
   "outputs": [
    {
     "data": {
      "text/plain": [
       "'water melon'"
      ]
     },
     "execution_count": 11,
     "metadata": {},
     "output_type": "execute_result"
    }
   ],
   "source": [
    "fruits[1]"
   ]
  },
  {
   "cell_type": "code",
   "execution_count": 12,
   "id": "dcdae392",
   "metadata": {},
   "outputs": [
    {
     "data": {
      "text/plain": [
       "'Mango'"
      ]
     },
     "execution_count": 12,
     "metadata": {},
     "output_type": "execute_result"
    }
   ],
   "source": [
    "fruits[2]"
   ]
  },
  {
   "cell_type": "code",
   "execution_count": 13,
   "id": "a16ebb39",
   "metadata": {},
   "outputs": [
    {
     "data": {
      "text/plain": [
       "'Apple'"
      ]
     },
     "execution_count": 13,
     "metadata": {},
     "output_type": "execute_result"
    }
   ],
   "source": [
    "fruits[3]"
   ]
  },
  {
   "cell_type": "markdown",
   "id": "341f1c50",
   "metadata": {},
   "source": [
    "#### Assignment Task 2: Tuple Operations Given two tuples, write a Python program to concatenate them into a single tuple and then find the length of the resulting tuple.\n"
   ]
  },
  {
   "cell_type": "code",
   "execution_count": 3,
   "id": "48364c61",
   "metadata": {},
   "outputs": [],
   "source": [
    "vegetables = (\"potato\",\"drumstick\",\"chilli\",\"onion\")\n",
    "games = (\"cricket\",\"hockey\",\"tennis\",\"football\")"
   ]
  },
  {
   "cell_type": "code",
   "execution_count": 4,
   "id": "a713ed2c",
   "metadata": {},
   "outputs": [],
   "source": [
    "combined = vegetables+games"
   ]
  },
  {
   "cell_type": "code",
   "execution_count": 5,
   "id": "e263083d",
   "metadata": {},
   "outputs": [
    {
     "data": {
      "text/plain": [
       "('potato',\n",
       " 'drumstick',\n",
       " 'chilli',\n",
       " 'onion',\n",
       " 'cricket',\n",
       " 'hockey',\n",
       " 'tennis',\n",
       " 'football')"
      ]
     },
     "execution_count": 5,
     "metadata": {},
     "output_type": "execute_result"
    }
   ],
   "source": [
    "combined"
   ]
  },
  {
   "cell_type": "code",
   "execution_count": 6,
   "id": "0eece411",
   "metadata": {},
   "outputs": [
    {
     "data": {
      "text/plain": [
       "8"
      ]
     },
     "execution_count": 6,
     "metadata": {},
     "output_type": "execute_result"
    }
   ],
   "source": [
    "len(combined)"
   ]
  },
  {
   "cell_type": "markdown",
   "id": "26b07ff7",
   "metadata": {},
   "source": [
    "#### Assignment Task 3: Set Creation Create a Python set containing the first 10 even numbers (2, 4, 6, ...). Write a program to display this set.\n"
   ]
  },
  {
   "cell_type": "code",
   "execution_count": 8,
   "id": "0a54c9c4",
   "metadata": {},
   "outputs": [],
   "source": [
    "evenset = {2,4,6,8,10,12,14,16,18,20}"
   ]
  },
  {
   "cell_type": "code",
   "execution_count": 9,
   "id": "24b31bd4",
   "metadata": {},
   "outputs": [
    {
     "data": {
      "text/plain": [
       "{2, 4, 6, 8, 10, 12, 14, 16, 18, 20}"
      ]
     },
     "execution_count": 9,
     "metadata": {},
     "output_type": "execute_result"
    }
   ],
   "source": [
    "evenset"
   ]
  },
  {
   "cell_type": "markdown",
   "id": "1857b324",
   "metadata": {},
   "source": [
    "#### Assignment Task 4: Set Operations Given two sets, write a Python program to find the union, intersection, and difference of these sets.\n"
   ]
  },
  {
   "cell_type": "code",
   "execution_count": 14,
   "id": "5a89d943",
   "metadata": {},
   "outputs": [],
   "source": [
    "set1 = {1,2,3,4,5}\n",
    "set2 = {4,5,6,7,8}"
   ]
  },
  {
   "cell_type": "code",
   "execution_count": 15,
   "id": "bb637c92",
   "metadata": {},
   "outputs": [
    {
     "data": {
      "text/plain": [
       "{1, 2, 3, 4, 5, 6, 7, 8}"
      ]
     },
     "execution_count": 15,
     "metadata": {},
     "output_type": "execute_result"
    }
   ],
   "source": [
    "set1.union(set2)   #union"
   ]
  },
  {
   "cell_type": "code",
   "execution_count": 16,
   "id": "cdf2045a",
   "metadata": {},
   "outputs": [
    {
     "data": {
      "text/plain": [
       "{4, 5}"
      ]
     },
     "execution_count": 16,
     "metadata": {},
     "output_type": "execute_result"
    }
   ],
   "source": [
    "set1.intersection(set2)  #intersection"
   ]
  },
  {
   "cell_type": "code",
   "execution_count": 17,
   "id": "833d45c3",
   "metadata": {},
   "outputs": [
    {
     "data": {
      "text/plain": [
       "{1, 2, 3}"
      ]
     },
     "execution_count": 17,
     "metadata": {},
     "output_type": "execute_result"
    }
   ],
   "source": [
    "set1.difference(set2)    #difference"
   ]
  },
  {
   "cell_type": "markdown",
   "id": "81c0a125",
   "metadata": {},
   "source": [
    "#### Assignment Task 5: Tuple and Set Conversion Write a Python program that takes a tuple of integers and converts it into a set. Then, find and print the maximum and minimum values from the set.\n"
   ]
  },
  {
   "cell_type": "code",
   "execution_count": 20,
   "id": "5ec6bef5",
   "metadata": {},
   "outputs": [],
   "source": [
    "tuple1 = (1,2,3,4,5,6)"
   ]
  },
  {
   "cell_type": "code",
   "execution_count": 21,
   "id": "13082e60",
   "metadata": {},
   "outputs": [],
   "source": [
    "set1 = set(tuple1)"
   ]
  },
  {
   "cell_type": "code",
   "execution_count": 22,
   "id": "3a32eb06",
   "metadata": {},
   "outputs": [
    {
     "data": {
      "text/plain": [
       "{1, 2, 3, 4, 5, 6}"
      ]
     },
     "execution_count": 22,
     "metadata": {},
     "output_type": "execute_result"
    }
   ],
   "source": [
    "set1"
   ]
  },
  {
   "cell_type": "code",
   "execution_count": 25,
   "id": "c03ba27c",
   "metadata": {},
   "outputs": [
    {
     "data": {
      "text/plain": [
       "6"
      ]
     },
     "execution_count": 25,
     "metadata": {},
     "output_type": "execute_result"
    }
   ],
   "source": [
    "max(set1)    #because set has no maximum method, so we have to check normally"
   ]
  },
  {
   "cell_type": "code",
   "execution_count": 26,
   "id": "05aab9a3",
   "metadata": {},
   "outputs": [
    {
     "data": {
      "text/plain": [
       "1"
      ]
     },
     "execution_count": 26,
     "metadata": {},
     "output_type": "execute_result"
    }
   ],
   "source": [
    "min(set1)"
   ]
  },
  {
   "cell_type": "markdown",
   "id": "e3593e1f",
   "metadata": {},
   "source": [
    "#### Assignment Task 6: Tuple Immutability Explain the concept of immutability in Python tuples with examples. Discuss why tuples are considered immutable data structures.\n"
   ]
  },
  {
   "cell_type": "code",
   "execution_count": 31,
   "id": "d08b4803",
   "metadata": {},
   "outputs": [],
   "source": [
    "tuple2 = (1,2,3,4,6,7,3,5)"
   ]
  },
  {
   "cell_type": "code",
   "execution_count": null,
   "id": "8bff08c9",
   "metadata": {},
   "outputs": [],
   "source": [
    "* First of we should know what is mutable?\n",
    "* mutability means any function or method applied on the initial taken collection data would be affected. i.e., that is original value is affected\n",
    "* Immutability means it wont affect by the functions or methods. That means the original taken should remain same\n",
    "* Due to immutability, tuple wont allow so many methods like append,extend,insert because they affect the original value\n",
    "* tuple only contains two methods count and index, which dont affect the original value\n",
    "* immutable data structures are useful when we want to store our original data constantly\n",
    "* whenever we had a situation to make the original data constant everyone prefer tuple, thatswhy tuple is considered as immutable data structures"
   ]
  },
  {
   "cell_type": "code",
   "execution_count": 34,
   "id": "04f92a61",
   "metadata": {},
   "outputs": [
    {
     "ename": "AttributeError",
     "evalue": "'tuple' object has no attribute 'append'",
     "output_type": "error",
     "traceback": [
      "\u001b[1;31m---------------------------------------------------------------------------\u001b[0m",
      "\u001b[1;31mAttributeError\u001b[0m                            Traceback (most recent call last)",
      "Cell \u001b[1;32mIn[34], line 1\u001b[0m\n\u001b[1;32m----> 1\u001b[0m tuple2\u001b[38;5;241m.\u001b[39mappend(\u001b[38;5;241m6\u001b[39m)\n",
      "\u001b[1;31mAttributeError\u001b[0m: 'tuple' object has no attribute 'append'"
     ]
    }
   ],
   "source": [
    "tuple2.append(6) #it wont add because append affects the original value"
   ]
  },
  {
   "cell_type": "code",
   "execution_count": 35,
   "id": "065363d7",
   "metadata": {},
   "outputs": [
    {
     "data": {
      "text/plain": [
       "2"
      ]
     },
     "execution_count": 35,
     "metadata": {},
     "output_type": "execute_result"
    }
   ],
   "source": [
    "tuple2.count(3)"
   ]
  },
  {
   "cell_type": "code",
   "execution_count": 36,
   "id": "02fd26bc",
   "metadata": {},
   "outputs": [
    {
     "data": {
      "text/plain": [
       "4"
      ]
     },
     "execution_count": 36,
     "metadata": {},
     "output_type": "execute_result"
    }
   ],
   "source": [
    "tuple2.index(6)"
   ]
  },
  {
   "cell_type": "markdown",
   "id": "745a31fa",
   "metadata": {},
   "source": [
    "#### Assignment Task 7: Set Operations and Methods Write a Python program that takes a set of numbers and performs the following operations:\n",
    "\n",
    "* Add a new number to the set.\n",
    "* Remove a number from the set.\n",
    "* Check if a specific number is in the set.\n",
    "* Find the size of the set."
   ]
  },
  {
   "cell_type": "code",
   "execution_count": 37,
   "id": "3a89f60c",
   "metadata": {},
   "outputs": [],
   "source": [
    "set3 = {1,2,3,4,5,6,7,8}"
   ]
  },
  {
   "cell_type": "code",
   "execution_count": 38,
   "id": "0c7d8d4b",
   "metadata": {},
   "outputs": [
    {
     "data": {
      "text/plain": [
       "set"
      ]
     },
     "execution_count": 38,
     "metadata": {},
     "output_type": "execute_result"
    }
   ],
   "source": [
    "type(set3)"
   ]
  },
  {
   "cell_type": "code",
   "execution_count": 39,
   "id": "9f72b17c",
   "metadata": {},
   "outputs": [
    {
     "data": {
      "text/plain": [
       "{1, 2, 3, 4, 5, 6, 7, 8}"
      ]
     },
     "execution_count": 39,
     "metadata": {},
     "output_type": "execute_result"
    }
   ],
   "source": [
    "set3"
   ]
  },
  {
   "cell_type": "code",
   "execution_count": 40,
   "id": "afc3f253",
   "metadata": {},
   "outputs": [],
   "source": [
    "set3.add(11)  #adding a new number to the set"
   ]
  },
  {
   "cell_type": "code",
   "execution_count": 41,
   "id": "8b4ef5f3",
   "metadata": {},
   "outputs": [
    {
     "data": {
      "text/plain": [
       "{1, 2, 3, 4, 5, 6, 7, 8, 11}"
      ]
     },
     "execution_count": 41,
     "metadata": {},
     "output_type": "execute_result"
    }
   ],
   "source": [
    "set3"
   ]
  },
  {
   "cell_type": "code",
   "execution_count": 42,
   "id": "661970d8",
   "metadata": {},
   "outputs": [],
   "source": [
    "set3.remove(6)        #removeing a number using value"
   ]
  },
  {
   "cell_type": "code",
   "execution_count": 43,
   "id": "d01a8e9e",
   "metadata": {},
   "outputs": [
    {
     "data": {
      "text/plain": [
       "{1, 2, 3, 4, 5, 7, 8, 11}"
      ]
     },
     "execution_count": 43,
     "metadata": {},
     "output_type": "execute_result"
    }
   ],
   "source": [
    "set3   "
   ]
  },
  {
   "cell_type": "code",
   "execution_count": 48,
   "id": "56df8fc9",
   "metadata": {},
   "outputs": [
    {
     "data": {
      "text/plain": [
       "True"
      ]
     },
     "execution_count": 48,
     "metadata": {},
     "output_type": "execute_result"
    }
   ],
   "source": [
    "3 in set3    #Checking a number"
   ]
  },
  {
   "cell_type": "code",
   "execution_count": 50,
   "id": "cc866e11",
   "metadata": {},
   "outputs": [
    {
     "data": {
      "text/plain": [
       "7"
      ]
     },
     "execution_count": 50,
     "metadata": {},
     "output_type": "execute_result"
    }
   ],
   "source": [
    "len(set3)    #size of "
   ]
  },
  {
   "cell_type": "markdown",
   "id": "6f57fa94",
   "metadata": {},
   "source": [
    "#### Assignment Task 8: Tuple Slicing Given a tuple of 10 elements, write a Python program to print the elements from the 3rd to the 7thposition using slicing.\n"
   ]
  },
  {
   "cell_type": "code",
   "execution_count": 52,
   "id": "4d1b0282",
   "metadata": {},
   "outputs": [],
   "source": [
    "tuple4 = (1,2,3,4,5,6,7,8,9,10)"
   ]
  },
  {
   "cell_type": "code",
   "execution_count": 54,
   "id": "21a3ae13",
   "metadata": {},
   "outputs": [
    {
     "data": {
      "text/plain": [
       "(3, 4, 5, 6, 7)"
      ]
     },
     "execution_count": 54,
     "metadata": {},
     "output_type": "execute_result"
    }
   ],
   "source": [
    "tuple4[2:7:1]"
   ]
  },
  {
   "cell_type": "markdown",
   "id": "b07a62dd",
   "metadata": {},
   "source": [
    "#### Assignment Task 9: Set Operations with Lists Create a Python list with duplicate elements and convert it into a set to remove duplicates. Then, write a program to count how many duplicates were removed."
   ]
  },
  {
   "cell_type": "code",
   "execution_count": 55,
   "id": "0978a040",
   "metadata": {},
   "outputs": [],
   "source": [
    "list1 = [1,2,3,4,1,2,3,4,5,6,7,8,5,6,7,8]"
   ]
  },
  {
   "cell_type": "code",
   "execution_count": 56,
   "id": "039a3360",
   "metadata": {},
   "outputs": [],
   "source": [
    "set1 = set(list1)     #list to set convertion"
   ]
  },
  {
   "cell_type": "code",
   "execution_count": 57,
   "id": "c77ec717",
   "metadata": {},
   "outputs": [
    {
     "data": {
      "text/plain": [
       "{1, 2, 3, 4, 5, 6, 7, 8}"
      ]
     },
     "execution_count": 57,
     "metadata": {},
     "output_type": "execute_result"
    }
   ],
   "source": [
    "set1    "
   ]
  },
  {
   "cell_type": "code",
   "execution_count": 59,
   "id": "afaae334",
   "metadata": {},
   "outputs": [
    {
     "data": {
      "text/plain": [
       "16"
      ]
     },
     "execution_count": 59,
     "metadata": {},
     "output_type": "execute_result"
    }
   ],
   "source": [
    "len(list1)"
   ]
  },
  {
   "cell_type": "code",
   "execution_count": 60,
   "id": "1333ff89",
   "metadata": {},
   "outputs": [
    {
     "data": {
      "text/plain": [
       "8"
      ]
     },
     "execution_count": 60,
     "metadata": {},
     "output_type": "execute_result"
    }
   ],
   "source": [
    "len(set1)"
   ]
  },
  {
   "cell_type": "code",
   "execution_count": 61,
   "id": "43e71dcb",
   "metadata": {},
   "outputs": [],
   "source": [
    "duplicates_count = len(list1)-len(set1)"
   ]
  },
  {
   "cell_type": "code",
   "execution_count": 62,
   "id": "b50803c5",
   "metadata": {},
   "outputs": [
    {
     "data": {
      "text/plain": [
       "8"
      ]
     },
     "execution_count": 62,
     "metadata": {},
     "output_type": "execute_result"
    }
   ],
   "source": [
    "duplicates_count"
   ]
  },
  {
   "cell_type": "markdown",
   "id": "bb6d9eea",
   "metadata": {},
   "source": [
    "#### Assignment Task 10: Tuple and Set Combinations Create a tuple containing the names of your friend's favorite movies and a set containing the names of your favorite movies. Write a Python program to find and display common elements (movies that feature your"
   ]
  },
  {
   "cell_type": "code",
   "execution_count": 64,
   "id": "f439393c",
   "metadata": {},
   "outputs": [],
   "source": [
    "friends_movies = (\"oyy\",\"singham\",\"godavari\",\"anand\")\n",
    "mine = {\"oyy\",\"amma cheppindani\",\"a aa\"}"
   ]
  },
  {
   "cell_type": "code",
   "execution_count": 65,
   "id": "d40ae9c0",
   "metadata": {},
   "outputs": [],
   "source": [
    "friends = set(friends_movies)"
   ]
  },
  {
   "cell_type": "code",
   "execution_count": 66,
   "id": "b83c8b1b",
   "metadata": {},
   "outputs": [
    {
     "data": {
      "text/plain": [
       "{'anand', 'godavari', 'oyy', 'singham'}"
      ]
     },
     "execution_count": 66,
     "metadata": {},
     "output_type": "execute_result"
    }
   ],
   "source": [
    "friends"
   ]
  },
  {
   "cell_type": "code",
   "execution_count": 67,
   "id": "42cceb60",
   "metadata": {},
   "outputs": [
    {
     "data": {
      "text/plain": [
       "{'oyy'}"
      ]
     },
     "execution_count": 67,
     "metadata": {},
     "output_type": "execute_result"
    }
   ],
   "source": [
    "friends.intersection(mine)  #common elements"
   ]
  }
 ],
 "metadata": {
  "kernelspec": {
   "display_name": "Python 3 (ipykernel)",
   "language": "python",
   "name": "python3"
  },
  "language_info": {
   "codemirror_mode": {
    "name": "ipython",
    "version": 3
   },
   "file_extension": ".py",
   "mimetype": "text/x-python",
   "name": "python",
   "nbconvert_exporter": "python",
   "pygments_lexer": "ipython3",
   "version": "3.11.4"
  }
 },
 "nbformat": 4,
 "nbformat_minor": 5
}
