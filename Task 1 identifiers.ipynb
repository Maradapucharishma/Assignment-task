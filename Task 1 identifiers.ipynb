{
 "cells": [
  {
   "cell_type": "markdown",
   "id": "5efd181d",
   "metadata": {},
   "source": [
    "# Check the valid Identifiers and invalid identifers using Python"
   ]
  },
  {
   "cell_type": "markdown",
   "id": "aebe5a40",
   "metadata": {},
   "source": [
    "1. **Run all the identifiers and seprate valid and Invalid Identifiers?**\n",
    "\n",
    "2. **Why Python treating them as invalid Identifers.Explain?**"
   ]
  },
  {
   "cell_type": "markdown",
   "id": "77c112d3",
   "metadata": {},
   "source": [
    "* my_variable = 25\n",
    "\n",
    "**valid**\n",
    "\n",
    "* counter = 40.7\n",
    "\n",
    "**valid**\n",
    "\n",
    "* _total = \"Hello\"\n",
    "\n",
    "**valid**\n",
    "\n",
    " - 123abc   = 34  \n",
    " \n",
    " **Invalid** - doesnt start with digits\n",
    " \n",
    " - my variable   =6.7\n",
    " \n",
    " **Invalid** - spaces are not allowed\n",
    " \n",
    " - @count  = \"hi\"   \n",
    " \n",
    " **Invalid** - no other special characters allowed other than _\n",
    "  \n",
    " - for   = \"True\"\n",
    " \n",
    " **Invalid** - Keywords are not allowed\n",
    " \n",
    "* Name123 = 136\n",
    "\n",
    "**valid**\n",
    "\n",
    "* myFunction = True\n",
    "\n",
    "**valid**\n",
    "\n",
    "* _data = False\n",
    "\n",
    "**valid**\n",
    "\n",
    "- if_condition? = \"Innomatics\"\n",
    "\n",
    "**Invalid** - keywords and special characters except _ are not allowed\n",
    "\n",
    "- class = \"Hyderabad\"\n",
    "\n",
    "**Invalid** - keywords are not allowed"
   ]
  },
  {
   "cell_type": "markdown",
   "id": "35c32a6f",
   "metadata": {},
   "source": [
    "### Use different identifiers and assign the below values"
   ]
  },
  {
   "cell_type": "markdown",
   "id": "d606e5ac",
   "metadata": {},
   "source": [
    " num = 10\n",
    "\n",
    " var = -5\n",
    "\n",
    " number = 3.14159\n",
    "\n",
    "decimal_value = -0.12345\n",
    "\n",
    " _digits = 1000\n",
    "\n",
    " first_program = \"Hello, World!\"\n",
    "\n",
    "language = \"Python\"\n",
    "\n",
    " python = \"I am learning\"\n",
    "\n",
    "data_type = \"Text type\"\n",
    "\n",
    "collection_data = \"String\"\n",
    "\n",
    "continu = True\n",
    "\n",
    "condition = False\n",
    "\n",
    "_result_ = True\n",
    "\n",
    "_Zero_ = False\n",
    "\n",
    "one = True\n",
    "\n"
   ]
  },
  {
   "cell_type": "code",
   "execution_count": 9,
   "id": "8cf8f353",
   "metadata": {},
   "outputs": [],
   "source": [
    "num = 10"
   ]
  },
  {
   "cell_type": "code",
   "execution_count": 10,
   "id": "f5f73be4",
   "metadata": {},
   "outputs": [],
   "source": [
    "var = -5"
   ]
  },
  {
   "cell_type": "code",
   "execution_count": 24,
   "id": "0c4c1282",
   "metadata": {},
   "outputs": [],
   "source": [
    "number = 3.14159"
   ]
  },
  {
   "cell_type": "code",
   "execution_count": 12,
   "id": "bfb46898",
   "metadata": {},
   "outputs": [],
   "source": [
    "Decimal_value = -0.12345"
   ]
  },
  {
   "cell_type": "code",
   "execution_count": 13,
   "id": "ed6b240e",
   "metadata": {},
   "outputs": [],
   "source": [
    "_digits = 1000"
   ]
  },
  {
   "cell_type": "code",
   "execution_count": 14,
   "id": "92063c2e",
   "metadata": {},
   "outputs": [],
   "source": [
    "first_program = \"Hello, world\""
   ]
  },
  {
   "cell_type": "code",
   "execution_count": 15,
   "id": "fa3150ee",
   "metadata": {},
   "outputs": [],
   "source": [
    "language = \"python\""
   ]
  },
  {
   "cell_type": "code",
   "execution_count": 16,
   "id": "8f572a68",
   "metadata": {},
   "outputs": [],
   "source": [
    "python = \"I am learning\""
   ]
  },
  {
   "cell_type": "code",
   "execution_count": 17,
   "id": "f6190455",
   "metadata": {},
   "outputs": [],
   "source": [
    "data_type = \"Text type\""
   ]
  },
  {
   "cell_type": "code",
   "execution_count": 18,
   "id": "596e9488",
   "metadata": {},
   "outputs": [],
   "source": [
    "collection_data = \"String\""
   ]
  },
  {
   "cell_type": "code",
   "execution_count": 19,
   "id": "7efb2c0c",
   "metadata": {},
   "outputs": [],
   "source": [
    "continu = True"
   ]
  },
  {
   "cell_type": "code",
   "execution_count": 20,
   "id": "d1bc3459",
   "metadata": {},
   "outputs": [],
   "source": [
    "condition = False"
   ]
  },
  {
   "cell_type": "code",
   "execution_count": 21,
   "id": "e41e4987",
   "metadata": {},
   "outputs": [],
   "source": [
    "_result_ = True"
   ]
  },
  {
   "cell_type": "code",
   "execution_count": 22,
   "id": "a8985438",
   "metadata": {},
   "outputs": [],
   "source": [
    "_Zero_ = False"
   ]
  },
  {
   "cell_type": "code",
   "execution_count": 23,
   "id": "be7d249f",
   "metadata": {},
   "outputs": [],
   "source": [
    "one = True"
   ]
  },
  {
   "cell_type": "code",
   "execution_count": null,
   "id": "d31a740e",
   "metadata": {},
   "outputs": [],
   "source": []
  }
 ],
 "metadata": {
  "kernelspec": {
   "display_name": "Python 3 (ipykernel)",
   "language": "python",
   "name": "python3"
  },
  "language_info": {
   "codemirror_mode": {
    "name": "ipython",
    "version": 3
   },
   "file_extension": ".py",
   "mimetype": "text/x-python",
   "name": "python",
   "nbconvert_exporter": "python",
   "pygments_lexer": "ipython3",
   "version": "3.11.4"
  }
 },
 "nbformat": 4,
 "nbformat_minor": 5
}
