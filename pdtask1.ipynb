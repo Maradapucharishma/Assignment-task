{
 "cells": [
  {
   "cell_type": "code",
   "execution_count": null,
   "id": "9ab2767f",
   "metadata": {},
   "outputs": [],
   "source": [
    "pandas Series\n",
    "1.Create pandas series with different data types in different ways\n",
    "2.Find the attributes of Series of [10,30,40,1,3,6,14,18,23] with index starts from 100\n",
    "3.create salaries of 30 employee salaries randomly from 30000-90000 then measure and describe the data using pandas series.\n",
    "4.What are the similaraties and differences between pandas series and nnumpy array.Prove it with code.\n",
    "5.create pandas series with ranges from 100 to 150 then apply indexing and slicing on it."
   ]
  },
  {
   "cell_type": "markdown",
   "id": "af9afdee",
   "metadata": {},
   "source": [
    "#### 1.Create pandas series with different data types in different ways"
   ]
  },
  {
   "cell_type": "code",
   "execution_count": 1,
   "id": "3a599a15",
   "metadata": {},
   "outputs": [],
   "source": [
    "import pandas as pd"
   ]
  },
  {
   "cell_type": "code",
   "execution_count": 29,
   "id": "ab40c104",
   "metadata": {},
   "outputs": [],
   "source": [
    "import numpy as np"
   ]
  },
  {
   "cell_type": "code",
   "execution_count": 2,
   "id": "6eb2e245",
   "metadata": {},
   "outputs": [],
   "source": [
    "creation = pd.Series()"
   ]
  },
  {
   "cell_type": "code",
   "execution_count": 3,
   "id": "2ef15c94",
   "metadata": {},
   "outputs": [
    {
     "data": {
      "text/plain": [
       "pandas.core.series.Series"
      ]
     },
     "execution_count": 3,
     "metadata": {},
     "output_type": "execute_result"
    }
   ],
   "source": [
    "type(creation)"
   ]
  },
  {
   "cell_type": "code",
   "execution_count": 7,
   "id": "6589c9e9",
   "metadata": {},
   "outputs": [
    {
     "data": {
      "text/plain": [
       "[1, 2, 3, 4, 5, 6, 7, 8, 9, 10, 11, 12, 13, 14, 15, 16, 17, 18, 19]"
      ]
     },
     "execution_count": 7,
     "metadata": {},
     "output_type": "execute_result"
    }
   ],
   "source": [
    "#from list\n",
    "val = list(range(1,20,))\n",
    "val"
   ]
  },
  {
   "cell_type": "code",
   "execution_count": 8,
   "id": "bfc43bec",
   "metadata": {},
   "outputs": [
    {
     "data": {
      "text/plain": [
       "0      1\n",
       "1      2\n",
       "2      3\n",
       "3      4\n",
       "4      5\n",
       "5      6\n",
       "6      7\n",
       "7      8\n",
       "8      9\n",
       "9     10\n",
       "10    11\n",
       "11    12\n",
       "12    13\n",
       "13    14\n",
       "14    15\n",
       "15    16\n",
       "16    17\n",
       "17    18\n",
       "18    19\n",
       "dtype: int64"
      ]
     },
     "execution_count": 8,
     "metadata": {},
     "output_type": "execute_result"
    }
   ],
   "source": [
    "pd.Series(val)"
   ]
  },
  {
   "cell_type": "code",
   "execution_count": 9,
   "id": "0c20bd12",
   "metadata": {},
   "outputs": [
    {
     "data": {
      "text/plain": [
       "('identifiers',\n",
       " 'operators',\n",
       " 'datatypes',\n",
       " 'flow control',\n",
       " 'functions',\n",
       " 'file handling',\n",
       " 'exception handling',\n",
       " 'modules')"
      ]
     },
     "execution_count": 9,
     "metadata": {},
     "output_type": "execute_result"
    }
   ],
   "source": [
    "#from tuple\n",
    "val2 = (\"identifiers\",\"operators\",\"datatypes\",\"flow control\",\"functions\",\"file handling\",\"exception handling\",\"modules\")\n",
    "val2"
   ]
  },
  {
   "cell_type": "code",
   "execution_count": 10,
   "id": "c24a2662",
   "metadata": {},
   "outputs": [
    {
     "data": {
      "text/plain": [
       "0           identifiers\n",
       "1             operators\n",
       "2             datatypes\n",
       "3          flow control\n",
       "4             functions\n",
       "5         file handling\n",
       "6    exception handling\n",
       "7               modules\n",
       "dtype: object"
      ]
     },
     "execution_count": 10,
     "metadata": {},
     "output_type": "execute_result"
    }
   ],
   "source": [
    "pd.Series(val2)"
   ]
  },
  {
   "cell_type": "code",
   "execution_count": 11,
   "id": "54389ca9",
   "metadata": {},
   "outputs": [
    {
     "data": {
      "text/plain": [
       "{'Akanshka': 40.2, 'Bhavya': 40.5, 'chaitra': 41.2, 'dedepya': 42.2}"
      ]
     },
     "execution_count": 11,
     "metadata": {},
     "output_type": "execute_result"
    }
   ],
   "source": [
    "val3 = {'Akanshka':40.2,'Bhavya':40.5,'chaitra':41.2,'dedepya':42.2}\n",
    "val3"
   ]
  },
  {
   "cell_type": "code",
   "execution_count": 12,
   "id": "595522cf",
   "metadata": {},
   "outputs": [
    {
     "data": {
      "text/plain": [
       "Akanshka    40.2\n",
       "Bhavya      40.5\n",
       "chaitra     41.2\n",
       "dedepya     42.2\n",
       "dtype: float64"
      ]
     },
     "execution_count": 12,
     "metadata": {},
     "output_type": "execute_result"
    }
   ],
   "source": [
    "pd.Series(val3)"
   ]
  },
  {
   "cell_type": "code",
   "execution_count": 30,
   "id": "d5708bac",
   "metadata": {},
   "outputs": [
    {
     "data": {
      "text/plain": [
       "array([ 1,  2,  3,  4,  5,  6,  7,  8,  9, 10])"
      ]
     },
     "execution_count": 30,
     "metadata": {},
     "output_type": "execute_result"
    }
   ],
   "source": [
    "val4 = np.array([1,2,3,4,5,6,7,8,9,10])\n",
    "val4"
   ]
  },
  {
   "cell_type": "code",
   "execution_count": 31,
   "id": "7ac61722",
   "metadata": {},
   "outputs": [
    {
     "data": {
      "text/plain": [
       "0     1\n",
       "1     2\n",
       "2     3\n",
       "3     4\n",
       "4     5\n",
       "5     6\n",
       "6     7\n",
       "7     8\n",
       "8     9\n",
       "9    10\n",
       "dtype: int32"
      ]
     },
     "execution_count": 31,
     "metadata": {},
     "output_type": "execute_result"
    }
   ],
   "source": [
    "#from nparray\n",
    "pd.Series(val4)"
   ]
  },
  {
   "cell_type": "markdown",
   "id": "a233d54c",
   "metadata": {},
   "source": [
    "#### 2.Find the attributes of Series of [10,30,40,1,3,6,14,18,23] with index starts from 100"
   ]
  },
  {
   "cell_type": "code",
   "execution_count": 16,
   "id": "58a37ed4",
   "metadata": {},
   "outputs": [
    {
     "data": {
      "text/plain": [
       "100    10\n",
       "101    30\n",
       "102    40\n",
       "103     1\n",
       "104     3\n",
       "105     6\n",
       "106    14\n",
       "107    18\n",
       "108    23\n",
       "dtype: int64"
      ]
     },
     "execution_count": 16,
     "metadata": {},
     "output_type": "execute_result"
    }
   ],
   "source": [
    "att = pd.Series([10,30,40,1,3,6,14,18,23],index = list(range(100,109)))\n",
    "att"
   ]
  },
  {
   "cell_type": "code",
   "execution_count": 17,
   "id": "f4ef5eab",
   "metadata": {},
   "outputs": [
    {
     "data": {
      "text/plain": [
       "72"
      ]
     },
     "execution_count": 17,
     "metadata": {},
     "output_type": "execute_result"
    }
   ],
   "source": [
    "att.nbytes"
   ]
  },
  {
   "cell_type": "code",
   "execution_count": 18,
   "id": "48e004e0",
   "metadata": {},
   "outputs": [
    {
     "data": {
      "text/plain": [
       "9"
      ]
     },
     "execution_count": 18,
     "metadata": {},
     "output_type": "execute_result"
    }
   ],
   "source": [
    "att.size"
   ]
  },
  {
   "cell_type": "code",
   "execution_count": 19,
   "id": "09825cc7",
   "metadata": {},
   "outputs": [
    {
     "data": {
      "text/plain": [
       "dtype('int64')"
      ]
     },
     "execution_count": 19,
     "metadata": {},
     "output_type": "execute_result"
    }
   ],
   "source": [
    "att.dtype"
   ]
  },
  {
   "cell_type": "code",
   "execution_count": 20,
   "id": "3e913474",
   "metadata": {},
   "outputs": [
    {
     "data": {
      "text/plain": [
       "100    10\n",
       "101    30\n",
       "102    40\n",
       "103     1\n",
       "104     3\n",
       "105     6\n",
       "106    14\n",
       "107    18\n",
       "108    23\n",
       "dtype: int8"
      ]
     },
     "execution_count": 20,
     "metadata": {},
     "output_type": "execute_result"
    }
   ],
   "source": [
    "att.astype('int8')"
   ]
  },
  {
   "cell_type": "code",
   "execution_count": 21,
   "id": "122e6cde",
   "metadata": {},
   "outputs": [
    {
     "data": {
      "text/plain": [
       "100    10\n",
       "101    30\n",
       "102    40\n",
       "dtype: int64"
      ]
     },
     "execution_count": 21,
     "metadata": {},
     "output_type": "execute_result"
    }
   ],
   "source": [
    "att.head(3)"
   ]
  },
  {
   "cell_type": "code",
   "execution_count": 22,
   "id": "63aec104",
   "metadata": {},
   "outputs": [
    {
     "data": {
      "text/plain": [
       "102    40\n",
       "103     1\n",
       "104     3\n",
       "105     6\n",
       "106    14\n",
       "107    18\n",
       "108    23\n",
       "dtype: int64"
      ]
     },
     "execution_count": 22,
     "metadata": {},
     "output_type": "execute_result"
    }
   ],
   "source": [
    "att.tail(7)"
   ]
  },
  {
   "cell_type": "code",
   "execution_count": 27,
   "id": "c7584945",
   "metadata": {},
   "outputs": [
    {
     "name": "stdout",
     "output_type": "stream",
     "text": [
      "<class 'pandas.core.series.Series'>\n",
      "Index: 9 entries, 100 to 108\n",
      "Series name: None\n",
      "Non-Null Count  Dtype\n",
      "--------------  -----\n",
      "9 non-null      int64\n",
      "dtypes: int64(1)\n",
      "memory usage: 144.0 bytes\n"
     ]
    }
   ],
   "source": [
    "att.info()"
   ]
  },
  {
   "cell_type": "code",
   "execution_count": 26,
   "id": "556e600c",
   "metadata": {},
   "outputs": [
    {
     "data": {
      "text/plain": [
       "count     9.000000\n",
       "mean     16.111111\n",
       "std      13.033078\n",
       "min       1.000000\n",
       "25%       6.000000\n",
       "50%      14.000000\n",
       "75%      23.000000\n",
       "max      40.000000\n",
       "dtype: float64"
      ]
     },
     "execution_count": 26,
     "metadata": {},
     "output_type": "execute_result"
    }
   ],
   "source": [
    "att.describe()"
   ]
  },
  {
   "cell_type": "markdown",
   "id": "37a9d1be",
   "metadata": {},
   "source": [
    "#### 3.create salaries of 30 employee salaries randomly from 30000-90000 then measure and describe the data using pandas series."
   ]
  },
  {
   "cell_type": "code",
   "execution_count": 35,
   "id": "8588735e",
   "metadata": {},
   "outputs": [
    {
     "data": {
      "text/plain": [
       "0     38307\n",
       "1     85205\n",
       "2     79504\n",
       "3     43529\n",
       "4     89850\n",
       "5     58964\n",
       "6     50891\n",
       "7     44122\n",
       "8     86878\n",
       "9     86188\n",
       "10    71067\n",
       "11    47444\n",
       "12    67669\n",
       "13    45356\n",
       "14    31033\n",
       "15    78755\n",
       "16    31349\n",
       "17    43739\n",
       "18    31598\n",
       "19    44668\n",
       "20    60581\n",
       "21    41376\n",
       "22    33970\n",
       "23    40755\n",
       "24    78814\n",
       "25    54959\n",
       "26    60969\n",
       "27    70569\n",
       "28    30344\n",
       "29    58651\n",
       "dtype: int32"
      ]
     },
     "execution_count": 35,
     "metadata": {},
     "output_type": "execute_result"
    }
   ],
   "source": [
    "sal = pd.Series(np.random.randint(30000,90000,30))\n",
    "sal"
   ]
  },
  {
   "cell_type": "markdown",
   "id": "a7c4e238",
   "metadata": {},
   "source": [
    "#### Measure"
   ]
  },
  {
   "cell_type": "code",
   "execution_count": 37,
   "id": "d32ed566",
   "metadata": {},
   "outputs": [
    {
     "data": {
      "text/plain": [
       "56236.8"
      ]
     },
     "execution_count": 37,
     "metadata": {},
     "output_type": "execute_result"
    }
   ],
   "source": [
    "#mean\n",
    "sal.mean()"
   ]
  },
  {
   "cell_type": "code",
   "execution_count": 38,
   "id": "6108de4d",
   "metadata": {},
   "outputs": [
    {
     "data": {
      "text/plain": [
       "52925.0"
      ]
     },
     "execution_count": 38,
     "metadata": {},
     "output_type": "execute_result"
    }
   ],
   "source": [
    "#median\n",
    "sal.median()"
   ]
  },
  {
   "cell_type": "code",
   "execution_count": 39,
   "id": "e1707e9f",
   "metadata": {},
   "outputs": [
    {
     "data": {
      "text/plain": [
       "0     30344\n",
       "1     31033\n",
       "2     31349\n",
       "3     31598\n",
       "4     33970\n",
       "5     38307\n",
       "6     40755\n",
       "7     41376\n",
       "8     43529\n",
       "9     43739\n",
       "10    44122\n",
       "11    44668\n",
       "12    45356\n",
       "13    47444\n",
       "14    50891\n",
       "15    54959\n",
       "16    58651\n",
       "17    58964\n",
       "18    60581\n",
       "19    60969\n",
       "20    67669\n",
       "21    70569\n",
       "22    71067\n",
       "23    78755\n",
       "24    78814\n",
       "25    79504\n",
       "26    85205\n",
       "27    86188\n",
       "28    86878\n",
       "29    89850\n",
       "dtype: int32"
      ]
     },
     "execution_count": 39,
     "metadata": {},
     "output_type": "execute_result"
    }
   ],
   "source": [
    "#mode\n",
    "sal.mode()"
   ]
  },
  {
   "cell_type": "code",
   "execution_count": 41,
   "id": "6fbdcd85",
   "metadata": {},
   "outputs": [
    {
     "data": {
      "text/plain": [
       "89850"
      ]
     },
     "execution_count": 41,
     "metadata": {},
     "output_type": "execute_result"
    }
   ],
   "source": [
    "sal.max()"
   ]
  },
  {
   "cell_type": "code",
   "execution_count": 42,
   "id": "716d802c",
   "metadata": {},
   "outputs": [
    {
     "data": {
      "text/plain": [
       "30344"
      ]
     },
     "execution_count": 42,
     "metadata": {},
     "output_type": "execute_result"
    }
   ],
   "source": [
    "sal.min()"
   ]
  },
  {
   "cell_type": "code",
   "execution_count": 43,
   "id": "3bccebac",
   "metadata": {},
   "outputs": [
    {
     "data": {
      "text/plain": [
       "59506"
      ]
     },
     "execution_count": 43,
     "metadata": {},
     "output_type": "execute_result"
    }
   ],
   "source": [
    "#range\n",
    "range = sal.max()-sal.min()\n",
    "range"
   ]
  },
  {
   "cell_type": "code",
   "execution_count": 44,
   "id": "56cacfeb",
   "metadata": {},
   "outputs": [
    {
     "data": {
      "text/plain": [
       "365788292.3034484"
      ]
     },
     "execution_count": 44,
     "metadata": {},
     "output_type": "execute_result"
    }
   ],
   "source": [
    "#variance\n",
    "sal.var()"
   ]
  },
  {
   "cell_type": "code",
   "execution_count": 45,
   "id": "10f44481",
   "metadata": {},
   "outputs": [
    {
     "data": {
      "text/plain": [
       "41914.25"
      ]
     },
     "execution_count": 45,
     "metadata": {},
     "output_type": "execute_result"
    }
   ],
   "source": [
    "#IQR\n",
    "q1 = sal.quantile(0.25)\n",
    "q1"
   ]
  },
  {
   "cell_type": "code",
   "execution_count": 46,
   "id": "743498bb",
   "metadata": {},
   "outputs": [
    {
     "data": {
      "text/plain": [
       "70942.5"
      ]
     },
     "execution_count": 46,
     "metadata": {},
     "output_type": "execute_result"
    }
   ],
   "source": [
    "q3 = sal.quantile(0.75)\n",
    "q3"
   ]
  },
  {
   "cell_type": "code",
   "execution_count": 49,
   "id": "172feb97",
   "metadata": {},
   "outputs": [
    {
     "data": {
      "text/plain": [
       "29028.25"
      ]
     },
     "execution_count": 49,
     "metadata": {},
     "output_type": "execute_result"
    }
   ],
   "source": [
    "#IQR\n",
    "IQR = q3-q1\n",
    "IQR"
   ]
  },
  {
   "cell_type": "code",
   "execution_count": 50,
   "id": "1a6a341d",
   "metadata": {},
   "outputs": [
    {
     "data": {
      "text/plain": [
       "19125.59260005944"
      ]
     },
     "execution_count": 50,
     "metadata": {},
     "output_type": "execute_result"
    }
   ],
   "source": [
    "#standard deviation\n",
    "sal.std()"
   ]
  },
  {
   "cell_type": "code",
   "execution_count": 36,
   "id": "8784f019",
   "metadata": {},
   "outputs": [
    {
     "data": {
      "text/plain": [
       "count       30.0000\n",
       "mean     56236.8000\n",
       "std      19125.5926\n",
       "min      30344.0000\n",
       "25%      41914.2500\n",
       "50%      52925.0000\n",
       "75%      70942.5000\n",
       "max      89850.0000\n",
       "dtype: float64"
      ]
     },
     "execution_count": 36,
     "metadata": {},
     "output_type": "execute_result"
    }
   ],
   "source": [
    "sal.describe()"
   ]
  },
  {
   "cell_type": "markdown",
   "id": "f1462b68",
   "metadata": {},
   "source": [
    "#### 4.What are the similaraties and differences between pandas series and nnumpy array.Prove it with code."
   ]
  },
  {
   "cell_type": "markdown",
   "id": "9ff5559f",
   "metadata": {},
   "source": [
    "#### similarities \n",
    "* Both are used to work with dimensional arrays\n",
    "#### Differences\n",
    "* In pandas series values are represented with index number whereas in numpy it represents normally\n",
    "* numpy is not applicable for categorical data, whereas in pandas series we can work with categorical data\n",
    "* In pandas series mode function is available\n",
    "* pandas series is heterogeneous,numpy is homogeneous\n",
    "* pandas series is one dimensional,numpy is n dimensional"
   ]
  },
  {
   "cell_type": "code",
   "execution_count": 52,
   "id": "bdd851d6",
   "metadata": {},
   "outputs": [
    {
     "data": {
      "text/plain": [
       "array([284, 226, 136, 269, 194, 297, 140, 251, 199, 132, 260, 235, 207,\n",
       "       115, 197, 113, 255, 244, 126, 134])"
      ]
     },
     "execution_count": 52,
     "metadata": {},
     "output_type": "execute_result"
    }
   ],
   "source": [
    "arr1np = np.random.randint(100,300,20)\n",
    "arr1np"
   ]
  },
  {
   "cell_type": "code",
   "execution_count": 54,
   "id": "f84561d5",
   "metadata": {},
   "outputs": [
    {
     "data": {
      "text/plain": [
       "0     168\n",
       "1     261\n",
       "2     247\n",
       "3     132\n",
       "4     148\n",
       "5     296\n",
       "6     150\n",
       "7     205\n",
       "8     179\n",
       "9     251\n",
       "10    137\n",
       "11    242\n",
       "12    235\n",
       "13    113\n",
       "14    148\n",
       "15    273\n",
       "16    277\n",
       "17    199\n",
       "18    185\n",
       "19    242\n",
       "dtype: int32"
      ]
     },
     "execution_count": 54,
     "metadata": {},
     "output_type": "execute_result"
    }
   ],
   "source": [
    "arr2pd = pd.Series(np.random.randint(100,300,20))\n",
    "arr2pd   #indexed"
   ]
  },
  {
   "cell_type": "code",
   "execution_count": 56,
   "id": "36e8da08",
   "metadata": {},
   "outputs": [
    {
     "data": {
      "text/plain": [
       "0     apple\n",
       "1    banana\n",
       "2    cherry\n",
       "3    grapes\n",
       "4    papaya\n",
       "5     guava\n",
       "6      kiwi\n",
       "dtype: object"
      ]
     },
     "execution_count": 56,
     "metadata": {},
     "output_type": "execute_result"
    }
   ],
   "source": [
    "pd.Series(['apple','banana','cherry','grapes','papaya','guava','kiwi']) #categorical data"
   ]
  },
  {
   "cell_type": "code",
   "execution_count": 58,
   "id": "3256f218",
   "metadata": {},
   "outputs": [
    {
     "data": {
      "text/plain": [
       "0    Akshaya\n",
       "1    Bhavana\n",
       "2        300\n",
       "3        400\n",
       "dtype: object"
      ]
     },
     "execution_count": 58,
     "metadata": {},
     "output_type": "execute_result"
    }
   ],
   "source": [
    "hetero = pd.Series(['Akshaya','Bhavana',300,400])\n",
    "hetero  #heterogeneous"
   ]
  },
  {
   "cell_type": "code",
   "execution_count": 59,
   "id": "ab62a543",
   "metadata": {},
   "outputs": [
    {
     "data": {
      "text/plain": [
       "pandas.core.series.Series"
      ]
     },
     "execution_count": 59,
     "metadata": {},
     "output_type": "execute_result"
    }
   ],
   "source": [
    "type(hetero) #series #1dim"
   ]
  },
  {
   "cell_type": "code",
   "execution_count": 60,
   "id": "19b1255d",
   "metadata": {},
   "outputs": [
    {
     "data": {
      "text/plain": [
       "numpy.ndarray"
      ]
     },
     "execution_count": 60,
     "metadata": {},
     "output_type": "execute_result"
    }
   ],
   "source": [
    "type(arr1np) #ndim"
   ]
  },
  {
   "cell_type": "markdown",
   "id": "ae52004e",
   "metadata": {},
   "source": [
    "#### 5.create pandas series with ranges from 100 to 150 then apply indexing and slicing on it."
   ]
  },
  {
   "cell_type": "code",
   "execution_count": 3,
   "id": "beac6f7d",
   "metadata": {},
   "outputs": [
    {
     "data": {
      "text/plain": [
       "0     100\n",
       "1     101\n",
       "2     102\n",
       "3     103\n",
       "4     104\n",
       "5     105\n",
       "6     106\n",
       "7     107\n",
       "8     108\n",
       "9     109\n",
       "10    110\n",
       "11    111\n",
       "12    112\n",
       "13    113\n",
       "14    114\n",
       "15    115\n",
       "16    116\n",
       "17    117\n",
       "18    118\n",
       "19    119\n",
       "20    120\n",
       "21    121\n",
       "22    122\n",
       "23    123\n",
       "24    124\n",
       "25    125\n",
       "26    126\n",
       "27    127\n",
       "28    128\n",
       "29    129\n",
       "30    130\n",
       "31    131\n",
       "32    132\n",
       "33    133\n",
       "34    134\n",
       "35    135\n",
       "36    136\n",
       "37    137\n",
       "38    138\n",
       "39    139\n",
       "40    140\n",
       "41    141\n",
       "42    142\n",
       "43    143\n",
       "44    144\n",
       "45    145\n",
       "46    146\n",
       "47    147\n",
       "48    148\n",
       "49    149\n",
       "dtype: int64"
      ]
     },
     "execution_count": 3,
     "metadata": {},
     "output_type": "execute_result"
    }
   ],
   "source": [
    "slicing = pd.Series(list(range(100,150)))\n",
    "slicing"
   ]
  },
  {
   "cell_type": "code",
   "execution_count": 4,
   "id": "3a6c735b",
   "metadata": {},
   "outputs": [
    {
     "data": {
      "text/plain": [
       "1     101\n",
       "2     102\n",
       "3     103\n",
       "4     104\n",
       "5     105\n",
       "6     106\n",
       "7     107\n",
       "8     108\n",
       "9     109\n",
       "10    110\n",
       "11    111\n",
       "12    112\n",
       "13    113\n",
       "14    114\n",
       "15    115\n",
       "16    116\n",
       "17    117\n",
       "18    118\n",
       "19    119\n",
       "20    120\n",
       "21    121\n",
       "22    122\n",
       "23    123\n",
       "24    124\n",
       "25    125\n",
       "26    126\n",
       "27    127\n",
       "28    128\n",
       "29    129\n",
       "30    130\n",
       "31    131\n",
       "32    132\n",
       "33    133\n",
       "34    134\n",
       "35    135\n",
       "36    136\n",
       "37    137\n",
       "38    138\n",
       "39    139\n",
       "40    140\n",
       "41    141\n",
       "42    142\n",
       "43    143\n",
       "44    144\n",
       "45    145\n",
       "46    146\n",
       "47    147\n",
       "48    148\n",
       "49    149\n",
       "dtype: int64"
      ]
     },
     "execution_count": 4,
     "metadata": {},
     "output_type": "execute_result"
    }
   ],
   "source": [
    "indexing = pd.Series(slicing,index = list(range(1,50)))\n",
    "indexing"
   ]
  },
  {
   "cell_type": "code",
   "execution_count": 6,
   "id": "7851dc82",
   "metadata": {},
   "outputs": [
    {
     "data": {
      "text/plain": [
       "101"
      ]
     },
     "execution_count": 6,
     "metadata": {},
     "output_type": "execute_result"
    }
   ],
   "source": [
    "indexing[1]"
   ]
  },
  {
   "cell_type": "code",
   "execution_count": 7,
   "id": "415d088a",
   "metadata": {},
   "outputs": [
    {
     "data": {
      "text/plain": [
       "2     102\n",
       "3     103\n",
       "4     104\n",
       "5     105\n",
       "6     106\n",
       "7     107\n",
       "8     108\n",
       "9     109\n",
       "10    110\n",
       "11    111\n",
       "12    112\n",
       "13    113\n",
       "14    114\n",
       "15    115\n",
       "16    116\n",
       "17    117\n",
       "18    118\n",
       "19    119\n",
       "20    120\n",
       "21    121\n",
       "22    122\n",
       "23    123\n",
       "24    124\n",
       "25    125\n",
       "dtype: int64"
      ]
     },
     "execution_count": 7,
     "metadata": {},
     "output_type": "execute_result"
    }
   ],
   "source": [
    "indexing[1:25]"
   ]
  },
  {
   "cell_type": "code",
   "execution_count": 8,
   "id": "d63e499e",
   "metadata": {},
   "outputs": [
    {
     "data": {
      "text/plain": [
       "2     102\n",
       "5     105\n",
       "8     108\n",
       "11    111\n",
       "14    114\n",
       "17    117\n",
       "20    120\n",
       "23    123\n",
       "26    126\n",
       "29    129\n",
       "32    132\n",
       "35    135\n",
       "38    138\n",
       "41    141\n",
       "44    144\n",
       "47    147\n",
       "dtype: int64"
      ]
     },
     "execution_count": 8,
     "metadata": {},
     "output_type": "execute_result"
    }
   ],
   "source": [
    "indexing[1:50:3]"
   ]
  },
  {
   "cell_type": "code",
   "execution_count": 9,
   "id": "f9ae0d9b",
   "metadata": {},
   "outputs": [
    {
     "data": {
      "text/plain": [
       "49    149\n",
       "48    148\n",
       "47    147\n",
       "46    146\n",
       "45    145\n",
       "44    144\n",
       "43    143\n",
       "42    142\n",
       "41    141\n",
       "40    140\n",
       "39    139\n",
       "38    138\n",
       "37    137\n",
       "36    136\n",
       "35    135\n",
       "34    134\n",
       "33    133\n",
       "32    132\n",
       "31    131\n",
       "30    130\n",
       "29    129\n",
       "28    128\n",
       "27    127\n",
       "26    126\n",
       "25    125\n",
       "24    124\n",
       "23    123\n",
       "22    122\n",
       "21    121\n",
       "20    120\n",
       "19    119\n",
       "18    118\n",
       "17    117\n",
       "16    116\n",
       "15    115\n",
       "14    114\n",
       "13    113\n",
       "12    112\n",
       "11    111\n",
       "10    110\n",
       "9     109\n",
       "8     108\n",
       "7     107\n",
       "6     106\n",
       "5     105\n",
       "4     104\n",
       "3     103\n",
       "2     102\n",
       "1     101\n",
       "dtype: int64"
      ]
     },
     "execution_count": 9,
     "metadata": {},
     "output_type": "execute_result"
    }
   ],
   "source": [
    "indexing[-1: :-1]"
   ]
  },
  {
   "cell_type": "code",
   "execution_count": null,
   "id": "76960d2a",
   "metadata": {},
   "outputs": [],
   "source": []
  }
 ],
 "metadata": {
  "kernelspec": {
   "display_name": "Python 3 (ipykernel)",
   "language": "python",
   "name": "python3"
  },
  "language_info": {
   "codemirror_mode": {
    "name": "ipython",
    "version": 3
   },
   "file_extension": ".py",
   "mimetype": "text/x-python",
   "name": "python",
   "nbconvert_exporter": "python",
   "pygments_lexer": "ipython3",
   "version": "3.11.4"
  }
 },
 "nbformat": 4,
 "nbformat_minor": 5
}
