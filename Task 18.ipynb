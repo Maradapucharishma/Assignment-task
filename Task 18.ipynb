{
 "cells": [
  {
   "cell_type": "code",
   "execution_count": null,
   "id": "6c16dcb8",
   "metadata": {},
   "outputs": [],
   "source": [
    "In this assignment, you will create a Python program to calculate the average grade of students in a function. However, the program should handle various exceptions that might occur during user input and grade calculation. Requirements:\n",
    "\n",
    "1.Your program should prompt the user to enter the total number of students.\n",
    "2.For each student, prompt the user to enter their name and three subject marks (out of 100).\n",
    "3.Handle the following exceptions\n",
    ": a. ValueError: If the user enters a non-numeric value for the number of students or subject marks. b. ZeroDivisionError: If any student's average marks cannot be calculated due to division by zero (e.g., no subject marks provided). c. NegativeValueError: If any student's marks are negative. 4. Display appropriate error messages for each exception and prompt the user to try again. 5. Use a try-except block for exception handling. 6. Calculate the average marks for each student and display their names along with their average marks. 7. Calculate and display the overall class average. 8. Implement a loop so that the user can re-enter data if an exception occurs or continue calculating for another class. 9. Include a graceful exit message when the user decides to stop.\n",
    "\n",
    "Custom(User Defined) Exceptions: Define two custom exception classes:\n",
    "\n",
    "`NegativeValueError: This exception should be raised when any of the subject marks are negative.\n",
    "`InvalidNumber Error: This exception should be raised when the user enters an invalid number for the total number of students (e.g., a negative number)."
   ]
  },
  {
   "cell_type": "code",
   "execution_count": 13,
   "id": "311857e2",
   "metadata": {},
   "outputs": [
    {
     "name": "stdout",
     "output_type": "stream",
     "text": [
      "Enter the total number of students :3\n",
      "Enter your name : Apurva\n",
      "Enter maths marks : 34\n",
      "Enter physics marks : 56\n",
      "Enter computers marks : 67\n",
      "Average of Apurva is 52.333333333333336\n",
      "choose whether to continue or stop : continue\n",
      "Enter your name : Bhavitha\n",
      "Enter maths marks : 45\n",
      "Enter physics marks : 67\n",
      "Enter computers marks : 88\n",
      "Average of Bhavitha is 66.66666666666667\n",
      "choose whether to continue or stop : stop\n",
      "Average of class is 39.666666666666664\n",
      "Thanks for using my application\n"
     ]
    }
   ],
   "source": [
    "try:\n",
    "    def final(students):\n",
    "        students = int(input(\"Enter the total number of students :\"))\n",
    "        students_avg = []\n",
    "        for i in range(1,students+1):\n",
    "            name = input(\"Enter your name : \")\n",
    "            maths = int(input(\"Enter maths marks : \"))\n",
    "            physics = int(input(\"Enter physics marks : \"))\n",
    "            computers = int(input(\"Enter computers marks : \"))\n",
    "            avg = (maths+physics+computers)/3\n",
    "            students_avg.append(avg)\n",
    "            print(f\"Average of {name} is {avg}\")\n",
    "            choice = input(\"choose whether to continue or stop : \")\n",
    "            if choice == \"stop\":\n",
    "                break\n",
    "        class_avg = sum(students_avg)/students\n",
    "        print(f\"Average of class is {class_avg}\")\n",
    "    final(students)\n",
    "except ValueError:\n",
    "    print(\"please enter numeric value\")\n",
    "except ZeroDivisionError:\n",
    "    print(\"please enter valid marks\")\n",
    "except NegativeValueError:\n",
    "    print(\"please enter a positive numbers only\")\n",
    "finally:\n",
    "    print(\"Thanks for using my application\")\n",
    "    "
   ]
  },
  {
   "cell_type": "code",
   "execution_count": null,
   "id": "d1a77618",
   "metadata": {},
   "outputs": [],
   "source": []
  },
  {
   "cell_type": "code",
   "execution_count": null,
   "id": "0654c1ed",
   "metadata": {},
   "outputs": [],
   "source": []
  }
 ],
 "metadata": {
  "kernelspec": {
   "display_name": "Python 3 (ipykernel)",
   "language": "python",
   "name": "python3"
  },
  "language_info": {
   "codemirror_mode": {
    "name": "ipython",
    "version": 3
   },
   "file_extension": ".py",
   "mimetype": "text/x-python",
   "name": "python",
   "nbconvert_exporter": "python",
   "pygments_lexer": "ipython3",
   "version": "3.11.4"
  }
 },
 "nbformat": 4,
 "nbformat_minor": 5
}
