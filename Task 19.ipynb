{
 "cells": [
  {
   "cell_type": "markdown",
   "id": "8b420174",
   "metadata": {},
   "source": [
    "File handling + Time module\n",
    "\n",
    "Create a Python script that simulates a simple login system. The script should prompt the user to enter their username and password. If the entered username and password match the predefined credentials, the script should log a successful login event to a log file. If the credentials do not match, it should log a failed login attempt to the log file. Example Output Assuming the predefined credentials are username: \"user123\" and password: \"pass123\", here's an example output of the script:\n",
    "\n",
    "Create any 5 of following modules\n",
    "\n",
    "a. Restaurant\n",
    "\n",
    "b. IPL\n",
    "\n",
    "c. Mathematics\n",
    "d. Data Science\n",
    "\n",
    "e. India\n",
    "\n",
    "f. Shopping mall\n",
    "\n",
    "g. Amazon_price\n",
    "\n",
    "Do some research while creating them\n",
    "\n"
   ]
  },
  {
   "cell_type": "markdown",
   "id": "85368368",
   "metadata": {},
   "source": [
    "#### Create a Python script that simulates a simple login system. The script should prompt the user to enter their username and password. If the entered username and password match the predefined credentials, the script should log a successful login event to a log file. If the credentials do not match, it should log a failed login attempt to the log file. Example Output Assuming the predefined credentials are username: \"user123\" and password: \"pass123\", here's an example output of the script:"
   ]
  },
  {
   "cell_type": "code",
   "execution_count": 5,
   "id": "418d9500",
   "metadata": {},
   "outputs": [
    {
     "name": "stdout",
     "output_type": "stream",
     "text": [
      "Enter your username : apurva123\n",
      "Enter your password : anu@456\n"
     ]
    }
   ],
   "source": [
    "org_username = input(\"Enter your username : \")\n",
    "org_password = input(\"Enter your password : \")"
   ]
  },
  {
   "cell_type": "code",
   "execution_count": 9,
   "id": "47c8f4e6",
   "metadata": {},
   "outputs": [
    {
     "name": "stdout",
     "output_type": "stream",
     "text": [
      "Enter your username : apurva@123\n",
      "Enter your password : anu@456\n",
      "Login failed for apurva@123 (Sat Sep 30 07:03:05 2023)\n"
     ]
    }
   ],
   "source": [
    "#1\n",
    "import time\n",
    "time = time.ctime()\n",
    "username = input(\"Enter your username : \")\n",
    "password = input(\"Enter your password : \")\n",
    "if (org_username == username and org_password == password):\n",
    "    print(f\"Login successfull for {username} ({time})\")\n",
    "else:\n",
    "    print(f\"Login failed for {username} ({time})\")"
   ]
  },
  {
   "cell_type": "code",
   "execution_count": 14,
   "id": "b2f9ea08",
   "metadata": {},
   "outputs": [
    {
     "name": "stdout",
     "output_type": "stream",
     "text": [
      "Enter your username : ananya@123\n",
      "Enter your password : anu@456\n",
      "Login failed for ananya@123 (2023/09/30, 07:07:42)\n"
     ]
    }
   ],
   "source": [
    "#2\n",
    "import time\n",
    "time = time.strftime(\"%Y/%m/%d, %H:%M:%S\")\n",
    "username = input(\"Enter your username : \")\n",
    "password = input(\"Enter your password : \")\n",
    "if (org_username == username and org_password == password):\n",
    "    print(f\"Login successfull for {username} ({time})\")\n",
    "else:\n",
    "    print(f\"Login failed for {username} ({time})\")"
   ]
  },
  {
   "cell_type": "markdown",
   "id": "a5700cc9",
   "metadata": {},
   "source": [
    "### Restaurant"
   ]
  },
  {
   "cell_type": "code",
   "execution_count": 15,
   "id": "f04555ee",
   "metadata": {},
   "outputs": [],
   "source": [
    "import restaurant"
   ]
  },
  {
   "cell_type": "code",
   "execution_count": 16,
   "id": "1a489f1a",
   "metadata": {},
   "outputs": [
    {
     "name": "stdout",
     "output_type": "stream",
     "text": [
      "Non-vegstarters\n",
      "veg starters\n",
      "Biryani's\n",
      "Bevarages\n",
      "Deserts\n"
     ]
    }
   ],
   "source": [
    "restaurant.menu()"
   ]
  },
  {
   "cell_type": "code",
   "execution_count": 17,
   "id": "f182cb07",
   "metadata": {},
   "outputs": [
    {
     "name": "stdout",
     "output_type": "stream",
     "text": [
      "Babycorn - 180\n",
      "manchuria - 230\n",
      "paneer tikka - 230\n",
      "chilli paneer - 250\n"
     ]
    }
   ],
   "source": [
    "restaurant.vegstarters()"
   ]
  },
  {
   "cell_type": "code",
   "execution_count": 18,
   "id": "d803bde4",
   "metadata": {},
   "outputs": [
    {
     "name": "stdout",
     "output_type": "stream",
     "text": [
      "chicken Manchuria - 250\n",
      "grill chiecken - 350\n",
      "chicken kabab - 380\n"
     ]
    }
   ],
   "source": [
    "restaurant.Nonvegstarters()"
   ]
  },
  {
   "cell_type": "code",
   "execution_count": 19,
   "id": "434cd921",
   "metadata": {},
   "outputs": [
    {
     "name": "stdout",
     "output_type": "stream",
     "text": [
      "chicken Biryani - 350\n",
      "Mutton Biryani - 450\n",
      "Prawns Biryani - 470\n"
     ]
    }
   ],
   "source": [
    "restaurant.Biryani()"
   ]
  },
  {
   "cell_type": "code",
   "execution_count": 20,
   "id": "f8b2804a",
   "metadata": {},
   "outputs": [
    {
     "name": "stdout",
     "output_type": "stream",
     "text": [
      "soda - 20\n",
      "coke - 50\n",
      "Thumsup - 50\n"
     ]
    }
   ],
   "source": [
    "restaurant.Bevarages()"
   ]
  },
  {
   "cell_type": "code",
   "execution_count": 21,
   "id": "02000f55",
   "metadata": {},
   "outputs": [
    {
     "name": "stdout",
     "output_type": "stream",
     "text": [
      "vennela - 90\n",
      "chocolate - 100\n",
      "Butterscorch - 150\n"
     ]
    }
   ],
   "source": [
    "restaurant.Deserts()"
   ]
  },
  {
   "cell_type": "markdown",
   "id": "d5941511",
   "metadata": {},
   "source": [
    "### Mathematics"
   ]
  },
  {
   "cell_type": "code",
   "execution_count": 22,
   "id": "b78b5612",
   "metadata": {},
   "outputs": [],
   "source": [
    "import mathematics as m"
   ]
  },
  {
   "cell_type": "code",
   "execution_count": 23,
   "id": "47c1ec7e",
   "metadata": {},
   "outputs": [
    {
     "name": "stdout",
     "output_type": "stream",
     "text": [
      "Addition\n",
      "subtraction\n",
      "Multiplication\n",
      "Division\n",
      "Floordivision\n"
     ]
    }
   ],
   "source": [
    "m.operations()"
   ]
  },
  {
   "cell_type": "code",
   "execution_count": 24,
   "id": "4dbcf583",
   "metadata": {},
   "outputs": [
    {
     "data": {
      "text/plain": [
       "9"
      ]
     },
     "execution_count": 24,
     "metadata": {},
     "output_type": "execute_result"
    }
   ],
   "source": [
    "m.add(4,5)"
   ]
  },
  {
   "cell_type": "code",
   "execution_count": 25,
   "id": "34ab3c9b",
   "metadata": {},
   "outputs": [
    {
     "data": {
      "text/plain": [
       "1"
      ]
     },
     "execution_count": 25,
     "metadata": {},
     "output_type": "execute_result"
    }
   ],
   "source": [
    "m.sub(5,4)"
   ]
  },
  {
   "cell_type": "code",
   "execution_count": 26,
   "id": "6732fc16",
   "metadata": {},
   "outputs": [
    {
     "data": {
      "text/plain": [
       "42"
      ]
     },
     "execution_count": 26,
     "metadata": {},
     "output_type": "execute_result"
    }
   ],
   "source": [
    "m.mul(6,7)"
   ]
  },
  {
   "cell_type": "code",
   "execution_count": 27,
   "id": "bc145d28",
   "metadata": {},
   "outputs": [
    {
     "data": {
      "text/plain": [
       "2.0"
      ]
     },
     "execution_count": 27,
     "metadata": {},
     "output_type": "execute_result"
    }
   ],
   "source": [
    "m.div(10,5)"
   ]
  },
  {
   "cell_type": "code",
   "execution_count": 28,
   "id": "738762f5",
   "metadata": {},
   "outputs": [
    {
     "data": {
      "text/plain": [
       "2"
      ]
     },
     "execution_count": 28,
     "metadata": {},
     "output_type": "execute_result"
    }
   ],
   "source": [
    "m.floor(10,5)"
   ]
  },
  {
   "cell_type": "markdown",
   "id": "32dbad14",
   "metadata": {},
   "source": [
    "### Data Science"
   ]
  },
  {
   "cell_type": "code",
   "execution_count": 1,
   "id": "83805d12",
   "metadata": {},
   "outputs": [],
   "source": [
    "import datascience as ds"
   ]
  },
  {
   "cell_type": "code",
   "execution_count": 2,
   "id": "541edd33",
   "metadata": {},
   "outputs": [
    {
     "name": "stdout",
     "output_type": "stream",
     "text": [
      "1. Python\n",
      "2. R\n",
      "3. SQL\n"
     ]
    }
   ],
   "source": [
    "ds.programmingLanguage()"
   ]
  },
  {
   "cell_type": "code",
   "execution_count": 3,
   "id": "1cc8a072",
   "metadata": {},
   "outputs": [
    {
     "name": "stdout",
     "output_type": "stream",
     "text": [
      "1. Classification\n",
      "2. Regression\n",
      "3. Reinforcement Learning\n",
      "4. Deep Learning\n",
      "5. Clustering\n",
      "5. NLP\n"
     ]
    }
   ],
   "source": [
    "ds.machineLearning()"
   ]
  },
  {
   "cell_type": "code",
   "execution_count": 4,
   "id": "2a87ef2f",
   "metadata": {},
   "outputs": [
    {
     "name": "stdout",
     "output_type": "stream",
     "text": [
      "1. Tableau\n",
      "2. Scatter Plot\n",
      "3. Power BI\n"
     ]
    }
   ],
   "source": [
    "ds.visualisation()"
   ]
  },
  {
   "cell_type": "markdown",
   "id": "6a142742",
   "metadata": {},
   "source": [
    "### India"
   ]
  },
  {
   "cell_type": "code",
   "execution_count": 1,
   "id": "fc22a941",
   "metadata": {},
   "outputs": [],
   "source": [
    "import india"
   ]
  },
  {
   "cell_type": "code",
   "execution_count": 2,
   "id": "7be10a5a",
   "metadata": {},
   "outputs": [
    {
     "name": "stdout",
     "output_type": "stream",
     "text": [
      "1. Buddhists\n",
      "2. Hindus\n",
      "3. Muslims\n",
      "4. Jains\n",
      "5. Sikhs\n"
     ]
    }
   ],
   "source": [
    "india.cultures()"
   ]
  },
  {
   "cell_type": "code",
   "execution_count": 3,
   "id": "4d13d61d",
   "metadata": {},
   "outputs": [
    {
     "name": "stdout",
     "output_type": "stream",
     "text": [
      "1. Holi\n",
      "2. Krishna janmashtami\n",
      "3. Diwali\n",
      "4. pongal\n",
      "5. onam\n",
      "6. Dussehra\n"
     ]
    }
   ],
   "source": [
    "india.festivals()"
   ]
  },
  {
   "cell_type": "code",
   "execution_count": 4,
   "id": "c29be919",
   "metadata": {},
   "outputs": [
    {
     "name": "stdout",
     "output_type": "stream",
     "text": [
      "1. The Taj Mahal, Agra. ...\n",
      "2. The Red Fort, New Delhi....\n",
      "3. The Gateway of India, Mumbai....\n",
      "4. Amber Palace, Jaipur....\n",
      "5. Agra Fort....\n",
      "6. Ajanta Caves. ...\n"
     ]
    }
   ],
   "source": [
    "india.places()"
   ]
  },
  {
   "cell_type": "code",
   "execution_count": 5,
   "id": "eb4ff6cb",
   "metadata": {},
   "outputs": [
    {
     "name": "stdout",
     "output_type": "stream",
     "text": [
      "1. Mahabodhi temple\n",
      "2. shirdi sai Baba\n",
      "3. Tirumala Venkateswara\n",
      " 4.RamanathaSwamy Temple\n",
      "5. Kedarnath temple\n"
     ]
    }
   ],
   "source": [
    "india.temples()"
   ]
  },
  {
   "cell_type": "code",
   "execution_count": 6,
   "id": "25125e31",
   "metadata": {},
   "outputs": [
    {
     "name": "stdout",
     "output_type": "stream",
     "text": [
      "1. biryani\n",
      "2. butter chicken\n",
      "3. samosas\n",
      "4. dal makhani\n",
      "5. tandoori meat\n",
      "6. chaat\n"
     ]
    }
   ],
   "source": [
    "india.food()"
   ]
  },
  {
   "cell_type": "markdown",
   "id": "65fb5772",
   "metadata": {},
   "source": [
    "### shoppingmall"
   ]
  },
  {
   "cell_type": "code",
   "execution_count": 1,
   "id": "c0e01ffe",
   "metadata": {},
   "outputs": [],
   "source": [
    "import shoppingmall as sm"
   ]
  },
  {
   "cell_type": "code",
   "execution_count": 2,
   "id": "65e31551",
   "metadata": {},
   "outputs": [
    {
     "name": "stdout",
     "output_type": "stream",
     "text": [
      "childwear\n",
      "gents\n",
      "ladies\n",
      "footwear\n",
      "jewellery\n"
     ]
    }
   ],
   "source": [
    "sm.sections()"
   ]
  },
  {
   "cell_type": "code",
   "execution_count": 3,
   "id": "b1933093",
   "metadata": {},
   "outputs": [
    {
     "name": "stdout",
     "output_type": "stream",
     "text": [
      "age 0-5\n",
      "age 5-12\n",
      "age 12-16\n"
     ]
    }
   ],
   "source": [
    "sm.childwear()"
   ]
  },
  {
   "cell_type": "code",
   "execution_count": 4,
   "id": "bebe15df",
   "metadata": {},
   "outputs": [
    {
     "name": "stdout",
     "output_type": "stream",
     "text": [
      "shirts\n",
      "pants\n",
      "blazers\n",
      "tracks\n"
     ]
    }
   ],
   "source": [
    "sm.gents()"
   ]
  },
  {
   "cell_type": "code",
   "execution_count": 5,
   "id": "3ea10e18",
   "metadata": {},
   "outputs": [
    {
     "name": "stdout",
     "output_type": "stream",
     "text": [
      "Tops\n",
      "chudidhars\n",
      "Leggings\n",
      "Dupattas\n",
      " sarees\n"
     ]
    }
   ],
   "source": [
    "sm.ladies()"
   ]
  },
  {
   "cell_type": "code",
   "execution_count": 6,
   "id": "da146d97",
   "metadata": {},
   "outputs": [
    {
     "name": "stdout",
     "output_type": "stream",
     "text": [
      "Bangles\n",
      "chains\n",
      "rings\n",
      "bracelets\n",
      "watches\n"
     ]
    }
   ],
   "source": [
    "sm.jewellery()"
   ]
  },
  {
   "cell_type": "code",
   "execution_count": 7,
   "id": "9ce114fe",
   "metadata": {},
   "outputs": [
    {
     "name": "stdout",
     "output_type": "stream",
     "text": [
      "sandals\n",
      "shoes\n",
      "sportshoes\n",
      "highheels\n"
     ]
    }
   ],
   "source": [
    "sm.footwear()"
   ]
  },
  {
   "cell_type": "code",
   "execution_count": null,
   "id": "9a5a999d",
   "metadata": {},
   "outputs": [],
   "source": []
  }
 ],
 "metadata": {
  "kernelspec": {
   "display_name": "Python 3 (ipykernel)",
   "language": "python",
   "name": "python3"
  },
  "language_info": {
   "codemirror_mode": {
    "name": "ipython",
    "version": 3
   },
   "file_extension": ".py",
   "mimetype": "text/x-python",
   "name": "python",
   "nbconvert_exporter": "python",
   "pygments_lexer": "ipython3",
   "version": "3.11.4"
  }
 },
 "nbformat": 4,
 "nbformat_minor": 5
}
