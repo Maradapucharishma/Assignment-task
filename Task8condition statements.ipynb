{
 "cells": [
  {
   "cell_type": "markdown",
   "id": "21c2b7b2",
   "metadata": {},
   "source": [
    "\n",
    "**Task 1: Basic If-Else Statements**\n",
    "Write a Python program that takes an `integer as input` from the user and prints whether it is `multiple of 3 or not` using if-else statements.\n",
    "\n",
    "**Task 2: Nested If Statements**\n",
    "Create a program that `asks the user` for their `age` and `nationality`. Depending on their age and nationality, display a different message using nested if statements. For example, if they are under 18 and from the USA, display `\"You are a minor from the USA.\"`\n",
    "\n",
    "**Task 3: Grade Calculator**\n",
    "Write a program that takes a student's score as input and converts it to a letter grade (A, B, C, D, or F) using if-elif-else statements. Use the following grading scale:\n",
    "- A: 90-100\n",
    "- B: 80-89\n",
    "- C: 70-79\n",
    "- D: 60-69\n",
    "- F: Below 60\n",
    "\n",
    "**Task 4: Leap Year Checker**\n",
    "Create a Python program that checks if a given year is a leap year or not. Use conditional statements to determine whether the year is divisible by 4, 100, and 400 to decide if it's a leap year.\n",
    "\n",
    "**Task 5: BMI Calculator**\n",
    "Write a program that calculates a person's Body Mass Index (BMI) based on their height and weight. Then, use conditional statements to categorize the BMI as Underweight, Normal, Overweight, or Obese. Provide guidance on the healthy range for BMI.(use BMI Formula)\n",
    "\n",
    "**Task 6: Calculator with Menu**\n",
    "Build a simple calculator program that provides a menu with options for addition, subtraction, multiplication, and division. `Take user input for two numbers`and an `operation choice`. Use conditional statements to perform the selected operation and display the result.\n",
    "\n",
    "**Task 7: Temperature Converter**\n",
    "Write a program that `converts temperatures between Celsius and Fahrenhei`t. Allow the user to `choose` the conversion direction and input the temperature value. Use conditional statements to perform the conversion based on the `user's choice`.(Do with conversion formula)\n"
   ]
  },
  {
   "cell_type": "markdown",
   "id": "b098ee78",
   "metadata": {},
   "source": [
    "#### Task 1: Basic If-Else Statements Write a Python program that takes an integer as input from the user and prints whether it is multiple of 3 or not using if-else statements."
   ]
  },
  {
   "cell_type": "code",
   "execution_count": 1,
   "id": "441272b9",
   "metadata": {},
   "outputs": [
    {
     "name": "stdout",
     "output_type": "stream",
     "text": [
      "Enter a number: 27\n",
      "Given number is a multiple of 3\n"
     ]
    }
   ],
   "source": [
    "num = int(input(\"Enter a number: \"))\n",
    "if(num%3 == 0):\n",
    "    print(\"Given number is a multiple of 3\")\n",
    "else:\n",
    "    print(\"Given number is not a multiple of 3\")"
   ]
  },
  {
   "cell_type": "markdown",
   "id": "a72ef8eb",
   "metadata": {},
   "source": [
    "#### Task 2: Nested If Statements**\n",
    "Create a program that `asks the user` for their `age` and `nationality`. Depending on their age and nationality, display a different message using nested if statements. For example, if they are under 18 and from the USA, display `\"You are a minor from the USA.\"`"
   ]
  },
  {
   "cell_type": "code",
   "execution_count": 6,
   "id": "aa6ff6aa",
   "metadata": {},
   "outputs": [
    {
     "name": "stdout",
     "output_type": "stream",
     "text": [
      "Enter your age: 23\n",
      "Enter your nationality: UK\n",
      "You are a major from UK\n"
     ]
    }
   ],
   "source": [
    "age = int(input(\"Enter your age: \"))\n",
    "nationality = input(\"Enter your nationality: \")\n",
    "if (age<18):\n",
    "    if(nationality == \"USA\"):\n",
    "        print(\"You are a minor from the USA\")\n",
    "    else:\n",
    "        print(f\"You are minor from {nationality}\")\n",
    "else:\n",
    "    print(f\"You are a major from {nationality}\")"
   ]
  },
  {
   "cell_type": "markdown",
   "id": "5c98636c",
   "metadata": {},
   "source": [
    "#### **Task 3: Grade Calculator**\n",
    "Write a program that takes a student's score as input and converts it to a letter grade (A, B, C, D, or F) using if-elif-else statements. Use the following grading scale:\n",
    "- A: 90-100\n",
    "- B: 80-89\n",
    "- C: 70-79\n",
    "- D: 60-69\n",
    "- F: Below 60"
   ]
  },
  {
   "cell_type": "code",
   "execution_count": 9,
   "id": "43eceb19",
   "metadata": {},
   "outputs": [
    {
     "name": "stdout",
     "output_type": "stream",
     "text": [
      "Enter your marks: 78\n",
      "Your grade is C\n"
     ]
    }
   ],
   "source": [
    "marks = int(input(\"Enter your marks: \"))\n",
    "if((marks>=90) and (marks<=100)):\n",
    "    print(\"Your grade is A\")\n",
    "elif((marks>=80) and (marks<90)):\n",
    "    print(\"Your grade is B\")\n",
    "elif((marks>=70) and (marks<80)):\n",
    "    print(\"Your grade is C\")\n",
    "elif((marks>=60) and (marks<70)):\n",
    "    print(\"Your grade is D\")\n",
    "elif((marks<0) or (marks>100)):\n",
    "    print(\"Invalid input,please enter correct marks\")\n",
    "else:\n",
    "    print(\"Your grade is F\")"
   ]
  },
  {
   "cell_type": "markdown",
   "id": "1a035a68",
   "metadata": {},
   "source": [
    "#### Task 4: Leap Year Checker**\n",
    "Create a Python program that checks if a given year is a leap year or not. Use conditional statements to determine whether the year is divisible by 4, 100, and 400 to decide if it's a leap year."
   ]
  },
  {
   "cell_type": "code",
   "execution_count": 2,
   "id": "6d1449d6",
   "metadata": {},
   "outputs": [
    {
     "name": "stdout",
     "output_type": "stream",
     "text": [
      "Enter a year : 2023\n",
      "Not Leap year\n"
     ]
    }
   ],
   "source": [
    "year = int(input(\"Enter a year : \"))\n",
    "if(((year % 4==0) and (year % 100 != 0)) or (year % 400 == 0)):\n",
    "    print(\"It is Leap year\")\n",
    "else:\n",
    "    print(\"Not Leap year\")"
   ]
  },
  {
   "cell_type": "markdown",
   "id": "f9d41264",
   "metadata": {},
   "source": [
    "#### Task 5: BMI Calculator**\n",
    "Write a program that calculates a person's Body Mass Index (BMI) based on their height and weight. Then, use conditional statements to categorize the BMI as Underweight, Normal, Overweight, or Obese. Provide guidance on the healthy range for BMI.(use BMI Formula)"
   ]
  },
  {
   "cell_type": "code",
   "execution_count": 4,
   "id": "4a5cd165",
   "metadata": {},
   "outputs": [
    {
     "name": "stdout",
     "output_type": "stream",
     "text": [
      "Enter your weight : 46\n",
      "Enter your height : 5.2\n",
      "Underweight\n"
     ]
    }
   ],
   "source": [
    "weight = float(input(\"Enter your weight : \"))\n",
    "height = float(input(\"Enter your height : \"))\n",
    "BMI = weight/(height**2)\n",
    "if (BMI<18.5):\n",
    "    print(\"Underweight\")\n",
    "elif((BMI>=18.5) and (BMI<25)):\n",
    "    print(\"Normal\")\n",
    "elif((BMI<=25) and (BMI<30)):\n",
    "    print(\"Overweight\")\n",
    "else:\n",
    "    print(\"Obesity\")"
   ]
  },
  {
   "cell_type": "markdown",
   "id": "a912eab8",
   "metadata": {},
   "source": [
    "#### Task 6: Calculator with Menu**\n",
    "Build a simple calculator program that provides a menu with options for addition, subtraction, multiplication, and division. `Take user input for two numbers`and an `operation choice`. Use conditional statements to perform the selected operation and display the result."
   ]
  },
  {
   "cell_type": "code",
   "execution_count": 9,
   "id": "d3d67fc9",
   "metadata": {},
   "outputs": [
    {
     "name": "stdout",
     "output_type": "stream",
     "text": [
      "Please select operation : \n",
      "1.Add\n",
      "2.Subtract\n",
      "3.Multiply\n",
      "4.Divide\n",
      "Select operations form 1, 2, 3, 4 :1\n",
      "Enter first number: 3\n",
      "Enter second number: 5\n",
      "3 + 5 = 8\n"
     ]
    }
   ],
   "source": [
    "def add(num1, num2):\n",
    "    return num1 + num2\n",
    " \n",
    "def subtract(num1, num2):\n",
    "    return num1 - num2\n",
    " \n",
    "def multiply(num1, num2):\n",
    "    return num1 * num2\n",
    " \n",
    "def divide(num1, num2):\n",
    "    return num1 / num2\n",
    " \n",
    "print(\"Please select operation : \")\n",
    "print(\"1.Add\")\n",
    "print(\"2.Subtract\")\n",
    "print(\"3.Multiply\")\n",
    "print(\"4.Divide\")\n",
    "  \n",
    "select = int(input(\"Select operations form 1, 2, 3, 4 :\"))\n",
    " \n",
    "num1 = int(input(\"Enter first number: \"))\n",
    "num2 = int(input(\"Enter second number: \"))\n",
    " \n",
    "if select == 1:\n",
    "    print(num1, \"+\", num2, \"=\", add(num1, num2))\n",
    " \n",
    "elif select == 2:\n",
    "    print(num1, \"-\", num2, \"=\", subtract(num1, num2))\n",
    " \n",
    "elif select == 3:\n",
    "    print(num1, \"*\", num2, \"=\", multiply(num1, num2))\n",
    " \n",
    "elif select == 4:\n",
    "    print(num1, \"/\", num2, \"=\", divide(num1, numb2))\n",
    "else:\n",
    "    print(\"Invalid input\")"
   ]
  },
  {
   "cell_type": "markdown",
   "id": "f3e467a0",
   "metadata": {},
   "source": [
    "#### Task 7: Temperature Converter**\n",
    "Write a program that `converts temperatures between Celsius and Fahrenhei`t. Allow the user to `choose` the conversion direction and input the temperature value. Use conditional statements to perform the conversion based on the `user's choice`.(Do with conversion formula)"
   ]
  },
  {
   "cell_type": "code",
   "execution_count": 14,
   "id": "e74db235",
   "metadata": {
    "scrolled": true
   },
   "outputs": [
    {
     "name": "stdout",
     "output_type": "stream",
     "text": [
      "Temperature Conversion\n",
      "1. Celsius to Fahrenheit\n",
      "2. Fahrenheit to Celsius\n",
      "Enter your choice (1/2): 1\n",
      "Enter temperature in Celsius: 23\n",
      "23.0 Celsius is equal to 73.4 Fahrenheit.\n"
     ]
    }
   ],
   "source": [
    "def celsius_to_fahrenheit(celsius):\n",
    "    return (celsius * 9/5) + 32\n",
    "\n",
    "def fahrenheit_to_celsius(fahrenheit):\n",
    "    return (fahrenheit - 32) * 5/9\n",
    "\n",
    "print(\"Temperature Conversion\")\n",
    "print(\"1. Celsius to Fahrenheit\")\n",
    "print(\"2. Fahrenheit to Celsius\")\n",
    "\n",
    "choice = int(input(\"Enter your choice (1/2): \"))\n",
    "\n",
    "if choice == 1:\n",
    "    celsius = float(input(\"Enter temperature in Celsius: \"))\n",
    "    fahrenheit = celsius_to_fahrenheit(celsius)\n",
    "    print(f\"{celsius} Celsius is equal to {fahrenheit} Fahrenheit.\")\n",
    "elif choice == 2:\n",
    "    fahrenheit = float(input(\"Enter temperature in Fahrenheit: \"))\n",
    "    celsius = fahrenheit_to_celsius(fahrenheit)\n",
    "    print(f\"{fahrenheit} Fahrenheit is equal to {celsius} Celsius.\")\n",
    "else:\n",
    "    print(\"Invalid choice. Please enter 1 or 2.\")"
   ]
  },
  {
   "cell_type": "code",
   "execution_count": 1,
   "id": "ed2ba9d5",
   "metadata": {},
   "outputs": [
    {
     "name": "stdout",
     "output_type": "stream",
     "text": [
      "Enter first value: 2\n",
      "Enter second value: 3\n",
      "select operations: \n",
      "1.Addition\n",
      "2.Subtraction\n",
      "3.Multiplication\n",
      "4.Division\n"
     ]
    }
   ],
   "source": [
    "num1 = int(input(\"Enter first value: \"))\n",
    "num2 = int(input(\"Enter second value: \"))\n",
    "print(\"select operations: \")\n",
    "print(\"1.Addition\")\n",
    "print(\"2.Subtraction\")\n",
    "print(\"3.Multiplication\")\n",
    "print(\"4.Division\")\n",
    "choice = (\"select operations from 1,2,3,4 : \")\n",
    "if choice == 1:\n",
    "    addition = num1+num2\n",
    "    print(\"f The addition of {}\")\n",
    "elif choice == 2:\n",
    "    subtra\n",
    "    "
   ]
  },
  {
   "cell_type": "code",
   "execution_count": null,
   "id": "d132f758",
   "metadata": {},
   "outputs": [],
   "source": []
  }
 ],
 "metadata": {
  "kernelspec": {
   "display_name": "Python 3 (ipykernel)",
   "language": "python",
   "name": "python3"
  },
  "language_info": {
   "codemirror_mode": {
    "name": "ipython",
    "version": 3
   },
   "file_extension": ".py",
   "mimetype": "text/x-python",
   "name": "python",
   "nbconvert_exporter": "python",
   "pygments_lexer": "ipython3",
   "version": "3.11.4"
  }
 },
 "nbformat": 4,
 "nbformat_minor": 5
}
