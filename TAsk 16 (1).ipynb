{
 "cells": [
  {
   "cell_type": "markdown",
   "id": "fd99fb02",
   "metadata": {},
   "source": [
    "**Task 1**:\n",
    "1. Load the file 'about_python.txt'into your jupyter notebook.\n",
    "    a. Correct wrong statements about python fatures\n",
    "    b. How many charactaers present in the data\n",
    "    c. How many times 'Python' word is repeated.\n",
    "    d. after correcting all ..print complete valid features of the python.\n",
    "    \n",
    "**Task2**:\n",
    "\n",
    "2. Create a file 'File.txt'which expalains python handling whatever you have learnt today(creating,reading,wring and appending...etc) in detail.That reaload the saved file(i.e File.txt) to jupyter notebook."
   ]
  },
  {
   "cell_type": "code",
   "execution_count": 26,
   "id": "d0664324",
   "metadata": {},
   "outputs": [],
   "source": [
    "file = open(r\"C:\\Users\\CHARISHMA\\Downloads\\about_python.txt\")"
   ]
  },
  {
   "cell_type": "code",
   "execution_count": 27,
   "id": "7153115c",
   "metadata": {},
   "outputs": [],
   "source": [
    "a = file.read()"
   ]
  },
  {
   "cell_type": "code",
   "execution_count": 28,
   "id": "5584c878",
   "metadata": {},
   "outputs": [
    {
     "data": {
      "text/plain": [
       "'Python supports object-oriented programming (OOP) concepts.\\nPython is a compiled language.\\nPython has a rich ecosystem of third-party libraries.\\nPython is a paid programming language\\nPython uses indentation for code block structuring.\\nPython is statically Typed Language\\nPython only supports double quotes for string literals.\\nPython can only be used for web development.\\nPython was created by Elon Musk.'"
      ]
     },
     "execution_count": 28,
     "metadata": {},
     "output_type": "execute_result"
    }
   ],
   "source": [
    "a"
   ]
  },
  {
   "cell_type": "code",
   "execution_count": 34,
   "id": "bd5c9103",
   "metadata": {},
   "outputs": [],
   "source": [
    "c = b.replace('paid','opensource')\n",
    "d = c.replace('statically','dynamically')\n",
    "e = d.replace('only supports','supports single,double')\n",
    "f = e.replace('can only be ','data visulization,data anlysis')\n",
    "g = f.replace('Elon Musk','Guido van Rossum')"
   ]
  },
  {
   "cell_type": "code",
   "execution_count": 35,
   "id": "d056018d",
   "metadata": {},
   "outputs": [
    {
     "name": "stdout",
     "output_type": "stream",
     "text": [
      "Python supports object-oriented programming (OOP) concepts.\n",
      "Python is a interpreted language.\n",
      "Python has a rich ecosystem of third-party libraries.\n",
      "Python is a opensource programming language\n",
      "Python uses indentation for code block structuring.\n",
      "Python is dynamically Typed Language\n",
      "Python supports single,double double quotes for string literals.\n",
      "Python data visulization,data anlysisused for web development.\n",
      "Python was created by Guido van Rossum.\n"
     ]
    }
   ],
   "source": [
    "print(g)"
   ]
  },
  {
   "cell_type": "code",
   "execution_count": 36,
   "id": "39c484f8",
   "metadata": {},
   "outputs": [
    {
     "data": {
      "text/plain": [
       "448"
      ]
     },
     "execution_count": 36,
     "metadata": {},
     "output_type": "execute_result"
    }
   ],
   "source": [
    "len(g)"
   ]
  },
  {
   "cell_type": "code",
   "execution_count": 38,
   "id": "fc4b2628",
   "metadata": {},
   "outputs": [
    {
     "data": {
      "text/plain": [
       "9"
      ]
     },
     "execution_count": 38,
     "metadata": {},
     "output_type": "execute_result"
    }
   ],
   "source": [
    "g.count('Python')"
   ]
  },
  {
   "cell_type": "markdown",
   "id": "e8c67d08",
   "metadata": {},
   "source": [
    "#### Create a file 'File.txt'which expalains python handling whatever you have learnt today(creating,reading,wring and appending...etc) in detail.That reaload the saved file(i.e File.txt) to jupyter notebook."
   ]
  },
  {
   "cell_type": "code",
   "execution_count": 3,
   "id": "024b0e19",
   "metadata": {},
   "outputs": [],
   "source": [
    "file = open(\"File.txt\",'x')"
   ]
  },
  {
   "cell_type": "code",
   "execution_count": 4,
   "id": "52ad3cbc",
   "metadata": {},
   "outputs": [],
   "source": [
    "file = open('File.txt','w')"
   ]
  },
  {
   "cell_type": "code",
   "execution_count": 9,
   "id": "c4aaaaa1",
   "metadata": {},
   "outputs": [
    {
     "data": {
      "text/plain": [
       "789"
      ]
     },
     "execution_count": 9,
     "metadata": {},
     "output_type": "execute_result"
    }
   ],
   "source": [
    "file.write(\"File Handling :\\n1.File means a folder containg some information\\ncreation :\\n1.using manual file creation\\n2.using write,create,open function in file handling \\nfile opening :\\nfile = open(filepath or file name)\\nread file :\\nyou can read the file by use read function. There are different features available in read function like read line ..it execute line by line \\nwrite :\\nBy use write function, you can write in the file. But the drawback in write is it overwrites the existing data\\nappend :\\nwe know append means joining append is used to add.. it is used when you want the previous data to be as same and add new data to the previous one\\nwe use string manipulations in file handling . The  one type of data in file handling textual it is string data type so we can apply string manipulations\")"
   ]
  },
  {
   "cell_type": "code",
   "execution_count": 10,
   "id": "821fdaa2",
   "metadata": {},
   "outputs": [],
   "source": [
    "file.close()"
   ]
  },
  {
   "cell_type": "code",
   "execution_count": 16,
   "id": "7b2d87e4",
   "metadata": {},
   "outputs": [],
   "source": [
    "c = open(\"File.txt\",'r')"
   ]
  },
  {
   "cell_type": "code",
   "execution_count": 17,
   "id": "caab2e4e",
   "metadata": {},
   "outputs": [
    {
     "name": "stdout",
     "output_type": "stream",
     "text": [
      "File Handling :\n",
      "1.File means a folder containg some information\n",
      "creation :\n",
      "1.using manual file creation\n",
      "2.using write,create,open function in file handling \n",
      "file opening :\n",
      "file = open(filepath or file name)\n",
      "read file :\n",
      "you can read the file by use read function. There are different features available in read function like read line ..it execute line by line \n",
      "write :\n",
      "By use write function, you can write in the file. But the drawback in write is it overwrites the existing data\n",
      "append :\n",
      "we know append means joining append is used to add.. it is used when you want the previous data to be as same and add new data to the previous one\n",
      "we use string manipulations in file handling . The  one type of data in file handling textual it is string data type so we can apply string manipulations\n"
     ]
    }
   ],
   "source": [
    "print(c.read())"
   ]
  },
  {
   "cell_type": "code",
   "execution_count": null,
   "id": "a9249fc4",
   "metadata": {},
   "outputs": [],
   "source": []
  }
 ],
 "metadata": {
  "kernelspec": {
   "display_name": "Python 3 (ipykernel)",
   "language": "python",
   "name": "python3"
  },
  "language_info": {
   "codemirror_mode": {
    "name": "ipython",
    "version": 3
   },
   "file_extension": ".py",
   "mimetype": "text/x-python",
   "name": "python",
   "nbconvert_exporter": "python",
   "pygments_lexer": "ipython3",
   "version": "3.11.4"
  }
 },
 "nbformat": 4,
 "nbformat_minor": 5
}
