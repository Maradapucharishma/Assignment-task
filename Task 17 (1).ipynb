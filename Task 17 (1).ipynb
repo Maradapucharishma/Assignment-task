{
 "cells": [
  {
   "cell_type": "markdown",
   "id": "8dc8a778",
   "metadata": {},
   "source": [
    "\n",
    "`use context manager`\n",
    "\n",
    "**Create a file**\n",
    "Write a Python program that creates a text file named \"data.txt\" and add data about python programming (should contain at least 5 lines)\n",
    "\n",
    "**Read and Display File Contents**\n",
    "Write a Python program that reads a text file named \"data.txt\" and displays its contents on the screen.\n",
    "\n",
    "**Count Words in a File**\n",
    "Write a Python program that reads a text file named \"data.txt\" and counts the total number of words in the file. Display the word count on the screen.\n",
    "\n",
    "**Search and Replace**\n",
    "Create a Python program that reads a text file named \"data.txt\" and asks the user to enter a word to search for. If the word is found in the file, replace all occurrences of the word with a new word provided by the user.\n",
    "\n",
    "**Append to a File**\n",
    "Write a Python program that prompts the user to enter a sentence. Append this sentence to an existing file named \"notes.txt\". Make sure the newly added sentence starts on a new line.\n",
    "\n",
    "\n"
   ]
  },
  {
   "cell_type": "markdown",
   "id": "e3a9cb04",
   "metadata": {},
   "source": [
    "#### Create a file : Write a Python program that creates a text file named \"data.txt\" and add data about python programming (should contain at least 5 lines)"
   ]
  },
  {
   "cell_type": "code",
   "execution_count": 1,
   "id": "79e53267",
   "metadata": {},
   "outputs": [],
   "source": [
    "with open(\"data.txt\",\"w+\") as f1:\n",
    "    f1.write(\"Python is a high-level, general-purpose, and very popular programming language. Python programming language (latest Python 3) is being used in web development, Machine Learning applications, along with all cutting-edge technology in Software Industry.Python language is being used by almost all tech-giant companies like – Google, Amazon, Facebook, Instagram, Dropbox, Uber… etc.Python is currently the most widely used multi-purpose, high-level programming language, which allows programming in Object-Oriented and Procedural paradigms. Python programs generally are smaller than other programming languages like Java. Programmers have to type relatively less and the indentation requirement of the language, makes them readable all the time.\")"
   ]
  },
  {
   "cell_type": "markdown",
   "id": "7a4a8bd1",
   "metadata": {},
   "source": [
    "#### Read and Display File Contents : Write a Python program that reads a text file named \"data.txt\" and displays its contents on the screen.\n"
   ]
  },
  {
   "cell_type": "code",
   "execution_count": 2,
   "id": "5b329145",
   "metadata": {},
   "outputs": [
    {
     "name": "stdout",
     "output_type": "stream",
     "text": [
      "Python is a high-level, general-purpose, and very popular programming language. Python programming language (latest Python 3) is being used in web development, Machine Learning applications, along with all cutting-edge technology in Software Industry.Python language is being used by almost all tech-giant companies like – Google, Amazon, Facebook, Instagram, Dropbox, Uber… etc.Python is currently the most widely used multi-purpose, high-level programming language, which allows programming in Object-Oriented and Procedural paradigms. Python programs generally are smaller than other programming languages like Java. Programmers have to type relatively less and the indentation requirement of the language, makes them readable all the time.\n"
     ]
    }
   ],
   "source": [
    "with open(\"data.txt\",\"r\") as f2:\n",
    "    print(f2.read())"
   ]
  },
  {
   "cell_type": "markdown",
   "id": "34f63c13",
   "metadata": {},
   "source": [
    "#### Count Words in a File : Write a Python program that reads a text file named \"data.txt\" and counts the total number of words in the file. Display the word count on the screen."
   ]
  },
  {
   "cell_type": "code",
   "execution_count": 6,
   "id": "c44c7295",
   "metadata": {},
   "outputs": [
    {
     "name": "stdout",
     "output_type": "stream",
     "text": [
      "['Python', 'is', 'a', 'high-level,', 'general-purpose,', 'and', 'very', 'popular', 'programming', 'language.', 'Python', 'programming', 'language', '(latest', 'Python', '3)', 'is', 'being', 'used', 'in', 'web', 'development,', 'Machine', 'Learning', 'applications,', 'along', 'with', 'all', 'cutting-edge', 'technology', 'in', 'Software', 'Industry.Python', 'language', 'is', 'being', 'used', 'by', 'almost', 'all', 'tech-giant', 'companies', 'like', '–', 'Google,', 'Amazon,', 'Facebook,', 'Instagram,', 'Dropbox,', 'Uber…', 'etc.Python', 'is', 'currently', 'the', 'most', 'widely', 'used', 'multi-purpose,', 'high-level', 'programming', 'language,', 'which', 'allows', 'programming', 'in', 'Object-Oriented', 'and', 'Procedural', 'paradigms.', 'Python', 'programs', 'generally', 'are', 'smaller', 'than', 'other', 'programming', 'languages', 'like', 'Java.', 'Programmers', 'have', 'to', 'type', 'relatively', 'less', 'and', 'the', 'indentation', 'requirement', 'of', 'the', 'language,', 'makes', 'them', 'readable', 'all', 'the', 'time.']\n",
      "Total number of words : 99\n"
     ]
    }
   ],
   "source": [
    "with open(\"data.txt\",\"r\") as f3:\n",
    "    f4 = f3.read()\n",
    "    f5 = f4.split()\n",
    "    print(f5)\n",
    "    print(\"Total number of words :\",len(f5))"
   ]
  },
  {
   "cell_type": "markdown",
   "id": "58788ace",
   "metadata": {},
   "source": [
    "#### Search and Replace : Create a Python program that reads a text file named \"data.txt\" and asks the user to enter a word to search for. If the word is found in the file, replace all occurrences of the word with a new word provided by the user."
   ]
  },
  {
   "cell_type": "code",
   "execution_count": 8,
   "id": "18b8f0ea",
   "metadata": {},
   "outputs": [
    {
     "name": "stdout",
     "output_type": "stream",
     "text": [
      "Enter the word to search : technology\n",
      "Enter the word to replaceinformation\n",
      "Python is a high-level, general-purpose, and very popular programming language. Python programming language (latest Python 3) is being used in web development, Machine Learning applications, along with all cutting-edge information in Software Industry.Python language is being used by almost all tech-giant companies like – Google, Amazon, Facebook, Instagram, Dropbox, Uber… etc.Python is currently the most widely used multi-purpose, high-level programming language, which allows programming in Object-Oriented and Procedural paradigms. Python programs generally are smaller than other programming languages like Java. Programmers have to type relatively less and the indentation requirement of the language, makes them readable all the time.\n"
     ]
    }
   ],
   "source": [
    "with open(\"data.txt\",\"r\") as f6:\n",
    "    f7 = f6.read()\n",
    "    text = input(\"Enter the word to search : \")\n",
    "    newtext = input(\"Enter the word to replace\")\n",
    "    if text in f7:\n",
    "        print(f7.replace(text,newtext))"
   ]
  },
  {
   "cell_type": "markdown",
   "id": "6615d313",
   "metadata": {},
   "source": [
    "#### Append to a File : Write a Python program that prompts the user to enter a sentence. Append this sentence to an existing file named \"notes.txt\". Make sure the newly added sentence starts on a new line."
   ]
  },
  {
   "cell_type": "code",
   "execution_count": 8,
   "id": "2ca4abf4",
   "metadata": {},
   "outputs": [
    {
     "name": "stdout",
     "output_type": "stream",
     "text": [
      "Enter the sentence : Append function is similar to write function with slight changes\n"
     ]
    }
   ],
   "source": [
    "with open(\"notes.txt\",\"a+\") as new:\n",
    "    new.write(\"This is related to file handling\")\n",
    "    sentence = input(\"Enter the sentence : \")\n",
    "    new.write(f\"\\n{sentence}\")"
   ]
  },
  {
   "cell_type": "code",
   "execution_count": 9,
   "id": "92b32080",
   "metadata": {},
   "outputs": [
    {
     "name": "stdout",
     "output_type": "stream",
     "text": [
      "This is related to file handling\n",
      "Append function is similar to write function with slight changes\n"
     ]
    }
   ],
   "source": [
    "with open(\"notes.txt\",\"r\") as final:\n",
    "    print(final.read())"
   ]
  },
  {
   "cell_type": "code",
   "execution_count": null,
   "id": "b7672385",
   "metadata": {},
   "outputs": [],
   "source": []
  }
 ],
 "metadata": {
  "kernelspec": {
   "display_name": "Python 3 (ipykernel)",
   "language": "python",
   "name": "python3"
  },
  "language_info": {
   "codemirror_mode": {
    "name": "ipython",
    "version": 3
   },
   "file_extension": ".py",
   "mimetype": "text/x-python",
   "name": "python",
   "nbconvert_exporter": "python",
   "pygments_lexer": "ipython3",
   "version": "3.11.4"
  }
 },
 "nbformat": 4,
 "nbformat_minor": 5
}
