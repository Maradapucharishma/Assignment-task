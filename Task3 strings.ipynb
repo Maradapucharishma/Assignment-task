{
 "cells": [
  {
   "cell_type": "markdown",
   "id": "110812e8",
   "metadata": {},
   "source": [
    "Assignment Tasks on String Escape Characters, Indexing, and Slicing:\n",
    "\n",
    "**String Escape Characters:**\n",
    "\n",
    "Task 1:\n",
    "1. Create a string containing a sentence that includes both single and double quotes.\n",
    "2. Use escape characters to include quotes within the string.\n",
    "3. Print the modified string.\n",
    "\n",
    "Task 2:\n",
    "1. Declare a string with a backslash \\ character in it.\n",
    "2. Demonstrate the use of the escape character to print the backslash itself.\n",
    "3. Print the resulting string.\n",
    "\n",
    "Task 3:\n",
    "1. Construct a string containing newline and tab escape sequences.\n",
    "2. Print the string to display the formatted output.\n",
    "\n",
    "**Indexing and Slicing:**\n",
    "\n",
    "Task 4:\n",
    "1.  sentence = \"I want to become Data Scientist\".\n",
    "2. Access and print the `first character` of the string using indexing.\n",
    "3. Access and print the `last character` of the string using negative indexing.\n",
    "\n",
    "Task 5:\n",
    "1. What are `possible ways` yo extract `Scientist`(use forward and reverse)\n",
    "2. Use slicing to extract and print the `first word` from the string.\n",
    "3. Use slicing to extract and print the `last three` characters of the string.\n",
    "\n",
    "Task 6:\n",
    "1. name = \"Innomatics Reserach Labs\"\n",
    "2. Apply slicing to extract a substring that includes the `second to fifth` characters.\n",
    "3. `Print` the extracted substring.\n",
    "\n",
    "Task 7:\n",
    "1. string = \"Python@1234\"\n",
    "2. Use slicing to extract every second character from the string.\n",
    "3. Print the resulting sliced string.\n",
    "\n",
    "Task 8:\n",
    "1.  print last five letters.\n",
    "2. Utilize slicing to reverse the word order in the string.\n",
    "3. Print the string with the words in the reversed order.\n",
    "\n",
    "Task 9:\n",
    "1. a = \"123123123\"\n",
    "2. Apply slicing to extract only the numeric characters at odd positions.\n",
    "3. Print the sliced result.\n",
    "\n",
    "Remember to include explanations or comments for each task's code to ensure clarity. Additionally, encourage students to experiment further with different escape characters and slicing techniques beyond the provided tasks to deepen their understanding."
   ]
  },
  {
   "cell_type": "markdown",
   "id": "0e47a175",
   "metadata": {},
   "source": [
    "# String Escape characters"
   ]
  },
  {
   "cell_type": "markdown",
   "id": "a9a1f392",
   "metadata": {},
   "source": [
    "##### Task 1\n",
    "##### Create a string containing a sentence that includes both single and double quotes."
   ]
  },
  {
   "cell_type": "code",
   "execution_count": null,
   "id": "6a7c405b",
   "metadata": {},
   "outputs": [],
   "source": [
    "a = \"python is developed by 'Guido' van Rossum\""
   ]
  },
  {
   "cell_type": "markdown",
   "id": "c27c3e79",
   "metadata": {},
   "source": [
    "#### Use escape characters to include quotes within the string."
   ]
  },
  {
   "cell_type": "code",
   "execution_count": 1,
   "id": "40edd46e",
   "metadata": {},
   "outputs": [],
   "source": [
    "a = r\"python is developed by 'Guido' van Rossum\" #raw string"
   ]
  },
  {
   "cell_type": "markdown",
   "id": "37cec11e",
   "metadata": {},
   "source": [
    "#### Print the modified string.\n"
   ]
  },
  {
   "cell_type": "code",
   "execution_count": 3,
   "id": "8a6bc833",
   "metadata": {},
   "outputs": [
    {
     "name": "stdout",
     "output_type": "stream",
     "text": [
      "python is developed by 'Guido' van Rossum\n"
     ]
    }
   ],
   "source": [
    "a = r\"python is developed by 'Guido' van Rossum\"\n",
    "print(a)"
   ]
  },
  {
   "cell_type": "markdown",
   "id": "b8016fff",
   "metadata": {},
   "source": [
    "##### Task 2\n",
    "##### Declare a string with a backslash \\ character in it."
   ]
  },
  {
   "cell_type": "code",
   "execution_count": null,
   "id": "14229fb3",
   "metadata": {},
   "outputs": [],
   "source": [
    "b = \"strings contains \\'Escape' characters\""
   ]
  },
  {
   "cell_type": "markdown",
   "id": "d38e0c28",
   "metadata": {},
   "source": [
    "##### Demonstrate the use of the escape character to print the backslash itself."
   ]
  },
  {
   "cell_type": "code",
   "execution_count": null,
   "id": "c2d525bf",
   "metadata": {},
   "outputs": [],
   "source": [
    "* Backslash is one of the escape characters in strings\n",
    "* It is building block for remaining escape characters. Because every escape character starts with \\\n",
    "* For example : \\,\\n,\\t,\\\\,\\b\n",
    "* \\n-new line\n",
    "* \\b-backspace\n",
    "* \\t-tab\n",
    "* \\\\-to get \\\n",
    "* \\ - used for string manipulation"
   ]
  },
  {
   "cell_type": "markdown",
   "id": "264d3a00",
   "metadata": {},
   "source": [
    "##### Print the resulting string."
   ]
  },
  {
   "cell_type": "code",
   "execution_count": 5,
   "id": "f407fa8c",
   "metadata": {},
   "outputs": [
    {
     "name": "stdout",
     "output_type": "stream",
     "text": [
      "strings contains 'Escape' characters\n"
     ]
    }
   ],
   "source": [
    "b = \"strings contains \\'Escape' characters\"\n",
    "print(b)"
   ]
  },
  {
   "cell_type": "markdown",
   "id": "46366537",
   "metadata": {},
   "source": [
    "###### Task3\n",
    "##### Construct a string containing newline and tab escape sequences."
   ]
  },
  {
   "cell_type": "code",
   "execution_count": null,
   "id": "596f0d10",
   "metadata": {},
   "outputs": [],
   "source": [
    "c = \"I am Nandini \\nI am from Rajahmundry \\nI am \\tlearning python\""
   ]
  },
  {
   "cell_type": "markdown",
   "id": "3f41056b",
   "metadata": {},
   "source": [
    "###### Print the string to display the formatted output."
   ]
  },
  {
   "cell_type": "code",
   "execution_count": 6,
   "id": "072d0b5c",
   "metadata": {},
   "outputs": [
    {
     "name": "stdout",
     "output_type": "stream",
     "text": [
      "I am Nandini \n",
      "I am from Rajahmundry \n",
      "I am \tlearning python\n"
     ]
    }
   ],
   "source": [
    "c = \"I am Nandini \\nI am from Rajahmundry \\nI am \\tlearning python\"\n",
    "print(c)"
   ]
  },
  {
   "cell_type": "markdown",
   "id": "cbf59312",
   "metadata": {},
   "source": [
    "### Indexing and Slicing\n",
    "##### Task4"
   ]
  },
  {
   "cell_type": "markdown",
   "id": "3f09de3f",
   "metadata": {},
   "source": [
    "##### sentence = \"I want to become Data Scientist\"."
   ]
  },
  {
   "cell_type": "code",
   "execution_count": 26,
   "id": "0966d1c1",
   "metadata": {},
   "outputs": [],
   "source": [
    "sentence = \"I want to become Data Scientist\""
   ]
  },
  {
   "cell_type": "markdown",
   "id": "c2c2b00b",
   "metadata": {},
   "source": [
    "##### Access and print the `first character` of the string using indexing."
   ]
  },
  {
   "cell_type": "code",
   "execution_count": 27,
   "id": "2593f0d7",
   "metadata": {},
   "outputs": [
    {
     "name": "stdout",
     "output_type": "stream",
     "text": [
      "I\n"
     ]
    }
   ],
   "source": [
    "print(sentence[0])"
   ]
  },
  {
   "cell_type": "markdown",
   "id": "8c8549af",
   "metadata": {},
   "source": [
    "#####  Access and print the `last character` of the string using negative indexing."
   ]
  },
  {
   "cell_type": "code",
   "execution_count": 28,
   "id": "90ee5282",
   "metadata": {},
   "outputs": [
    {
     "name": "stdout",
     "output_type": "stream",
     "text": [
      "t\n"
     ]
    }
   ],
   "source": [
    "print(sentence[-1])"
   ]
  },
  {
   "cell_type": "markdown",
   "id": "8f7cbd09",
   "metadata": {},
   "source": [
    "##### Task5"
   ]
  },
  {
   "cell_type": "markdown",
   "id": "71ff6927",
   "metadata": {},
   "source": [
    "#####  What are `possible ways` yo extract `Scientist`(use forward and reverse)"
   ]
  },
  {
   "cell_type": "code",
   "execution_count": 29,
   "id": "bebf805a",
   "metadata": {},
   "outputs": [
    {
     "data": {
      "text/plain": [
       "'Scientist'"
      ]
     },
     "execution_count": 29,
     "metadata": {},
     "output_type": "execute_result"
    }
   ],
   "source": [
    "sentence[22:31:1] #Forward indexing"
   ]
  },
  {
   "cell_type": "code",
   "execution_count": 31,
   "id": "379e420e",
   "metadata": {},
   "outputs": [
    {
     "data": {
      "text/plain": [
       "'Scientist'"
      ]
     },
     "execution_count": 31,
     "metadata": {},
     "output_type": "execute_result"
    }
   ],
   "source": [
    "sentence[22: :1]"
   ]
  },
  {
   "cell_type": "code",
   "execution_count": 32,
   "id": "823810ab",
   "metadata": {},
   "outputs": [
    {
     "data": {
      "text/plain": [
       "'Scientist'"
      ]
     },
     "execution_count": 32,
     "metadata": {},
     "output_type": "execute_result"
    }
   ],
   "source": [
    "sentence[22: : ]"
   ]
  },
  {
   "cell_type": "code",
   "execution_count": 23,
   "id": "80250411",
   "metadata": {},
   "outputs": [
    {
     "data": {
      "text/plain": [
       "'Scientist'"
      ]
     },
     "execution_count": 23,
     "metadata": {},
     "output_type": "execute_result"
    }
   ],
   "source": [
    "sentence[-9: :1] #reverse indexing"
   ]
  },
  {
   "cell_type": "code",
   "execution_count": 33,
   "id": "f7b823eb",
   "metadata": {},
   "outputs": [
    {
     "data": {
      "text/plain": [
       "'Scientist'"
      ]
     },
     "execution_count": 33,
     "metadata": {},
     "output_type": "execute_result"
    }
   ],
   "source": [
    "sentence[-9:: ]"
   ]
  },
  {
   "cell_type": "markdown",
   "id": "176d9b40",
   "metadata": {},
   "source": [
    "##### Use slicing to extract and print the `first word` from the string."
   ]
  },
  {
   "cell_type": "code",
   "execution_count": 34,
   "id": "fb6c7165",
   "metadata": {},
   "outputs": [
    {
     "data": {
      "text/plain": [
       "'I'"
      ]
     },
     "execution_count": 34,
     "metadata": {},
     "output_type": "execute_result"
    }
   ],
   "source": [
    "sentence[0:1:1]"
   ]
  },
  {
   "cell_type": "code",
   "execution_count": 35,
   "id": "d058c59d",
   "metadata": {},
   "outputs": [
    {
     "data": {
      "text/plain": [
       "'I'"
      ]
     },
     "execution_count": 35,
     "metadata": {},
     "output_type": "execute_result"
    }
   ],
   "source": [
    "sentence[0:1: ]"
   ]
  },
  {
   "cell_type": "markdown",
   "id": "91d984bc",
   "metadata": {},
   "source": [
    "##### Use slicing to extract and print the `last three` characters of the string."
   ]
  },
  {
   "cell_type": "code",
   "execution_count": 37,
   "id": "3c14c6e3",
   "metadata": {},
   "outputs": [
    {
     "data": {
      "text/plain": [
       "'ist'"
      ]
     },
     "execution_count": 37,
     "metadata": {},
     "output_type": "execute_result"
    }
   ],
   "source": [
    "sentence[-3::1]"
   ]
  },
  {
   "cell_type": "code",
   "execution_count": 39,
   "id": "56d0bf75",
   "metadata": {},
   "outputs": [
    {
     "data": {
      "text/plain": [
       "'ist'"
      ]
     },
     "execution_count": 39,
     "metadata": {},
     "output_type": "execute_result"
    }
   ],
   "source": [
    "sentence[-3::]"
   ]
  },
  {
   "cell_type": "markdown",
   "id": "29224162",
   "metadata": {},
   "source": [
    "##### Task6"
   ]
  },
  {
   "cell_type": "code",
   "execution_count": 40,
   "id": "2edaeca8",
   "metadata": {},
   "outputs": [],
   "source": [
    "name = \"Innomatics Reserach Labs\""
   ]
  },
  {
   "cell_type": "markdown",
   "id": "0baf930a",
   "metadata": {},
   "source": [
    "##### Apply slicing to extract a substring that includes the `second to fifth` characters.\n",
    "#### `Print` the extracted substring."
   ]
  },
  {
   "cell_type": "code",
   "execution_count": 43,
   "id": "f4313dc2",
   "metadata": {},
   "outputs": [
    {
     "data": {
      "text/plain": [
       "'nnom'"
      ]
     },
     "execution_count": 43,
     "metadata": {},
     "output_type": "execute_result"
    }
   ],
   "source": [
    "name[1:5:1]"
   ]
  },
  {
   "cell_type": "markdown",
   "id": "10cada28",
   "metadata": {},
   "source": [
    "##### Task7"
   ]
  },
  {
   "cell_type": "code",
   "execution_count": 44,
   "id": "59e3c824",
   "metadata": {},
   "outputs": [],
   "source": [
    "string = \"Python@1234\""
   ]
  },
  {
   "cell_type": "markdown",
   "id": "b34725fc",
   "metadata": {},
   "source": [
    "##### Use slicing to extract every second character from the string.\n",
    "#### Print the resulting sliced string."
   ]
  },
  {
   "cell_type": "code",
   "execution_count": 46,
   "id": "6b5a494b",
   "metadata": {},
   "outputs": [
    {
     "data": {
      "text/plain": [
       "'yhn13'"
      ]
     },
     "execution_count": 46,
     "metadata": {},
     "output_type": "execute_result"
    }
   ],
   "source": [
    "string[1:10:2]"
   ]
  },
  {
   "cell_type": "markdown",
   "id": "b309a9ea",
   "metadata": {},
   "source": [
    "##### Task8"
   ]
  },
  {
   "cell_type": "markdown",
   "id": "4e9fed96",
   "metadata": {},
   "source": [
    "##### print last five letters."
   ]
  },
  {
   "cell_type": "code",
   "execution_count": 47,
   "id": "e7abf472",
   "metadata": {},
   "outputs": [
    {
     "data": {
      "text/plain": [
       "'@1234'"
      ]
     },
     "execution_count": 47,
     "metadata": {},
     "output_type": "execute_result"
    }
   ],
   "source": [
    "string[6: :1]"
   ]
  },
  {
   "cell_type": "markdown",
   "id": "b436ab70",
   "metadata": {},
   "source": [
    "##### Utilize slicing to reverse the word order in the string.\n",
    "#### Print the string with the words in the reversed order."
   ]
  },
  {
   "cell_type": "code",
   "execution_count": 48,
   "id": "01f7afeb",
   "metadata": {},
   "outputs": [
    {
     "data": {
      "text/plain": [
       "'4321@nohtyP'"
      ]
     },
     "execution_count": 48,
     "metadata": {},
     "output_type": "execute_result"
    }
   ],
   "source": [
    "string[-1: :-1]"
   ]
  },
  {
   "cell_type": "markdown",
   "id": "6d5b9952",
   "metadata": {},
   "source": [
    "##### Task9"
   ]
  },
  {
   "cell_type": "code",
   "execution_count": 49,
   "id": "490d6c7c",
   "metadata": {},
   "outputs": [],
   "source": [
    "a = \"123123123\""
   ]
  },
  {
   "cell_type": "markdown",
   "id": "9a9f237e",
   "metadata": {},
   "source": [
    "##### Apply slicing to extract only the numeric characters at odd positions.\n",
    "#### Print the sliced result."
   ]
  },
  {
   "cell_type": "code",
   "execution_count": 51,
   "id": "774fc2ed",
   "metadata": {},
   "outputs": [
    {
     "data": {
      "text/plain": [
       "'13213'"
      ]
     },
     "execution_count": 51,
     "metadata": {},
     "output_type": "execute_result"
    }
   ],
   "source": [
    "a[0:9:2]"
   ]
  }
 ],
 "metadata": {
  "kernelspec": {
   "display_name": "Python 3 (ipykernel)",
   "language": "python",
   "name": "python3"
  },
  "language_info": {
   "codemirror_mode": {
    "name": "ipython",
    "version": 3
   },
   "file_extension": ".py",
   "mimetype": "text/x-python",
   "name": "python",
   "nbconvert_exporter": "python",
   "pygments_lexer": "ipython3",
   "version": "3.11.4"
  }
 },
 "nbformat": 4,
 "nbformat_minor": 5
}
