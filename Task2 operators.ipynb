{
 "cells": [
  {
   "cell_type": "markdown",
   "id": "b8536ea7",
   "metadata": {},
   "source": [
    "* Write a program that calculates the `sum, difference, product, and quotient` of two numbers: 10 and 5.\n",
    "\n",
    "* Create a program that calculates the `area of a circle` with a radius of 4.5 units."
   ]
  },
  {
   "cell_type": "markdown",
   "id": "3f81b9d8",
   "metadata": {},
   "source": [
    "*  Write a program that `swaps` the values of two variables: x with a value of 5 and \"y\" with a value of 10.\n",
    "* Create a program that calculates `compound interest` for a principal amount of $1000, an interest rate of 5%, and a time period of 3 years."
   ]
  },
  {
   "cell_type": "markdown",
   "id": "768483d0",
   "metadata": {},
   "source": [
    "* Write a program that `compares` two numbers: 7 and 12, and determines whether the first number is greater than, less than, or equal to the second number.\n",
    "* Create a program that `checks` if a person of age 18 is eligible to vote based on the voting age requirement.(True/False)"
   ]
  },
  {
   "cell_type": "markdown",
   "id": "7881a204",
   "metadata": {},
   "source": [
    "* Create a program that `swaps` the values of two integers: `a` with a value of 10 and `b` with a value of 20 using\n",
    " * bitwise XOR (^) operator.\n",
    " * Logical AND\n",
    " * Logical OR\n",
    " * Logical NOT"
   ]
  },
  {
   "cell_type": "markdown",
   "id": "1844e65c",
   "metadata": {},
   "source": [
    "*  Create a Python program that calculates the `area of a rectangle`. Prompt the `user to enter` the length and width of the rectangle, `store them` in variables, and compute the area using the formula:area length width.Finally, `print the calculated area.\n",
    "\n",
    "* Create a Python program that calculates the `average` of three exam scores. Prompt the user to enter the scores, `store them` in variables, calculate the average, and print the result.\n",
    "\n",
    "* Write a Python program that `converts` temperature from Celsius to Fahrenheit. Prompt the user to enter a temperature in Celsius, store it in a variable, and convert it to Fahrenheit using the formula: `Fahrenheit = (Celsius* 9/5)+32`, and print the converted temperature.\n",
    "\n",
    "* What are the `logical operators` in Python? Explain `each one` with an example.\n",
    "\n",
    "* What are the `membership` operators in Python? Explain their usage with examples\n",
    "\n",
    "* List and briefly explain the `basic data types` available in Python.\n",
    "\n",
    "* Write a Python code snippet that `assigns a value to a variable `and determines its `data type` using the type() function."
   ]
  },
  {
   "cell_type": "markdown",
   "id": "95ed62b5",
   "metadata": {},
   "source": [
    "Assignment: Basic Python Operators\n",
    "\n",
    "**Task 1: Arithmetic Operators**\n",
    "1. Write a Python program that takes two user-input numbers and displays their sum using the addition operator.\n",
    "2. Create a program to calculate the area of a rectangle. Prompt the user for the length and width, then use multiplication to find the area.\n",
    "3. Implement a program that converts temperature from Celsius to Fahrenheit using the formula: Fahrenheit = (Celsius * 9/5) + 32.\n",
    "\n",
    "**Task 2: Comparison Operators**\n",
    "1. Write a program that compares two user-input numbers and prints whether the first number is greater than the second number or not.\n",
    "2. Create a program that determines whether a user-input year is a leap year or not. A leap year is divisible by 4 and not divisible by 100, unless it is also divisible by 400.\n",
    "3. Implement a simple guessing game. Generate a random number between 1 and 100 and have the user guess the number. Provide feedback if their guess is too high or too low, and let them know when they've guessed correctly.\n",
    "\n",
    "**Task 3: Logical Operators**\n",
    "1. Write a program that checks whether a user-input number is positive and even using logical AND (`and`) operator.\n",
    "2. Create a login system where you define a correct username and password. Ask the user for their input and compare it with the correct credentials using logical OR (`or`) operator. Provide access if either the username or password is correct.\n",
    "3. Implement a program that determines whether a given year is a leap year and divisible by 7 using logical NOT (`not`) operator.\n",
    "\n",
    "**Task 4: Assignment Operators**\n",
    "1. Write a program to calculate the square of a number using the exponentiation operator (`**`) and assign it back to the same variable.\n",
    "2. Create a program that keeps track of the total score in a game. Prompt the user for their latest score and update the total score using the addition assignment operator (`+=`).\n",
    "3. Implement a program to convert seconds into hours, minutes, and remaining seconds using both division and modulo operators, and then assign each value using assignment operators.\n",
    "\n",
    "**Task 5: Bitwise Operators**\n",
    "1. Write a program that performs a bitwise AND operation between two user-input numbers and displays the result.\n",
    "2. Create a program to toggle the nth bit of a given number. Ask the user for the number and the value of n, then use bitwise XOR (^) operator to toggle the bit.\n",
    "3. Implement a program to swap the values of two variables without using a temporary variable, only using bitwise XOR (^) operator.\n",
    "\n"
   ]
  },
  {
   "cell_type": "markdown",
   "id": "ebd17621",
   "metadata": {},
   "source": [
    "#### Write a program that calculates the `sum, difference, product, and quotient` of two numbers: 10 and 5."
   ]
  },
  {
   "cell_type": "code",
   "execution_count": 9,
   "id": "05ce8f65",
   "metadata": {},
   "outputs": [
    {
     "name": "stdout",
     "output_type": "stream",
     "text": [
      "sum is 15\n",
      "difference is 5\n",
      "product is 50\n",
      "quotient is 2\n"
     ]
    }
   ],
   "source": [
    "a = 10\n",
    "b = 5\n",
    "sum = print(\"sum is\",(a+b))\n",
    "difference = print(\"difference is\", (a-b))\n",
    "product = print(\"product is\" ,(a*b))\n",
    "quotient = print(\"quotient is\" ,(a//b))"
   ]
  },
  {
   "cell_type": "markdown",
   "id": "a213b38c",
   "metadata": {},
   "source": [
    "#### Create a program that calculates the `area of a circle` with a radius of 4.5 units."
   ]
  },
  {
   "cell_type": "code",
   "execution_count": 6,
   "id": "c1cadc4e",
   "metadata": {},
   "outputs": [],
   "source": [
    "import math\n",
    "r = 4.5\n",
    "area = math.pi*r*r"
   ]
  },
  {
   "cell_type": "code",
   "execution_count": 7,
   "id": "0ef2914d",
   "metadata": {},
   "outputs": [
    {
     "name": "stdout",
     "output_type": "stream",
     "text": [
      "63.61725123519331\n"
     ]
    }
   ],
   "source": [
    "print(area)"
   ]
  },
  {
   "cell_type": "markdown",
   "id": "9ac948a4",
   "metadata": {},
   "source": [
    "#### Write a program that `swaps` the values of two variables: x with a value of 5 and \"y\" with a value of 10."
   ]
  },
  {
   "cell_type": "code",
   "execution_count": 18,
   "id": "c6b863a4",
   "metadata": {},
   "outputs": [],
   "source": [
    "x = 5\n",
    "y = 10"
   ]
  },
  {
   "cell_type": "code",
   "execution_count": 19,
   "id": "676bb1bc",
   "metadata": {},
   "outputs": [
    {
     "name": "stdout",
     "output_type": "stream",
     "text": [
      "Before swapping:\n",
      "x: 5\n",
      "y: 10\n",
      "After swapping:\n",
      "x: 10\n",
      "y: 5\n"
     ]
    }
   ],
   "source": [
    "print(\"Before swapping:\")\n",
    "print(\"x:\",x)\n",
    "print(\"y:\",y)\n",
    "temp = x\n",
    "x = y\n",
    "y = temp\n",
    "print(\"After swapping:\")\n",
    "print(\"x:\",x)\n",
    "print(\"y:\",y)"
   ]
  },
  {
   "cell_type": "markdown",
   "id": "4067607b",
   "metadata": {},
   "source": [
    "#### Write a Python program that takes two user-input numbers and displays their sum using the addition operator."
   ]
  },
  {
   "cell_type": "code",
   "execution_count": 21,
   "id": "7efa0073",
   "metadata": {},
   "outputs": [
    {
     "name": "stdout",
     "output_type": "stream",
     "text": [
      "Enter first value: 26\n",
      "Enter second value:34\n",
      "The sum of two numbers is 60\n"
     ]
    }
   ],
   "source": [
    "a = int(input(\"Enter first value: \"))\n",
    "b = int(input(\"Enter second value:\"))\n",
    "sum = a+b\n",
    "print(\"The sum of two numbers is\",sum)"
   ]
  },
  {
   "cell_type": "markdown",
   "id": "5957b455",
   "metadata": {},
   "source": [
    "#### Create a program to calculate the area of a rectangle. Prompt the user for the length and width, then use multiplication to find the area."
   ]
  },
  {
   "cell_type": "code",
   "execution_count": 23,
   "id": "eddc8ae2",
   "metadata": {},
   "outputs": [
    {
     "name": "stdout",
     "output_type": "stream",
     "text": [
      "Enter the length: 5\n",
      "Enter the width: 4\n",
      "The area of rectangle is 20\n"
     ]
    }
   ],
   "source": [
    "l = int(input(\"Enter the length: \"))\n",
    "b = int(input(\"Enter the width: \"))\n",
    "area = l*b\n",
    "print(\"The area of rectangle is\",area)"
   ]
  },
  {
   "cell_type": "markdown",
   "id": "a60c389e",
   "metadata": {},
   "source": [
    "#### Implement a program that converts temperature from Celsius to Fahrenheit using the formula: Fahrenheit = (Celsius * 9/5) + 32."
   ]
  },
  {
   "cell_type": "code",
   "execution_count": 26,
   "id": "f11b8c63",
   "metadata": {},
   "outputs": [
    {
     "name": "stdout",
     "output_type": "stream",
     "text": [
      "199.4\n"
     ]
    }
   ],
   "source": [
    "celsius = 93\n",
    "fahrenheit = (celsius * 9/5)+32\n",
    "print(fahrenheit)"
   ]
  },
  {
   "cell_type": "markdown",
   "id": "3c6842e3",
   "metadata": {},
   "source": [
    "#### Write a program that `compares` two numbers: 7 and 12, and determines whether the first number is greater than, less than, or equal to the second number."
   ]
  },
  {
   "cell_type": "code",
   "execution_count": 27,
   "id": "47e96564",
   "metadata": {},
   "outputs": [],
   "source": [
    "a = 7\n",
    "b = 12\n"
   ]
  },
  {
   "cell_type": "code",
   "execution_count": 28,
   "id": "4ec6d990",
   "metadata": {},
   "outputs": [
    {
     "data": {
      "text/plain": [
       "False"
      ]
     },
     "execution_count": 28,
     "metadata": {},
     "output_type": "execute_result"
    }
   ],
   "source": [
    "a>b"
   ]
  },
  {
   "cell_type": "code",
   "execution_count": 29,
   "id": "5806ba79",
   "metadata": {},
   "outputs": [
    {
     "data": {
      "text/plain": [
       "True"
      ]
     },
     "execution_count": 29,
     "metadata": {},
     "output_type": "execute_result"
    }
   ],
   "source": [
    "a<b"
   ]
  },
  {
   "cell_type": "code",
   "execution_count": 30,
   "id": "b54e6cee",
   "metadata": {},
   "outputs": [
    {
     "data": {
      "text/plain": [
       "False"
      ]
     },
     "execution_count": 30,
     "metadata": {},
     "output_type": "execute_result"
    }
   ],
   "source": [
    "a == b"
   ]
  },
  {
   "cell_type": "markdown",
   "id": "8b8ce44e",
   "metadata": {},
   "source": [
    "#### Create a program that `checks` if a person of age 18 is eligible to vote based on the voting age requirement.(True/False)"
   ]
  },
  {
   "cell_type": "code",
   "execution_count": 37,
   "id": "26c462dd",
   "metadata": {},
   "outputs": [
    {
     "name": "stdout",
     "output_type": "stream",
     "text": [
      "Enter the age:18\n",
      "True\n"
     ]
    }
   ],
   "source": [
    "age = int(input(\"Enter the age:\"))\n",
    "if age<18:\n",
    "    print(\"False\")\n",
    "else:\n",
    "    print(\"True\")"
   ]
  },
  {
   "cell_type": "markdown",
   "id": "e9b8985a",
   "metadata": {},
   "source": [
    "##### Create a program that `swaps` the values of two integers: `a` with a value of 10 and `b` with a value of 20 using\n",
    " * bitwise XOR (^) operator.\n",
    " * Logical AND\n",
    " * Logical OR\n",
    " * Logical NOT"
   ]
  },
  {
   "cell_type": "code",
   "execution_count": 38,
   "id": "0b61e275",
   "metadata": {},
   "outputs": [
    {
     "name": "stdout",
     "output_type": "stream",
     "text": [
      "20\n",
      "10\n"
     ]
    }
   ],
   "source": [
    "a = 10\n",
    "b = 20\n",
    "a,b=b,a\n",
    "print(a)\n",
    "print(b)"
   ]
  },
  {
   "cell_type": "code",
   "execution_count": 39,
   "id": "4e3675c0",
   "metadata": {},
   "outputs": [
    {
     "data": {
      "text/plain": [
       "30"
      ]
     },
     "execution_count": 39,
     "metadata": {},
     "output_type": "execute_result"
    }
   ],
   "source": [
    "10^20"
   ]
  },
  {
   "cell_type": "code",
   "execution_count": 42,
   "id": "1089f90a",
   "metadata": {},
   "outputs": [
    {
     "data": {
      "text/plain": [
       "20"
      ]
     },
     "execution_count": 42,
     "metadata": {},
     "output_type": "execute_result"
    }
   ],
   "source": [
    "10 and 20"
   ]
  },
  {
   "cell_type": "code",
   "execution_count": 43,
   "id": "ed7fbeb3",
   "metadata": {},
   "outputs": [
    {
     "data": {
      "text/plain": [
       "10"
      ]
     },
     "execution_count": 43,
     "metadata": {},
     "output_type": "execute_result"
    }
   ],
   "source": [
    "10 or 20"
   ]
  },
  {
   "cell_type": "code",
   "execution_count": 48,
   "id": "55cf2111",
   "metadata": {},
   "outputs": [
    {
     "data": {
      "text/plain": [
       "False"
      ]
     },
     "execution_count": 48,
     "metadata": {},
     "output_type": "execute_result"
    }
   ],
   "source": [
    "not(a<b)"
   ]
  },
  {
   "cell_type": "markdown",
   "id": "26201deb",
   "metadata": {},
   "source": [
    " ##### Create a Python program that calculates the `area of a rectangle`. Prompt the `user to enter` the length and width of the rectangle, `store them` in variables, and compute the area using the formula:area length width.Finally, `print the calculated area."
   ]
  },
  {
   "cell_type": "code",
   "execution_count": 44,
   "id": "9d395725",
   "metadata": {},
   "outputs": [
    {
     "name": "stdout",
     "output_type": "stream",
     "text": [
      "Enter the length: 7\n",
      "Enter the width: 6\n",
      "Area of rectangle is 42\n"
     ]
    }
   ],
   "source": [
    "l = int(input(\"Enter the length: \"))\n",
    "w = int(input(\"Enter the width: \"))\n",
    "area = l*w\n",
    "result = print(\"Area of rectangle is\",area)"
   ]
  },
  {
   "cell_type": "markdown",
   "id": "31c8389e",
   "metadata": {},
   "source": [
    "#### Create a Python program that calculates the `average` of three exam scores. Prompt the user to enter the scores, `store them` in variables, calculate the average, and print the result."
   ]
  },
  {
   "cell_type": "code",
   "execution_count": 46,
   "id": "92b55076",
   "metadata": {},
   "outputs": [
    {
     "name": "stdout",
     "output_type": "stream",
     "text": [
      "Enter the score: 35\n",
      "Enter the score: 45\n",
      "Enter the score: 48\n",
      "42.666666666666664\n"
     ]
    }
   ],
   "source": [
    "a = int(input(\"Enter the score: \"))\n",
    "b = int(input(\"Enter the score: \"))\n",
    "c = int(input(\"Enter the score: \"))\n",
    "result = (a+b+c)/3\n",
    "print(result)\n"
   ]
  },
  {
   "cell_type": "markdown",
   "id": "1dbeb525",
   "metadata": {},
   "source": [
    "#### Write a Python program that `converts` temperature from Celsius to Fahrenheit. Prompt the user to enter a temperature in Celsius, store it in a variable, and convert it to Fahrenheit using the formula: `Fahrenheit = (Celsius* 9/5)+32`, and print the converted temperature."
   ]
  },
  {
   "cell_type": "code",
   "execution_count": 47,
   "id": "e65a6cfe",
   "metadata": {},
   "outputs": [
    {
     "name": "stdout",
     "output_type": "stream",
     "text": [
      "Enter the value: 45\n",
      "199.4\n"
     ]
    }
   ],
   "source": [
    "temp = int(input(\"Enter the value: \"))\n",
    "fahrenheit = (celsius* 9/5)+32\n",
    "print(fahrenheit)"
   ]
  },
  {
   "cell_type": "markdown",
   "id": "42a42980",
   "metadata": {},
   "source": [
    "#### What are the `logical operators` in Python? Explain `each one` with an example."
   ]
  },
  {
   "cell_type": "code",
   "execution_count": null,
   "id": "103d51c6",
   "metadata": {},
   "outputs": [],
   "source": [
    "Logical operators are \n",
    "* and\n",
    "* or\n",
    "* not\n",
    "\n",
    "The logical operators in condition phase always give true or false as result\n",
    "In value phase only it returns values\n",
    "\n",
    "In and we have condition, value"
   ]
  },
  {
   "cell_type": "markdown",
   "id": "78a4cdcf",
   "metadata": {},
   "source": [
    "##### condition"
   ]
  },
  {
   "cell_type": "code",
   "execution_count": 49,
   "id": "9fcc6bc4",
   "metadata": {},
   "outputs": [],
   "source": [
    "a = 5\n",
    "b = 6\n",
    "c = 7"
   ]
  },
  {
   "cell_type": "code",
   "execution_count": 50,
   "id": "34f71101",
   "metadata": {},
   "outputs": [
    {
     "data": {
      "text/plain": [
       "False"
      ]
     },
     "execution_count": 50,
     "metadata": {},
     "output_type": "execute_result"
    }
   ],
   "source": [
    "(a==b) and (c<d)"
   ]
  },
  {
   "cell_type": "code",
   "execution_count": 51,
   "id": "c8f900d2",
   "metadata": {},
   "outputs": [
    {
     "data": {
      "text/plain": [
       "True"
      ]
     },
     "execution_count": 51,
     "metadata": {},
     "output_type": "execute_result"
    }
   ],
   "source": [
    "(b<=c) and (a<=c)"
   ]
  },
  {
   "cell_type": "code",
   "execution_count": 52,
   "id": "6f30ba24",
   "metadata": {},
   "outputs": [
    {
     "data": {
      "text/plain": [
       "6"
      ]
     },
     "execution_count": 52,
     "metadata": {},
     "output_type": "execute_result"
    }
   ],
   "source": [
    "5 and 6"
   ]
  },
  {
   "cell_type": "code",
   "execution_count": null,
   "id": "7759570a",
   "metadata": {},
   "outputs": [],
   "source": [
    "and - if returnd true if both the conditions are true\n",
    "\n",
    "in Value it returns last value as result"
   ]
  },
  {
   "cell_type": "code",
   "execution_count": null,
   "id": "2b53bbf1",
   "metadata": {},
   "outputs": [],
   "source": [
    "or\n",
    "\n",
    "In or also we have condition,value\n",
    "it returns true when any one of the conditon is true\n",
    "in value it returns first value as result"
   ]
  },
  {
   "cell_type": "code",
   "execution_count": 53,
   "id": "a1921128",
   "metadata": {},
   "outputs": [
    {
     "data": {
      "text/plain": [
       "True"
      ]
     },
     "execution_count": 53,
     "metadata": {},
     "output_type": "execute_result"
    }
   ],
   "source": [
    "(a==b) or (b<c)"
   ]
  },
  {
   "cell_type": "code",
   "execution_count": 54,
   "id": "41507f66",
   "metadata": {},
   "outputs": [
    {
     "data": {
      "text/plain": [
       "5"
      ]
     },
     "execution_count": 54,
     "metadata": {},
     "output_type": "execute_result"
    }
   ],
   "source": [
    "5 or 6"
   ]
  },
  {
   "cell_type": "code",
   "execution_count": null,
   "id": "1f0de59c",
   "metadata": {},
   "outputs": [],
   "source": [
    "not\n",
    "\n",
    "opposite of result"
   ]
  },
  {
   "cell_type": "code",
   "execution_count": 55,
   "id": "06db1813",
   "metadata": {},
   "outputs": [
    {
     "data": {
      "text/plain": [
       "False"
      ]
     },
     "execution_count": 55,
     "metadata": {},
     "output_type": "execute_result"
    }
   ],
   "source": [
    "not(True)"
   ]
  },
  {
   "cell_type": "code",
   "execution_count": 56,
   "id": "5ac1ca1c",
   "metadata": {},
   "outputs": [
    {
     "data": {
      "text/plain": [
       "False"
      ]
     },
     "execution_count": 56,
     "metadata": {},
     "output_type": "execute_result"
    }
   ],
   "source": [
    "not(a<b)"
   ]
  },
  {
   "cell_type": "markdown",
   "id": "078d8c24",
   "metadata": {},
   "source": [
    "#### What are the `membership` operators in Python? Explain their usage with examples"
   ]
  },
  {
   "cell_type": "code",
   "execution_count": null,
   "id": "f1a0bb6d",
   "metadata": {},
   "outputs": [],
   "source": [
    "membership operators - in,not in\n",
    "membership operators check whether they are present or not (or) available or not, if it is available it returns true otherwise it returns false"
   ]
  },
  {
   "cell_type": "code",
   "execution_count": 57,
   "id": "c59c10d4",
   "metadata": {},
   "outputs": [],
   "source": [
    "a = \"Innomatics Research Labs\""
   ]
  },
  {
   "cell_type": "code",
   "execution_count": 58,
   "id": "f1648481",
   "metadata": {},
   "outputs": [
    {
     "data": {
      "text/plain": [
       "True"
      ]
     },
     "execution_count": 58,
     "metadata": {},
     "output_type": "execute_result"
    }
   ],
   "source": [
    "'R' in a"
   ]
  },
  {
   "cell_type": "code",
   "execution_count": 59,
   "id": "2497de45",
   "metadata": {},
   "outputs": [
    {
     "data": {
      "text/plain": [
       "True"
      ]
     },
     "execution_count": 59,
     "metadata": {},
     "output_type": "execute_result"
    }
   ],
   "source": [
    "'l' not in a"
   ]
  },
  {
   "cell_type": "code",
   "execution_count": null,
   "id": "b5f852d6",
   "metadata": {},
   "outputs": [],
   "source": [
    "The result will always be in true or false"
   ]
  },
  {
   "cell_type": "markdown",
   "id": "0d8e3b87",
   "metadata": {},
   "source": [
    "#### List and briefly explain the `basic data types` available in Python."
   ]
  },
  {
   "cell_type": "code",
   "execution_count": null,
   "id": "c0958d75",
   "metadata": {},
   "outputs": [],
   "source": [
    "Data types are basically categorised into two types\n",
    "\n",
    "basic data types - numeric,non numeric\n",
    "numeric - integer,float,complex\n",
    "non numeric - boolean,string\n",
    "collection data types\n",
    "strings\n",
    "tuple\n",
    "set\n",
    "dictionary\n",
    "frozen set\n",
    "string related to both basic and collection types\n",
    "In basic data type we are able to represent single value"
   ]
  },
  {
   "cell_type": "code",
   "execution_count": null,
   "id": "16a77b81",
   "metadata": {},
   "outputs": [],
   "source": [
    "a = 5,a = 3.4, a=3+5j,a=True,a='d'#basic data types"
   ]
  },
  {
   "cell_type": "code",
   "execution_count": null,
   "id": "6835888f",
   "metadata": {},
   "outputs": [],
   "source": [
    "a = ['hello',world],a=(hi,hello)a = {value:pair,first:second}#collection data types"
   ]
  },
  {
   "cell_type": "markdown",
   "id": "79eb0523",
   "metadata": {},
   "source": [
    "#### Write a Python code snippet that `assigns a value to a variable `and determines its `data type` using the type() function."
   ]
  },
  {
   "cell_type": "code",
   "execution_count": 60,
   "id": "3067d72a",
   "metadata": {},
   "outputs": [],
   "source": [
    "var = \"charishma\""
   ]
  },
  {
   "cell_type": "code",
   "execution_count": 61,
   "id": "b38cdc29",
   "metadata": {},
   "outputs": [
    {
     "data": {
      "text/plain": [
       "str"
      ]
     },
     "execution_count": 61,
     "metadata": {},
     "output_type": "execute_result"
    }
   ],
   "source": [
    "type(var)"
   ]
  },
  {
   "cell_type": "markdown",
   "id": "411bd79e",
   "metadata": {},
   "source": [
    "#### Create a program that determines whether a user-input year is a leap year or not. A leap year is divisible by 4 and not divisible by 100, unless it is also divisible by 400."
   ]
  },
  {
   "cell_type": "code",
   "execution_count": 64,
   "id": "15e8257d",
   "metadata": {},
   "outputs": [
    {
     "name": "stdout",
     "output_type": "stream",
     "text": [
      "Enter the year: 1994\n",
      "Its not leap year\n"
     ]
    }
   ],
   "source": [
    "year = int(input(\"Enter the year: \"))\n",
    "if((year%4 == 0 and year%100 != 0) or year%400 ==0 ):\n",
    "    print(\"Its leap year\")\n",
    "else:\n",
    "    print(\"Its not leap year\")"
   ]
  },
  {
   "cell_type": "markdown",
   "id": "62e33658",
   "metadata": {},
   "source": [
    "#### Implement a simple guessing game. Generate a random number between 1 and 100 and have the user guess the number. Provide feedback if their guess is too high or too low, and let them know when they've guessed correctly."
   ]
  },
  {
   "cell_type": "markdown",
   "id": "dddb581a",
   "metadata": {},
   "source": [
    "####  Write a program that compares two user-input numbers and prints whether the first number is greater than the second number or not."
   ]
  },
  {
   "cell_type": "code",
   "execution_count": 65,
   "id": "14d64e1d",
   "metadata": {},
   "outputs": [
    {
     "name": "stdout",
     "output_type": "stream",
     "text": [
      "Enter the first number: 6\n",
      "Enter the second number: 7\n",
      "b is greater than a\n"
     ]
    }
   ],
   "source": [
    "a = int(input(\"Enter the first number: \"))\n",
    "b = int(input(\"Enter the second number: \"))\n",
    "if(a>b):\n",
    "    print(\"a is greater than b\")\n",
    "elif(b>a):\n",
    "    print(\"b is greater than a\")\n",
    "else:\n",
    "    print(\"a and b are equal\")"
   ]
  },
  {
   "cell_type": "markdown",
   "id": "b5ae29ca",
   "metadata": {},
   "source": [
    "#### Write a program that checks whether a user-input number is positive and even using logical AND (`and`) operator."
   ]
  },
  {
   "cell_type": "code",
   "execution_count": 66,
   "id": "bd6369be",
   "metadata": {},
   "outputs": [
    {
     "name": "stdout",
     "output_type": "stream",
     "text": [
      "Enter a value: 5\n",
      "Given number is positive and odd\n"
     ]
    }
   ],
   "source": [
    "a = int(input(\"Enter a value: \"))\n",
    "if(a%2 == 0 and a>0):\n",
    "    print(\"Given number is positive and even\")\n",
    "elif(a%2 != 0 and a>0):\n",
    "    print(\"Given number is positive and odd\")\n",
    "elif(a%2 == 0 and a<0):\n",
    "    print(\"number is negative and even\")\n",
    "else:\n",
    "    print(\"number is negative and odd\")"
   ]
  },
  {
   "cell_type": "markdown",
   "id": "b99605ad",
   "metadata": {},
   "source": [
    "#### Write a program to calculate the square of a number using the exponentiation operator (`**`) and assign it back to the same variable."
   ]
  },
  {
   "cell_type": "code",
   "execution_count": 68,
   "id": "8316e832",
   "metadata": {},
   "outputs": [],
   "source": [
    "x = 5\n",
    "x **= 2"
   ]
  },
  {
   "cell_type": "code",
   "execution_count": 69,
   "id": "3af3172c",
   "metadata": {},
   "outputs": [
    {
     "data": {
      "text/plain": [
       "25"
      ]
     },
     "execution_count": 69,
     "metadata": {},
     "output_type": "execute_result"
    }
   ],
   "source": [
    "x"
   ]
  },
  {
   "cell_type": "markdown",
   "id": "c5ae27d4",
   "metadata": {},
   "source": [
    "#### Write a program that performs a bitwise AND operation between two user-input numbers and displays the result."
   ]
  },
  {
   "cell_type": "code",
   "execution_count": 71,
   "id": "aa0eca55",
   "metadata": {},
   "outputs": [
    {
     "name": "stdout",
     "output_type": "stream",
     "text": [
      "Enter the value: 7\n",
      "Enter the value: 8\n",
      "0\n"
     ]
    }
   ],
   "source": [
    "a = int(input(\"Enter the value: \"))\n",
    "b = int(input(\"Enter the value: \"))\n",
    "result = a & b\n",
    "print(result)"
   ]
  },
  {
   "cell_type": "markdown",
   "id": "4e8122f1",
   "metadata": {},
   "source": [
    "### random function"
   ]
  },
  {
   "cell_type": "code",
   "execution_count": 72,
   "id": "4b7d86c0",
   "metadata": {},
   "outputs": [
    {
     "ename": "SyntaxError",
     "evalue": "Missing parentheses in call to 'print'. Did you mean print(...)? (3704316164.py, line 2)",
     "output_type": "error",
     "traceback": [
      "\u001b[1;36m  Cell \u001b[1;32mIn[72], line 2\u001b[1;36m\u001b[0m\n\u001b[1;33m    print random(1,100)\u001b[0m\n\u001b[1;37m    ^\u001b[0m\n\u001b[1;31mSyntaxError\u001b[0m\u001b[1;31m:\u001b[0m Missing parentheses in call to 'print'. Did you mean print(...)?\n"
     ]
    }
   ],
   "source": [
    "import random\n",
    "print random(1,100)"
   ]
  },
  {
   "cell_type": "code",
   "execution_count": 1,
   "id": "059a1ece",
   "metadata": {},
   "outputs": [
    {
     "name": "stdout",
     "output_type": "stream",
     "text": [
      "a is less than b\n"
     ]
    }
   ],
   "source": [
    "a = 7\n",
    "b = 12\n",
    "if(a>b):\n",
    "    print(\"a is greater than b\")\n",
    "elif(a<b):\n",
    "    print(\"a is less than b\")\n",
    "else:\n",
    "    print(\"a is equal to b\")"
   ]
  },
  {
   "cell_type": "code",
   "execution_count": 2,
   "id": "54bd3537",
   "metadata": {},
   "outputs": [
    {
     "name": "stdout",
     "output_type": "stream",
     "text": [
      "even\n"
     ]
    }
   ],
   "source": [
    "a = 2\n",
    "b = 3\n",
    "if(a%2==0):\n",
    "    print(\"even\")\n",
    "else:\n",
    "    print(\"odd\")"
   ]
  },
  {
   "cell_type": "code",
   "execution_count": null,
   "id": "0cbdafa1",
   "metadata": {},
   "outputs": [],
   "source": []
  }
 ],
 "metadata": {
  "kernelspec": {
   "display_name": "Python 3 (ipykernel)",
   "language": "python",
   "name": "python3"
  },
  "language_info": {
   "codemirror_mode": {
    "name": "ipython",
    "version": 3
   },
   "file_extension": ".py",
   "mimetype": "text/x-python",
   "name": "python",
   "nbconvert_exporter": "python",
   "pygments_lexer": "ipython3",
   "version": "3.11.4"
  }
 },
 "nbformat": 4,
 "nbformat_minor": 5
}
