{
 "cells": [
  {
   "cell_type": "markdown",
   "id": "dd8718fa",
   "metadata": {},
   "source": [
    "\n",
    "\n",
    "1. **Print Numbers from 1 to N:**\n",
    "   Write a Python program that uses a for loop to print all numbers from `1 to N` and `substract 5 `from each number.where N is a `positive integer` entered by the user.\n",
    "\n",
    "2. **Calculate the Sum of Numbers from 1 to N:**\n",
    "   Write a Python program that calculates and prints the `sum` of all numbers from `1 to N`, where N is a `positive integer` entered by the user, using a for loop.\n",
    "\n",
    "3. **Print Even Numbers:**\n",
    "   Write a Python program that prints all `even numbers` from `50 to 100` using a `for` loop.\n",
    "\n",
    "4. **Reverse a String:**\n",
    "   Write a Python program that takes a string as input and uses a `for loop` to print the characters of the string in `reverse order`.\n",
    "\n",
    "5. **Count Vowels in a String:**\n",
    "    `name = \"innomatics research labs\"`\n",
    "   Write a Python program uses a for loop to count the number of vowels (a, e, i, o, u) in the string. Ignore case sensitivity.\n",
    "\n",
    "6. **Generate a Multiplication Table:**\n",
    "   Write a Python program that generates and prints the multiplication table for  6.\n"
   ]
  },
  {
   "cell_type": "markdown",
   "id": "2c1bc4e5",
   "metadata": {},
   "source": [
    "#### Write a Python program that uses a for loop to print all numbers from `1 to N` and `substract 5 `from each number.where N is a `positive integer` entered by the user."
   ]
  },
  {
   "cell_type": "code",
   "execution_count": 5,
   "id": "67b3da28",
   "metadata": {},
   "outputs": [
    {
     "name": "stdout",
     "output_type": "stream",
     "text": [
      "Enter a number: 10\n",
      "-4\n",
      "-3\n",
      "-2\n",
      "-1\n",
      "0\n",
      "1\n",
      "2\n",
      "3\n",
      "4\n"
     ]
    }
   ],
   "source": [
    "num = int(input(\"Enter a number: \"))\n",
    "for i in range(1,num):\n",
    "    print(i-5)"
   ]
  },
  {
   "cell_type": "markdown",
   "id": "df3d6c21",
   "metadata": {},
   "source": [
    "#### Write a Python program that calculates and prints the `sum` of all numbers from `1 to N`, where N is a `positive integer` entered by the user, using a for loop."
   ]
  },
  {
   "cell_type": "code",
   "execution_count": 6,
   "id": "c91f9815",
   "metadata": {},
   "outputs": [
    {
     "name": "stdout",
     "output_type": "stream",
     "text": [
      "Enter a number: 10\n",
      "45\n"
     ]
    }
   ],
   "source": [
    "num = int(input(\"Enter a number: \"))\n",
    "total = 0\n",
    "for i in range(1,num):\n",
    "    total = total+i\n",
    "print(total)"
   ]
  },
  {
   "cell_type": "markdown",
   "id": "3b82f8bb",
   "metadata": {},
   "source": [
    "#### Write a Python program that prints all `even numbers` from `50 to 100` using a `for` loop."
   ]
  },
  {
   "cell_type": "code",
   "execution_count": 7,
   "id": "d234762f",
   "metadata": {},
   "outputs": [
    {
     "name": "stdout",
     "output_type": "stream",
     "text": [
      "50\n",
      "52\n",
      "54\n",
      "56\n",
      "58\n",
      "60\n",
      "62\n",
      "64\n",
      "66\n",
      "68\n",
      "70\n",
      "72\n",
      "74\n",
      "76\n",
      "78\n",
      "80\n",
      "82\n",
      "84\n",
      "86\n",
      "88\n",
      "90\n",
      "92\n",
      "94\n",
      "96\n",
      "98\n"
     ]
    }
   ],
   "source": [
    "for i in range(50,100):\n",
    "    if(i%2 == 0):\n",
    "        print(i)"
   ]
  },
  {
   "cell_type": "markdown",
   "id": "c032f5aa",
   "metadata": {},
   "source": [
    "####  Write a Python program that takes a string as input and uses a `for loop` to print the characters of the string in `reverse order`."
   ]
  },
  {
   "cell_type": "code",
   "execution_count": 13,
   "id": "68fd8f27",
   "metadata": {},
   "outputs": [
    {
     "name": "stdout",
     "output_type": "stream",
     "text": [
      "Enter a text: Innomatics\n",
      "s\n",
      "c\n",
      "i\n",
      "t\n",
      "a\n",
      "m\n",
      "o\n",
      "n\n",
      "n\n",
      "I\n"
     ]
    }
   ],
   "source": [
    "text = input(\"Enter a text: \")\n",
    "for i in text[-1:  :-1]:\n",
    "    print(i)"
   ]
  },
  {
   "cell_type": "markdown",
   "id": "7eb003f1",
   "metadata": {},
   "source": [
    "####  Write a Python program uses a for loop to count the number of vowels (a, e, i, o, u) in the string. Ignore case sensitivity."
   ]
  },
  {
   "cell_type": "code",
   "execution_count": 15,
   "id": "bf0138da",
   "metadata": {},
   "outputs": [
    {
     "data": {
      "text/plain": [
       "8"
      ]
     },
     "execution_count": 15,
     "metadata": {},
     "output_type": "execute_result"
    }
   ],
   "source": [
    "name = \"innomatics research labs\"\n",
    "vowel = []\n",
    "for i in name:\n",
    "    if i in((\"a\",\"e\",\"i\",\"o\",\"u\")):\n",
    "        vowel.append(i)\n",
    "len(vowel)       "
   ]
  },
  {
   "cell_type": "markdown",
   "id": "b9fc62e6",
   "metadata": {},
   "source": [
    "####  Write a Python program that generates and prints the multiplication table for  6."
   ]
  },
  {
   "cell_type": "code",
   "execution_count": 24,
   "id": "7837a12b",
   "metadata": {},
   "outputs": [
    {
     "name": "stdout",
     "output_type": "stream",
     "text": [
      "Enter the table limit: 20\n",
      "6 x 1 = 6\n",
      "6 x 2 = 12\n",
      "6 x 3 = 18\n",
      "6 x 4 = 24\n",
      "6 x 5 = 30\n",
      "6 x 6 = 36\n",
      "6 x 7 = 42\n",
      "6 x 8 = 48\n",
      "6 x 9 = 54\n",
      "6 x 10 = 60\n",
      "6 x 11 = 66\n",
      "6 x 12 = 72\n",
      "6 x 13 = 78\n",
      "6 x 14 = 84\n",
      "6 x 15 = 90\n",
      "6 x 16 = 96\n",
      "6 x 17 = 102\n",
      "6 x 18 = 108\n",
      "6 x 19 = 114\n",
      "6 x 20 = 120\n"
     ]
    }
   ],
   "source": [
    "num = 6\n",
    "finalvalue = int(input(\"Enter the table limit: \"))\n",
    "for i in range(1,finalvalue+1):\n",
    "    res = (i*num)\n",
    "    print(f\"{num} x {i} = {res}\")"
   ]
  }
 ],
 "metadata": {
  "kernelspec": {
   "display_name": "Python 3 (ipykernel)",
   "language": "python",
   "name": "python3"
  },
  "language_info": {
   "codemirror_mode": {
    "name": "ipython",
    "version": 3
   },
   "file_extension": ".py",
   "mimetype": "text/x-python",
   "name": "python",
   "nbconvert_exporter": "python",
   "pygments_lexer": "ipython3",
   "version": "3.11.4"
  }
 },
 "nbformat": 4,
 "nbformat_minor": 5
}
