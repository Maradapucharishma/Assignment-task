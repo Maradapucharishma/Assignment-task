{
 "cells": [
  {
   "cell_type": "markdown",
   "id": "740ff6e2",
   "metadata": {},
   "source": [
    "Task 1: Leap Year Checker\n",
    "\n",
    "Write a program that takes a year as input and determines whether it is a leap year or not. A leap year is a year that is divisible by 4, but not divisible by 100, unless it is also divisible by 400. Display an appropriate message indicating whether the year is a leap year or not.\n",
    "\n",
    "Task 2: Grade Calculator\n",
    "\n",
    "Write a program that takes a student's score as input (out of 100) and determines their grade based on the following conditions: If the score is 90 or above, the grade is 'A'. If the score is between 80 and 89, the grade is 'B'. If the score is between 70 and 79, the grade is 'C'. If the score is between 60 and 69, the grade is 'D'. If the score is below 60, the grade is 'F'. Display the grade corresponding to the entered score.\n",
    "\n",
    "Task 3: Calculator Write a program that takes two numbers as input and performs a mathematical operation (+, -, *, /) based on the user's choice. Use a conditional statement to determine the operation to be performed. Display the result of the calculation.\n",
    "\n",
    "Task 4: Reverse String Write a Python function to reverse a string.\n",
    "\n",
    "Task 5: Palindrome Write a Python function that checks whether a passed string is a palindrome or not.\n",
    "\n",
    "Task 6: Counting Write a Python function that accepts a string and counts the number of upper and lower case letters.\n",
    "\n",
    "Task 7: **\n",
    "\n",
    " "
   ]
  },
  {
   "cell_type": "markdown",
   "id": "209fbd64",
   "metadata": {},
   "source": [
    "### Task 1: Leap Year Checker\n",
    "\n",
    "#Write a program that takes a year as input and determines whether it is a leap year or not. A leap year is a year that is divisible by 4, but not divisible by 100, unless it is also divisible by 400. Display an appropriate message indicating whether the year is a leap year or not.\n"
   ]
  },
  {
   "cell_type": "code",
   "execution_count": 8,
   "id": "1c1de7c8",
   "metadata": {},
   "outputs": [],
   "source": [
    "def leapyear(year):\n",
    "    if ((year%4 == 0,year%100 != 0) or (year%400 ==0)):\n",
    "        print(f\"{year} is leap year\")\n",
    "    else:\n",
    "        print(f\"{year} is not leap year\")"
   ]
  },
  {
   "cell_type": "code",
   "execution_count": 6,
   "id": "b02ebdd2",
   "metadata": {},
   "outputs": [
    {
     "name": "stdout",
     "output_type": "stream",
     "text": [
      "2000 is leap year\n"
     ]
    }
   ],
   "source": [
    "leapyear(2000)"
   ]
  },
  {
   "cell_type": "markdown",
   "id": "2af07cd3",
   "metadata": {},
   "source": [
    "Task 2: Grade Calculator\n",
    "\n",
    "Write a program that takes a student's score as input (out of 100) and determines their grade based on the following conditions: If the score is 90 or above, the grade is 'A'. If the score is between 80 and 89, the grade is 'B'. If the score is between 70 and 79, the grade is 'C'. If the score is between 60 and 69, the grade is 'D'. If the score is below 60, the grade is 'F'. Display the grade corresponding to the entered score."
   ]
  },
  {
   "cell_type": "code",
   "execution_count": 13,
   "id": "3a3fdaf9",
   "metadata": {},
   "outputs": [
    {
     "name": "stdout",
     "output_type": "stream",
     "text": [
      "Enter your marks : 78\n",
      "C Grade\n"
     ]
    }
   ],
   "source": [
    "def grade(score):\n",
    "    if score >= 90 and score <=100:\n",
    "        print(\"A Grade\")\n",
    "    elif score >= 80 and score <90:\n",
    "        print(\"B Grade\")\n",
    "    elif score >=70  and score <80:\n",
    "        print(\"C Grade\")\n",
    "    elif score >=60 and score <70:\n",
    "        print(\"D Grade\")\n",
    "    elif score < 0 and score >100:\n",
    "        print(\"Invalid input,Enter marks between 0-100\")\n",
    "    else:\n",
    "        print(\"F\")\n",
    "score = int(input(\"Enter your marks : \"))\n",
    "grade(score)"
   ]
  },
  {
   "cell_type": "markdown",
   "id": "a6d7c414",
   "metadata": {},
   "source": [
    "Task 3: Calculator Write a program that takes two numbers as input and performs a mathematical operation (+, -, *, /) based on the user's choice. Use a conditional statement to determine the operation to be performed. Display the result of the calculation."
   ]
  },
  {
   "cell_type": "code",
   "execution_count": 15,
   "id": "49306816",
   "metadata": {},
   "outputs": [
    {
     "name": "stdout",
     "output_type": "stream",
     "text": [
      "Enter first number : 6\n",
      "Enter second number : 7\n",
      "Select operations from : 1.Addition\n",
      "                                2.subtraction\n",
      "                                3.Multiplication\n",
      "                                4.Division\n",
      "Enter your operation type : Addition\n",
      "Addition of 6 and 7 is 13\n"
     ]
    }
   ],
   "source": [
    "a = int(input(\"Enter first number : \"))\n",
    "b = int(input(\"Enter second number : \"))\n",
    "print(\"\"\"Select operations from : 1.Addition\n",
    "                                2.subtraction\n",
    "                                3.Multiplication\n",
    "                                4.Division\"\"\")\n",
    "operation = input(\"Enter your operation type : \")\n",
    "if operation == \"Addition\":\n",
    "    print(f\"Addition of {a} and {b} is\", a+b)\n",
    "elif operation == \"Subtraction\":\n",
    "    print(f\"Subtraction of {a} and {b} is\", a-b)\n",
    "elif operation == \"Multiplication\":\n",
    "    print(f\"Multiplication of {a} and {b} is\", a*b)\n",
    "else:\n",
    "    print(f\"Division of {a} and {b} is\", a/b)                   "
   ]
  },
  {
   "cell_type": "markdown",
   "id": "e6daa7e5",
   "metadata": {},
   "source": [
    "Task 4: Reverse String Write a Python function to reverse a string."
   ]
  },
  {
   "cell_type": "code",
   "execution_count": 5,
   "id": "663e262d",
   "metadata": {},
   "outputs": [
    {
     "name": "stdout",
     "output_type": "stream",
     "text": [
      "Enter your string : Innomatics\n",
      "scitamonnI\n"
     ]
    }
   ],
   "source": [
    "def reverse(n):\n",
    "        print(n[-1: :-1])\n",
    "n = input(\"Enter your string : \")\n",
    "reverse(n)"
   ]
  },
  {
   "cell_type": "markdown",
   "id": "b24a42bc",
   "metadata": {},
   "source": [
    "Task 5: Palindrome Write a Python function that checks whether a passed string is a palindrome or not."
   ]
  },
  {
   "cell_type": "code",
   "execution_count": 8,
   "id": "4e182ca5",
   "metadata": {},
   "outputs": [
    {
     "name": "stdout",
     "output_type": "stream",
     "text": [
      "Enter a string : hello\n"
     ]
    },
    {
     "data": {
      "text/plain": [
       "'It is not a palindrome'"
      ]
     },
     "execution_count": 8,
     "metadata": {},
     "output_type": "execute_result"
    }
   ],
   "source": [
    "def palindrome(n):\n",
    "    if (n == n[-1: :-1]):\n",
    "        return \"It is a palindrome\"\n",
    "    else:\n",
    "        return \"It is not a palindrome\"\n",
    "n = input(\"Enter a string : \")\n",
    "palindrome(n)"
   ]
  },
  {
   "cell_type": "markdown",
   "id": "366deac1",
   "metadata": {},
   "source": [
    "Task 6: Counting Write a Python function that accepts a string and counts the number of upper and lower case letters."
   ]
  },
  {
   "cell_type": "code",
   "execution_count": 14,
   "id": "e7b6c4eb",
   "metadata": {},
   "outputs": [
    {
     "name": "stdout",
     "output_type": "stream",
     "text": [
      "Enter a string : ChAriShma\n",
      "No.of upper case letters are  3\n",
      "No.of lower case letters are  6\n"
     ]
    }
   ],
   "source": [
    "def case(name):\n",
    "    upper = ['A','B','C','D','E','F','G','H','I','J','K','L','M','N','O','P','Q','R','S','T','U','V','W','X','Y','Z']\n",
    "    lower = ['a','b','c','d','e','f','g','h','i','j','k','l','m','n','o','p','q','r','s','t','u','v','w','x','y','z']\n",
    "    count_upper = []\n",
    "    count_lower = []\n",
    "    for i in name:\n",
    "        if i in upper:\n",
    "            count_upper.append(i)\n",
    "        else:\n",
    "            count_lower.append(i)\n",
    "    print(f\"No.of upper case letters are \",len(count_upper))\n",
    "    print(f\"No.of lower case letters are \",len(count_lower))\n",
    "name = input(\"Enter a string : \")\n",
    "case(name)"
   ]
  },
  {
   "cell_type": "code",
   "execution_count": null,
   "id": "bf9e1e77",
   "metadata": {},
   "outputs": [],
   "source": []
  }
 ],
 "metadata": {
  "kernelspec": {
   "display_name": "Python 3 (ipykernel)",
   "language": "python",
   "name": "python3"
  },
  "language_info": {
   "codemirror_mode": {
    "name": "ipython",
    "version": 3
   },
   "file_extension": ".py",
   "mimetype": "text/x-python",
   "name": "python",
   "nbconvert_exporter": "python",
   "pygments_lexer": "ipython3",
   "version": "3.11.4"
  }
 },
 "nbformat": 4,
 "nbformat_minor": 5
}
