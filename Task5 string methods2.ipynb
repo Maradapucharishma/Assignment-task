{
 "cells": [
  {
   "cell_type": "markdown",
   "id": "f9cca2f0",
   "metadata": {},
   "source": [
    "**Task1: Append and Modify Elements**\n",
    "    \n",
    "* Create an empty list called numbers. Append the numbers 1, 2, and 3 to the list.\n",
    "* Modify the element at index 1 to be 4.\n",
    "* Print the updated list.\n",
    "\n",
    "**Task2: Slicing and Concatenation**\n",
    "\n",
    "* Create a list called fruits with elements 'apple', 'banana', 'orange', 'mango', and 'kiwi'. \n",
    "* Create a new list  by slicing fruits to include only the citrus fruits ('orange' and 'mango\"). * Create a new list called tropical by slicing fruits to include only the tropical fruits ('banana\" and \"kiwi'). \n",
    "* Concatenate citrus and tropical lists to create a new list called combined. Print combined.\n",
    "\n",
    "**Task3: Counting and Removing Elements**\n",
    "\n",
    "* Create a list called colors with repeated elements 'red', 'blue', 'red', 'green', 'red'. Print the number of occurrences of 'red' in the list. Remove all occurrences of 'red' from the list. Print the updated list.\n",
    "\n",
    "**Task 4: List Manipulation**\n",
    "\n",
    "* Add 'cheese' to the end of the list. Remove 'milk' from the list.\n",
    "* Create a list called groceries with initial items: 'bread', 'milk', 'eggs', 'butter'. Print the final list of groceries.\n",
    "* Insert 'yogurt' at index 1.\n",
    "\n"
   ]
  },
  {
   "cell_type": "markdown",
   "id": "b56be2f6",
   "metadata": {},
   "source": [
    "### Task1: Append and Modify Elements"
   ]
  },
  {
   "cell_type": "markdown",
   "id": "bffd8c7b",
   "metadata": {},
   "source": [
    "#### Create an empty list called numbers. Append the numbers 1, 2, and 3 to the list."
   ]
  },
  {
   "cell_type": "code",
   "execution_count": 18,
   "id": "964cd6bc",
   "metadata": {},
   "outputs": [],
   "source": [
    "numbers = list()"
   ]
  },
  {
   "cell_type": "code",
   "execution_count": 19,
   "id": "0c03b208",
   "metadata": {},
   "outputs": [],
   "source": [
    "numbers.append(1)\n",
    "numbers.append(2)\n",
    "numbers.append(3)"
   ]
  },
  {
   "cell_type": "code",
   "execution_count": 20,
   "id": "c7af9506",
   "metadata": {},
   "outputs": [
    {
     "data": {
      "text/plain": [
       "[1, 2, 3]"
      ]
     },
     "execution_count": 20,
     "metadata": {},
     "output_type": "execute_result"
    }
   ],
   "source": [
    "numbers"
   ]
  },
  {
   "cell_type": "markdown",
   "id": "ddb355a1",
   "metadata": {},
   "source": [
    "#### Modify the element at index 1 to be 4."
   ]
  },
  {
   "cell_type": "code",
   "execution_count": 21,
   "id": "14e0cd0a",
   "metadata": {},
   "outputs": [],
   "source": [
    "numbers.insert(1,4)"
   ]
  },
  {
   "cell_type": "markdown",
   "id": "aedc6b32",
   "metadata": {},
   "source": [
    "#### Print the updated list."
   ]
  },
  {
   "cell_type": "code",
   "execution_count": 22,
   "id": "d2019561",
   "metadata": {},
   "outputs": [
    {
     "data": {
      "text/plain": [
       "[1, 4, 2, 3]"
      ]
     },
     "execution_count": 22,
     "metadata": {},
     "output_type": "execute_result"
    }
   ],
   "source": [
    "numbers"
   ]
  },
  {
   "cell_type": "markdown",
   "id": "8dde6a14",
   "metadata": {},
   "source": [
    "### Task2: Slicing and Concatenation"
   ]
  },
  {
   "cell_type": "markdown",
   "id": "3a2b8f76",
   "metadata": {},
   "source": [
    "#### Create a list called fruits with elements 'apple', 'banana', 'orange', 'mango', and 'kiwi'."
   ]
  },
  {
   "cell_type": "code",
   "execution_count": 23,
   "id": "70f168ec",
   "metadata": {},
   "outputs": [],
   "source": [
    "fruits = ['apple','banana','orange','mango','kiwi']"
   ]
  },
  {
   "cell_type": "markdown",
   "id": "a92634ca",
   "metadata": {},
   "source": [
    "####  Create a new list  by slicing fruits to include only the citrus fruits ('orange' and 'mango\"). * Create a new list called tropical by slicing fruits to include only the tropical fruits ('banana\" and \"kiwi'). "
   ]
  },
  {
   "cell_type": "code",
   "execution_count": 29,
   "id": "198eb577",
   "metadata": {},
   "outputs": [],
   "source": [
    "citrus = fruits[2:4:1]\n",
    "tropical = fruits[1:5:3]"
   ]
  },
  {
   "cell_type": "code",
   "execution_count": 25,
   "id": "ff08db54",
   "metadata": {},
   "outputs": [
    {
     "data": {
      "text/plain": [
       "['orange', 'mango']"
      ]
     },
     "execution_count": 25,
     "metadata": {},
     "output_type": "execute_result"
    }
   ],
   "source": [
    "citrus"
   ]
  },
  {
   "cell_type": "code",
   "execution_count": 30,
   "id": "52cf22e5",
   "metadata": {},
   "outputs": [
    {
     "data": {
      "text/plain": [
       "['banana', 'kiwi']"
      ]
     },
     "execution_count": 30,
     "metadata": {},
     "output_type": "execute_result"
    }
   ],
   "source": [
    "tropical"
   ]
  },
  {
   "cell_type": "code",
   "execution_count": 31,
   "id": "c739d8e6",
   "metadata": {},
   "outputs": [],
   "source": [
    "combined = citrus+tropical"
   ]
  },
  {
   "cell_type": "code",
   "execution_count": 32,
   "id": "dcf95879",
   "metadata": {},
   "outputs": [
    {
     "data": {
      "text/plain": [
       "['orange', 'mango', 'banana', 'kiwi']"
      ]
     },
     "execution_count": 32,
     "metadata": {},
     "output_type": "execute_result"
    }
   ],
   "source": [
    "combined"
   ]
  },
  {
   "cell_type": "markdown",
   "id": "831c2b47",
   "metadata": {},
   "source": [
    "### Task3: Counting and Removing Elements"
   ]
  },
  {
   "cell_type": "markdown",
   "id": "e89a52d3",
   "metadata": {},
   "source": [
    "####  Create a list called colors with repeated elements 'red', 'blue', 'red', 'green', 'red'. Print the number of occurrences of 'red' in the list. Remove all occurrences of 'red' from the list. Print the updated list."
   ]
  },
  {
   "cell_type": "code",
   "execution_count": 42,
   "id": "f21cf11d",
   "metadata": {},
   "outputs": [],
   "source": [
    "colors = ['red','blue','red','green','red',]"
   ]
  },
  {
   "cell_type": "code",
   "execution_count": 43,
   "id": "c0329771",
   "metadata": {},
   "outputs": [
    {
     "data": {
      "text/plain": [
       "['red', 'blue', 'red', 'green', 'red']"
      ]
     },
     "execution_count": 43,
     "metadata": {},
     "output_type": "execute_result"
    }
   ],
   "source": [
    "colors"
   ]
  },
  {
   "cell_type": "code",
   "execution_count": 44,
   "id": "21eb9a87",
   "metadata": {},
   "outputs": [
    {
     "data": {
      "text/plain": [
       "3"
      ]
     },
     "execution_count": 44,
     "metadata": {},
     "output_type": "execute_result"
    }
   ],
   "source": [
    "colors.count('red') #number of occurrences of red"
   ]
  },
  {
   "cell_type": "code",
   "execution_count": 45,
   "id": "956d513e",
   "metadata": {},
   "outputs": [],
   "source": [
    "colors.remove('red') #we can remove one value at a time"
   ]
  },
  {
   "cell_type": "code",
   "execution_count": 47,
   "id": "e0f482b3",
   "metadata": {},
   "outputs": [],
   "source": [
    "colors.remove('red')"
   ]
  },
  {
   "cell_type": "code",
   "execution_count": 49,
   "id": "b31e97bb",
   "metadata": {},
   "outputs": [],
   "source": [
    "colors.remove('red')"
   ]
  },
  {
   "cell_type": "code",
   "execution_count": 50,
   "id": "3105b373",
   "metadata": {},
   "outputs": [
    {
     "data": {
      "text/plain": [
       "['blue', 'green']"
      ]
     },
     "execution_count": 50,
     "metadata": {},
     "output_type": "execute_result"
    }
   ],
   "source": [
    "colors"
   ]
  },
  {
   "cell_type": "markdown",
   "id": "639a57f2",
   "metadata": {},
   "source": [
    "## Task 4: List Manipulation"
   ]
  },
  {
   "cell_type": "markdown",
   "id": "dc37159c",
   "metadata": {},
   "source": [
    "#### Create a list called groceries with initial items: 'bread', 'milk', 'eggs', 'butter'. Print the final list of groceries."
   ]
  },
  {
   "cell_type": "code",
   "execution_count": 51,
   "id": "833b74af",
   "metadata": {},
   "outputs": [],
   "source": [
    "groceries = ['bread','milk','eggs','butter']"
   ]
  },
  {
   "cell_type": "code",
   "execution_count": 52,
   "id": "69d54af5",
   "metadata": {},
   "outputs": [
    {
     "data": {
      "text/plain": [
       "['bread', 'milk', 'eggs', 'butter']"
      ]
     },
     "execution_count": 52,
     "metadata": {},
     "output_type": "execute_result"
    }
   ],
   "source": [
    "groceries"
   ]
  },
  {
   "cell_type": "markdown",
   "id": "fa5659b4",
   "metadata": {},
   "source": [
    "#### Add 'cheese' to the end of the list. Remove 'milk' from the list."
   ]
  },
  {
   "cell_type": "code",
   "execution_count": 53,
   "id": "eb05c232",
   "metadata": {},
   "outputs": [],
   "source": [
    "groceries.append('cheese')"
   ]
  },
  {
   "cell_type": "code",
   "execution_count": 55,
   "id": "68333428",
   "metadata": {},
   "outputs": [
    {
     "data": {
      "text/plain": [
       "['bread', 'milk', 'eggs', 'butter', 'cheese']"
      ]
     },
     "execution_count": 55,
     "metadata": {},
     "output_type": "execute_result"
    }
   ],
   "source": [
    "groceries"
   ]
  },
  {
   "cell_type": "markdown",
   "id": "ca4a410f",
   "metadata": {},
   "source": [
    "#### Insert 'yogurt' at index 1."
   ]
  },
  {
   "cell_type": "code",
   "execution_count": 56,
   "id": "7e13a4cd",
   "metadata": {},
   "outputs": [],
   "source": [
    "groceries.insert(1,'yogurt')"
   ]
  },
  {
   "cell_type": "code",
   "execution_count": 57,
   "id": "4d7cd968",
   "metadata": {},
   "outputs": [
    {
     "data": {
      "text/plain": [
       "['bread', 'yogurt', 'milk', 'eggs', 'butter', 'cheese']"
      ]
     },
     "execution_count": 57,
     "metadata": {},
     "output_type": "execute_result"
    }
   ],
   "source": [
    "groceries"
   ]
  }
 ],
 "metadata": {
  "kernelspec": {
   "display_name": "Python 3 (ipykernel)",
   "language": "python",
   "name": "python3"
  },
  "language_info": {
   "codemirror_mode": {
    "name": "ipython",
    "version": 3
   },
   "file_extension": ".py",
   "mimetype": "text/x-python",
   "name": "python",
   "nbconvert_exporter": "python",
   "pygments_lexer": "ipython3",
   "version": "3.11.4"
  }
 },
 "nbformat": 4,
 "nbformat_minor": 5
}
