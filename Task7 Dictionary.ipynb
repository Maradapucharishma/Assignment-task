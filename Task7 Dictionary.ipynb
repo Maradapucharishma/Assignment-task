{
 "cells": [
  {
   "cell_type": "code",
   "execution_count": null,
   "id": "c649efd9",
   "metadata": {},
   "outputs": [],
   "source": [
    "Task 1: Dictionary Basics Create a Python program that defines a dictionary to store information about your favorite book. Include the title, author, publication year, and genre as key-value pairs. Print out the dictionary.and do atleast 5 dictionary methods on it.\n",
    "\n",
    "Task 2: Dictionary Lookup Write a Python program that simulates a simple dictionary for translating English words to Spanish. Define a dictionary containing a few English words as keys and their corresponding Spanish translations as values. Allow users to enter an English word, and then display its Spanish translation if it exists in the dictionary.(use google for English to Spanish translator)\n",
    "\n",
    "Task 3: Student Grades Create a Python program that stores the grades of five students in a dictionary. Allow users to input the names of the students and their respective grades. Calculate and display the average grade of the students.\n",
    "\n",
    "Task 4: Contact List Build a basic contact list using a dictionary. Initially, the dictionary can be empty. Allow users to add new contacts with names and phone numbers. Users should also be able to search for contacts by name and display their phone numbers(use in operator).\n",
    "\n",
    "Task 5: Dictionary Iteration Write a Python program that defines a dictionary containing the names of fruits as keys and their corresponding colors as values (e.g., 'apple': 'red').Do atleast 5 dictionary methods on it.\n",
    "\n",
    " "
   ]
  },
  {
   "cell_type": "markdown",
   "id": "8dd91698",
   "metadata": {},
   "source": [
    "#### Task 1: Dictionary Basics Create a Python program that defines a dictionary to store information about your favorite book. Include the title, author, publication year, and genre as key-value pairs. Print out the dictionary.and do atleast 5 dictionary methods on it."
   ]
  },
  {
   "cell_type": "code",
   "execution_count": 8,
   "id": "2ce35bc5",
   "metadata": {},
   "outputs": [],
   "source": [
    "favourite_book ={\"Title\" : \"One day Life will change\",\"Author\" : \"Saranya Umakanthan\",\"pulication year\" : \"2020\",\"Genre\" : \"Romance novel\"}"
   ]
  },
  {
   "cell_type": "code",
   "execution_count": 9,
   "id": "579db884",
   "metadata": {},
   "outputs": [
    {
     "data": {
      "text/plain": [
       "{'Title': 'One day Life will change',\n",
       " 'Author': 'Saranya Umakanthan',\n",
       " 'pulication year': '2020',\n",
       " 'Genre': 'Romance novel'}"
      ]
     },
     "execution_count": 9,
     "metadata": {},
     "output_type": "execute_result"
    }
   ],
   "source": [
    "favourite_book"
   ]
  },
  {
   "cell_type": "code",
   "execution_count": 10,
   "id": "f111c409",
   "metadata": {},
   "outputs": [
    {
     "data": {
      "text/plain": [
       "{'Title': 'One day Life will change',\n",
       " 'Author': 'Saranya Umakanthan',\n",
       " 'pulication year': '2020',\n",
       " 'Genre': 'Romance novel'}"
      ]
     },
     "execution_count": 10,
     "metadata": {},
     "output_type": "execute_result"
    }
   ],
   "source": [
    "favourite_book.copy() #shallow copy"
   ]
  },
  {
   "cell_type": "code",
   "execution_count": 11,
   "id": "51bfe792",
   "metadata": {},
   "outputs": [
    {
     "data": {
      "text/plain": [
       "'One day Life will change'"
      ]
     },
     "execution_count": 11,
     "metadata": {},
     "output_type": "execute_result"
    }
   ],
   "source": [
    "favourite_book.get('Title') #accessing element using key"
   ]
  },
  {
   "cell_type": "code",
   "execution_count": 12,
   "id": "b4bff062",
   "metadata": {},
   "outputs": [
    {
     "data": {
      "text/plain": [
       "dict_items([('Title', 'One day Life will change'), ('Author', 'Saranya Umakanthan'), ('pulication year', '2020'), ('Genre', 'Romance novel')])"
      ]
     },
     "execution_count": 12,
     "metadata": {},
     "output_type": "execute_result"
    }
   ],
   "source": [
    "favourite_book.items() #returns the items,item means combination of key and value"
   ]
  },
  {
   "cell_type": "code",
   "execution_count": 13,
   "id": "8b2fdfa2",
   "metadata": {},
   "outputs": [
    {
     "data": {
      "text/plain": [
       "dict_values(['One day Life will change', 'Saranya Umakanthan', '2020', 'Romance novel'])"
      ]
     },
     "execution_count": 13,
     "metadata": {},
     "output_type": "execute_result"
    }
   ],
   "source": [
    "favourite_book.values() #returns values only"
   ]
  },
  {
   "cell_type": "code",
   "execution_count": 16,
   "id": "10f5b8d5",
   "metadata": {},
   "outputs": [],
   "source": [
    "favourite_book.update({\"Theme\":\"life\"}) #adding"
   ]
  },
  {
   "cell_type": "code",
   "execution_count": 17,
   "id": "3dc81467",
   "metadata": {},
   "outputs": [
    {
     "data": {
      "text/plain": [
       "{'Title': 'One day Life will change',\n",
       " 'Author': 'Saranya Umakanthan',\n",
       " 'pulication year': '2020',\n",
       " 'Genre': 'Romance novel',\n",
       " 'Theme': 'life'}"
      ]
     },
     "execution_count": 17,
     "metadata": {},
     "output_type": "execute_result"
    }
   ],
   "source": [
    "favourite_book"
   ]
  },
  {
   "cell_type": "code",
   "execution_count": 18,
   "id": "250272f6",
   "metadata": {},
   "outputs": [
    {
     "data": {
      "text/plain": [
       "dict_keys(['Title', 'Author', 'pulication year', 'Genre', 'Theme'])"
      ]
     },
     "execution_count": 18,
     "metadata": {},
     "output_type": "execute_result"
    }
   ],
   "source": [
    "favourite_book.keys() #returns key values only"
   ]
  },
  {
   "cell_type": "code",
   "execution_count": 19,
   "id": "c63bb6b6",
   "metadata": {},
   "outputs": [
    {
     "data": {
      "text/plain": [
       "'life'"
      ]
     },
     "execution_count": 19,
     "metadata": {},
     "output_type": "execute_result"
    }
   ],
   "source": [
    "favourite_book.pop(\"Theme\") #deleting"
   ]
  },
  {
   "cell_type": "code",
   "execution_count": 20,
   "id": "b0dd1eb5",
   "metadata": {},
   "outputs": [
    {
     "data": {
      "text/plain": [
       "{'Title': 'One day Life will change',\n",
       " 'Author': 'Saranya Umakanthan',\n",
       " 'pulication year': '2020',\n",
       " 'Genre': 'Romance novel'}"
      ]
     },
     "execution_count": 20,
     "metadata": {},
     "output_type": "execute_result"
    }
   ],
   "source": [
    "favourite_book"
   ]
  },
  {
   "cell_type": "markdown",
   "id": "96b3b4ac",
   "metadata": {},
   "source": [
    "#### Task 2: Dictionary Lookup Write a Python program that simulates a simple dictionary for translating English words to Spanish. Define a dictionary containing a few English words as keys and their corresponding Spanish translations as values. Allow users to enter an English word, and then display its Spanish translation if it exists in the dictionary.(use google for English to Spanish translator)"
   ]
  },
  {
   "cell_type": "code",
   "execution_count": 21,
   "id": "638c0330",
   "metadata": {},
   "outputs": [],
   "source": [
    "spanish = {\"Hello\" : \"Hola\",\"How are you\" : \"como estas\",\"Bye\" : \"adios\",\"Thank you\" : \"gracias\",\"sorry\" : \"Lo siento\"}"
   ]
  },
  {
   "cell_type": "code",
   "execution_count": 23,
   "id": "d542249d",
   "metadata": {},
   "outputs": [
    {
     "data": {
      "text/plain": [
       "'Hola'"
      ]
     },
     "execution_count": 23,
     "metadata": {},
     "output_type": "execute_result"
    }
   ],
   "source": [
    "spanish[\"Hello\"]"
   ]
  },
  {
   "cell_type": "code",
   "execution_count": 24,
   "id": "0883b603",
   "metadata": {},
   "outputs": [
    {
     "data": {
      "text/plain": [
       "'como estas'"
      ]
     },
     "execution_count": 24,
     "metadata": {},
     "output_type": "execute_result"
    }
   ],
   "source": [
    "spanish.get(\"How are you\")"
   ]
  },
  {
   "cell_type": "code",
   "execution_count": 26,
   "id": "817666ef",
   "metadata": {},
   "outputs": [
    {
     "data": {
      "text/plain": [
       "'gracias'"
      ]
     },
     "execution_count": 26,
     "metadata": {},
     "output_type": "execute_result"
    }
   ],
   "source": [
    "spanish[\"Thank you\"]"
   ]
  },
  {
   "cell_type": "markdown",
   "id": "c6fb5a2f",
   "metadata": {},
   "source": [
    "#### Task 3: Student Grades Create a Python program that stores the grades of five students in a dictionary. Allow users to input the names of the students and their respective grades. Calculate and display the average grade of the students."
   ]
  },
  {
   "cell_type": "code",
   "execution_count": 1,
   "id": "385bae35",
   "metadata": {},
   "outputs": [
    {
     "name": "stdout",
     "output_type": "stream",
     "text": [
      "Enter student name: Anusha\n",
      "Enter the grade : 8.5\n",
      "Enter student name: bhavani\n",
      "Enter the grade : 8.0\n",
      "Enter student name: chandini\n",
      "Enter the grade : 7.8\n",
      "Enter student name: durga\n",
      "Enter the grade : 8.5\n",
      "Enter student name: gayathri\n",
      "Enter the grade : 7.5\n"
     ]
    }
   ],
   "source": [
    "grades = {}\n",
    "student1 = input(\"Enter student name: \")\n",
    "grade1 = float(input(\"Enter the grade : \"))\n",
    "student2 = input(\"Enter student name: \")\n",
    "grade2 = float(input(\"Enter the grade : \"))\n",
    "student3 = input(\"Enter student name: \")\n",
    "grade3 = float(input(\"Enter the grade : \"))\n",
    "student4 = input(\"Enter student name: \")\n",
    "grade4 = float(input(\"Enter the grade : \"))\n",
    "student5 = input(\"Enter student name: \")\n",
    "grade5 = float(input(\"Enter the grade : \"))\n",
    "grades[student1] = grade1\n",
    "grades[student2] = grade2\n",
    "grades[student3] = grade3\n",
    "grades[student4] = grade4\n",
    "grades[student5] = grade5"
   ]
  },
  {
   "cell_type": "code",
   "execution_count": 3,
   "id": "aa1390e4",
   "metadata": {},
   "outputs": [
    {
     "name": "stdout",
     "output_type": "stream",
     "text": [
      "{'Anusha': 8.5, 'bhavani': 8.0, 'chandini': 7.8, 'durga': 8.5, 'gayathri': 7.5}\n",
      "average grade of students is  8.059999999999999\n"
     ]
    }
   ],
   "source": [
    "values = sum(grades.values())\n",
    "total = len(grades.keys())\n",
    "avg = values/total\n",
    "print(grades)\n",
    "print(\"Average of grades is \" , avg)"
   ]
  },
  {
   "cell_type": "code",
   "execution_count": 13,
   "id": "fa84c29c",
   "metadata": {},
   "outputs": [
    {
     "data": {
      "text/plain": [
       "78"
      ]
     },
     "execution_count": 13,
     "metadata": {},
     "output_type": "execute_result"
    }
   ],
   "source": [
    "students_marks.get(\"Anusha\")"
   ]
  },
  {
   "cell_type": "code",
   "execution_count": 23,
   "id": "a321374a",
   "metadata": {},
   "outputs": [],
   "source": [
    "values = students_marks.values()"
   ]
  },
  {
   "cell_type": "code",
   "execution_count": 24,
   "id": "208b58d9",
   "metadata": {},
   "outputs": [
    {
     "data": {
      "text/plain": [
       "dict_values([78, 86, 78, 66, 90])"
      ]
     },
     "execution_count": 24,
     "metadata": {},
     "output_type": "execute_result"
    }
   ],
   "source": [
    "grade"
   ]
  },
  {
   "cell_type": "code",
   "execution_count": 25,
   "id": "7ec5cf31",
   "metadata": {},
   "outputs": [],
   "source": [
    "average = sum(values)/len(values)"
   ]
  },
  {
   "cell_type": "code",
   "execution_count": 26,
   "id": "c9f2009b",
   "metadata": {},
   "outputs": [
    {
     "data": {
      "text/plain": [
       "79.6"
      ]
     },
     "execution_count": 26,
     "metadata": {},
     "output_type": "execute_result"
    }
   ],
   "source": [
    "average"
   ]
  },
  {
   "cell_type": "markdown",
   "id": "52c6a906",
   "metadata": {},
   "source": [
    "#### Task 4: Contact List Build a basic contact list using a dictionary. Initially, the dictionary can be empty. Allow users to add new contacts with names and phone numbers. Users should also be able to search for contacts by name and display their phone numbers(use in operator)."
   ]
  },
  {
   "cell_type": "code",
   "execution_count": 2,
   "id": "663ddf7f",
   "metadata": {},
   "outputs": [
    {
     "name": "stdout",
     "output_type": "stream",
     "text": [
      "Enter the contact's name: Alekhya\n",
      "Enter the contact's phone number: 9887666567\n",
      "Enter the contact's name: Bhavana\n",
      "Enter the contact's phone number: 7585785969\n",
      "Enter the contact's name: Chandrika\n",
      "Enter the contact's phone number: 6848495050\n"
     ]
    },
    {
     "data": {
      "text/plain": [
       "{'Alekhya': 9887666567, 'Bhavana': 7585785969, 'Chandrika': 6848495050}"
      ]
     },
     "execution_count": 2,
     "metadata": {},
     "output_type": "execute_result"
    }
   ],
   "source": [
    "contacts = {}\n",
    "name1 = input(\"Enter the contact's name: \")\n",
    "phone_number1 = int(input(\"Enter the contact's phone number: \"))\n",
    "name2 = input(\"Enter the contact's name: \")\n",
    "phone_number2 = int(input(\"Enter the contact's phone number: \"))\n",
    "name3 = input(\"Enter the contact's name: \")\n",
    "phone_number3 = int(input(\"Enter the contact's phone number: \"))\n",
    "contacts[name1] = phone_number1\n",
    "contacts[name2] = phone_number2\n",
    "contacts[name3] = phone_number3\n",
    "contacts"
   ]
  },
  {
   "cell_type": "code",
   "execution_count": 3,
   "id": "a5fefe91",
   "metadata": {},
   "outputs": [
    {
     "name": "stdout",
     "output_type": "stream",
     "text": [
      "Enter contact name : Bhavana\n"
     ]
    },
    {
     "data": {
      "text/plain": [
       "7585785969"
      ]
     },
     "execution_count": 3,
     "metadata": {},
     "output_type": "execute_result"
    }
   ],
   "source": [
    "search = input(\"Enter contact name : \")\n",
    "contacts[search]"
   ]
  },
  {
   "cell_type": "code",
   "execution_count": 4,
   "id": "8264890f",
   "metadata": {},
   "outputs": [
    {
     "data": {
      "text/plain": [
       "True"
      ]
     },
     "execution_count": 4,
     "metadata": {},
     "output_type": "execute_result"
    }
   ],
   "source": [
    "\"Bhavana\" in contacts"
   ]
  },
  {
   "cell_type": "markdown",
   "id": "d6ffa2a9",
   "metadata": {},
   "source": [
    "#### Task 5: Dictionary Iteration Write a Python program that defines a dictionary containing the names of fruits as keys and their corresponding colors as values (e.g., 'apple': 'red').Do atleast 5 dictionary methods on it."
   ]
  },
  {
   "cell_type": "code",
   "execution_count": 29,
   "id": "f9b939db",
   "metadata": {},
   "outputs": [],
   "source": [
    "fruits = {\"guava\" : \"green\",\"papaya\" : \"orange\",\"apple\" : \"red\", \"dragon\" : \"pink\",\"mango\" : \"yellow\"}"
   ]
  },
  {
   "cell_type": "code",
   "execution_count": 30,
   "id": "52e50efe",
   "metadata": {},
   "outputs": [
    {
     "data": {
      "text/plain": [
       "dict_items([('guava', 'green'), ('papaya', 'orange'), ('apple', 'red'), ('dragon', 'pink'), ('mango', 'yellow')])"
      ]
     },
     "execution_count": 30,
     "metadata": {},
     "output_type": "execute_result"
    }
   ],
   "source": [
    "fruits.items()"
   ]
  },
  {
   "cell_type": "code",
   "execution_count": 31,
   "id": "af5515b1",
   "metadata": {},
   "outputs": [
    {
     "data": {
      "text/plain": [
       "'yellow'"
      ]
     },
     "execution_count": 31,
     "metadata": {},
     "output_type": "execute_result"
    }
   ],
   "source": [
    "fruits.get(\"mango\")"
   ]
  },
  {
   "cell_type": "code",
   "execution_count": 32,
   "id": "ee643b24",
   "metadata": {},
   "outputs": [
    {
     "data": {
      "text/plain": [
       "dict_keys(['guava', 'papaya', 'apple', 'dragon', 'mango'])"
      ]
     },
     "execution_count": 32,
     "metadata": {},
     "output_type": "execute_result"
    }
   ],
   "source": [
    "fruits.keys()"
   ]
  },
  {
   "cell_type": "code",
   "execution_count": 33,
   "id": "199bbf2f",
   "metadata": {},
   "outputs": [
    {
     "data": {
      "text/plain": [
       "dict_values(['green', 'orange', 'red', 'pink', 'yellow'])"
      ]
     },
     "execution_count": 33,
     "metadata": {},
     "output_type": "execute_result"
    }
   ],
   "source": [
    "fruits.values()"
   ]
  },
  {
   "cell_type": "code",
   "execution_count": 34,
   "id": "15803654",
   "metadata": {},
   "outputs": [
    {
     "data": {
      "text/plain": [
       "'red'"
      ]
     },
     "execution_count": 34,
     "metadata": {},
     "output_type": "execute_result"
    }
   ],
   "source": [
    "fruits.pop(\"apple\")"
   ]
  },
  {
   "cell_type": "code",
   "execution_count": 35,
   "id": "f70fe0b2",
   "metadata": {},
   "outputs": [
    {
     "data": {
      "text/plain": [
       "{'guava': 'green', 'papaya': 'orange', 'dragon': 'pink', 'mango': 'yellow'}"
      ]
     },
     "execution_count": 35,
     "metadata": {},
     "output_type": "execute_result"
    }
   ],
   "source": [
    "fruits"
   ]
  },
  {
   "cell_type": "code",
   "execution_count": 36,
   "id": "b8bd57e1",
   "metadata": {},
   "outputs": [],
   "source": [
    "fruits.update({\"orange\" : \"orange\"})"
   ]
  },
  {
   "cell_type": "code",
   "execution_count": 37,
   "id": "1fb2577a",
   "metadata": {},
   "outputs": [
    {
     "data": {
      "text/plain": [
       "{'guava': 'green',\n",
       " 'papaya': 'orange',\n",
       " 'dragon': 'pink',\n",
       " 'mango': 'yellow',\n",
       " 'orange': 'orange'}"
      ]
     },
     "execution_count": 37,
     "metadata": {},
     "output_type": "execute_result"
    }
   ],
   "source": [
    "fruitss"
   ]
  }
 ],
 "metadata": {
  "kernelspec": {
   "display_name": "Python 3 (ipykernel)",
   "language": "python",
   "name": "python3"
  },
  "language_info": {
   "codemirror_mode": {
    "name": "ipython",
    "version": 3
   },
   "file_extension": ".py",
   "mimetype": "text/x-python",
   "name": "python",
   "nbconvert_exporter": "python",
   "pygments_lexer": "ipython3",
   "version": "3.11.4"
  }
 },
 "nbformat": 4,
 "nbformat_minor": 5
}
